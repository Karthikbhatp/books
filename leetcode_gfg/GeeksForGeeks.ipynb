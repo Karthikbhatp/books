{
 "cells": [
  {
   "cell_type": "code",
   "execution_count": 1,
   "metadata": {},
   "outputs": [],
   "source": [
    "import java.util.Arrays;\n",
    "import java.util.List;\n",
    "\n",
    "static boolean assertEquals(Integer actual, Integer expected) {\n",
    "\treturn actual.equals(expected);\n",
    "}\n",
    "\n",
    "static boolean assertEquals(Float actual, Float expected) {\n",
    "\treturn actual.equals(expected);\n",
    "}\n",
    "\n",
    "static boolean assertEquals(Double actual, Double expected) {\n",
    "\treturn actual.equals(expected);\n",
    "}\n",
    "\n",
    "static boolean assertEquals(Character actual, Character expected) {\n",
    "\treturn actual.equals(expected);\n",
    "}\n",
    "\n",
    "static boolean assertArrayEquals(int[] actual, int[] expected) {\n",
    "\treturn Arrays.equals(actual, expected);\n",
    "}\n",
    "\n",
    "static boolean assertListEquals(List<Object> actual, List<Object> expected) {\n",
    "\treturn actual.equals(expected);\n",
    "}"
   ]
  },
  {
   "cell_type": "code",
   "execution_count": 5,
   "metadata": {},
   "outputs": [],
   "source": [
    "/* Node Class */\n",
    "class Node \n",
    "{ \n",
    "    int data; \n",
    "    Node next; \n",
    "       \n",
    "    // Constructor to create a new node \n",
    "    Node(int d) {data = d; next = null; } \n",
    "} "
   ]
  },
  {
   "cell_type": "code",
   "execution_count": 6,
   "metadata": {},
   "outputs": [],
   "source": [
    "// Linked List Class \n",
    "class LinkedList \n",
    "{ \n",
    "    static Node head;  // head of list \n",
    "}"
   ]
  },
  {
   "cell_type": "code",
   "execution_count": 13,
   "metadata": {},
   "outputs": [],
   "source": [
    "/* This function is in LinkedList class. Inserts a \n",
    "new Node at front of the list. This method is \n",
    "defined inside LinkedList class shown above */\n",
    "public void push(int new_data, LinkedList l) \n",
    "{ \n",
    "\t/* 1 & 2: Allocate the Node & \n",
    "\t\t\tPut in the data*/\n",
    "\tNode new_node = new Node(new_data); \n",
    "\n",
    "\t/* 3. Make next of new Node as head */\n",
    "\tnew_node.next = l.head; \n",
    "\n",
    "\t/* 4. Move the head to point to new Node */\n",
    "\tl.head = new_node; \n",
    "} \n"
   ]
  },
  {
   "cell_type": "code",
   "execution_count": 8,
   "metadata": {},
   "outputs": [],
   "source": [
    "/* This function is in LinkedList class. \n",
    "Inserts a new node after the given prev_node. This method is \n",
    "defined inside LinkedList class shown above */\n",
    "public void insertAfter(Node prev_node, int new_data) \n",
    "{ \n",
    "\t/* 1. Check if the given Node is null */\n",
    "\tif (prev_node == null) \n",
    "\t{ \n",
    "\t\tSystem.out.println(\"The given previous node cannot be null\"); \n",
    "\t\treturn; \n",
    "\t} \n",
    "\n",
    "\t/* 2. Allocate the Node & \n",
    "\t3. Put in the data*/\n",
    "\tNode new_node = new Node(new_data); \n",
    "\n",
    "\t/* 4. Make next of new Node as next of prev_node */\n",
    "\tnew_node.next = prev_node.next; \n",
    "\n",
    "\t/* 5. make next of prev_node as new_node */\n",
    "\tprev_node.next = new_node; \n",
    "} \n"
   ]
  },
  {
   "cell_type": "code",
   "execution_count": 9,
   "metadata": {},
   "outputs": [],
   "source": [
    "/* Appends a new node at the end. This method is \n",
    "defined inside LinkedList class shown above */\n",
    "public void append(int new_data) \n",
    "{ \n",
    "\t/* 1. Allocate the Node & \n",
    "\t2. Put in the data \n",
    "\t3. Set next as null */\n",
    "\tNode new_node = new Node(new_data); \n",
    "\n",
    "\t/* 4. If the Linked List is empty, then make the \n",
    "\t\tnew node as head */\n",
    "\tif (head == null) \n",
    "\t{ \n",
    "\t\thead = new Node(new_data); \n",
    "\t\treturn; \n",
    "\t} \n",
    "\n",
    "\t/* 4. This new node is going to be the last node, so \n",
    "\t\tmake next of it as null */\n",
    "\tnew_node.next = null; \n",
    "\n",
    "\t/* 5. Else traverse till the last node */\n",
    "\tNode last = head; \n",
    "\twhile (last.next != null) \n",
    "\t\tlast = last.next; \n",
    "\n",
    "\t/* 6. Change the next of last node */\n",
    "\tlast.next = new_node; \n",
    "\treturn; \n",
    "} \n"
   ]
  },
  {
   "cell_type": "code",
   "execution_count": 16,
   "metadata": {},
   "outputs": [],
   "source": [
    "public void printList(LinkedList l) \n",
    "    { \n",
    "        Node tnode = l.head; \n",
    "        while (tnode != null) \n",
    "        { \n",
    "            System.out.print(tnode.data+\" \"); \n",
    "            tnode = tnode.next; \n",
    "        } \n",
    "    }"
   ]
  },
  {
   "cell_type": "code",
   "execution_count": 17,
   "metadata": {},
   "outputs": [
    {
     "name": "stdout",
     "output_type": "stream",
     "text": [
      "\n",
      "Created Linked list is: \n",
      "1 7 "
     ]
    }
   ],
   "source": [
    " /* Start with the empty list */\n",
    "        LinkedList llist = new LinkedList(); \n",
    "  \n",
    "        // Insert 7 at the beginning. So linked list becomes \n",
    "        // 7->6->NUllist \n",
    "        push(7,llist); \n",
    "  \n",
    "        // Insert 1 at the beginning. So linked list becomes \n",
    "        // 1->7->6->NUllist \n",
    "        push(1, llist); \n",
    "  \n",
    "        System.out.println(\"\\nCreated Linked list is: \"); \n",
    "        printList(llist); "
   ]
  },
  {
   "cell_type": "code",
   "execution_count": null,
   "metadata": {},
   "outputs": [],
   "source": []
  }
 ],
 "metadata": {
  "kernelspec": {
   "display_name": "Java",
   "language": "java",
   "name": "java"
  },
  "language_info": {
   "codemirror_mode": "java",
   "file_extension": ".jshell",
   "mimetype": "text/x-java-source",
   "name": "Java",
   "pygments_lexer": "java",
   "version": "12.0.1+12"
  }
 },
 "nbformat": 4,
 "nbformat_minor": 4
}
