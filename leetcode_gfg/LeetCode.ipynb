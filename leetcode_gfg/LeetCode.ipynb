{
 "cells": [
  {
   "cell_type": "code",
   "execution_count": 1,
   "metadata": {},
   "outputs": [],
   "source": [
    "import java.util.Arrays;\n",
    "import java.util.List;\n",
    "\n",
    "static boolean assertEquals(Integer actual, Integer expected) {\n",
    "\treturn actual.equals(expected);\n",
    "}\n",
    "\n",
    "static boolean assertEquals(Float actual, Float expected) {\n",
    "\treturn actual.equals(expected);\n",
    "}\n",
    "\n",
    "static boolean assertEquals(Double actual, Double expected) {\n",
    "\treturn actual.equals(expected);\n",
    "}\n",
    "\n",
    "static boolean assertEquals(Character actual, Character expected) {\n",
    "\treturn actual.equals(expected);\n",
    "}\n",
    "\n",
    "static boolean assertArrayEquals(int[] actual, int[] expected) {\n",
    "\treturn Arrays.equals(actual, expected);\n",
    "}\n",
    "\n",
    "static boolean assertListEquals(List<Object> actual, List<Object> expected) {\n",
    "\treturn actual.equals(expected);\n",
    "}"
   ]
  },
  {
   "cell_type": "markdown",
   "metadata": {},
   "source": [
    "# Leetcode"
   ]
  },
  {
   "cell_type": "markdown",
   "metadata": {},
   "source": [
    "## 1\n",
    "### Easy\n",
    "\n",
    "#### Given an array of integers, return indices of the two numbers such that they add up to a specific target.\n",
    "\n",
    "#### You may assume that each input would have exactly one solution, and you may not use the same element twice.\n",
    "\n",
    "### Example:\n",
    "\n",
    "\n",
    "```\n",
    "Given nums = [2, 7, 11, 15], target = 9,\n",
    "\n",
    "Because nums[0] + nums[1] = 2 + 7 = 9,\n",
    "return [0, 1].\n",
    "```"
   ]
  },
  {
   "cell_type": "code",
   "execution_count": 2,
   "metadata": {},
   "outputs": [],
   "source": [
    "public static int[] twoSum(int[] nums, int target) {\n",
    "\tint[] ret = new int[2];\n",
    "\tfor (int i = 0; i < nums.length; i++) {\n",
    "\t\tfor (int j = i + 1; j < nums.length; j++) {\n",
    "\t\t\tif (nums[i] + nums[j] == target) {\n",
    "\t\t\t\tret[0] = i;\n",
    "\t\t\t\tret[1] = j;\n",
    "\t\t\t\treturn ret;\n",
    "\t\t\t}\n",
    "\t\t}\n",
    "\t}\n",
    "\treturn ret;\n",
    "}"
   ]
  },
  {
   "cell_type": "code",
   "execution_count": 3,
   "metadata": {},
   "outputs": [
    {
     "data": {
      "text/plain": [
       "[0, 1]"
      ]
     },
     "execution_count": 3,
     "metadata": {},
     "output_type": "execute_result"
    }
   ],
   "source": [
    "int[] arr = { 2, 7, 11, 15 };\n",
    "var target = 9;\n",
    "int[] output = twoSum(arr, target);\n",
    "Arrays.toString(output)"
   ]
  },
  {
   "cell_type": "code",
   "execution_count": 4,
   "metadata": {},
   "outputs": [
    {
     "data": {
      "text/plain": [
       "true"
      ]
     },
     "execution_count": 4,
     "metadata": {},
     "output_type": "execute_result"
    }
   ],
   "source": [
    "int[] expected = { 0, 1 };\n",
    "boolean val = assertArrayEquals(expected, output);\n",
    "val"
   ]
  },
  {
   "cell_type": "markdown",
   "metadata": {},
   "source": [
    "## 2\n",
    "### Medium\n",
    "\n",
    "\n",
    "#### You are given two non-empty linked lists representing two non-negative integers. The digits are stored in reverse order and each of their nodes contain a single digit. Add the two numbers and return it as a linked list.\n",
    "\n",
    "    \n",
    "#### You may assume the two numbers do not contain any leading zero, except the number 0 itself.\n",
    "\n",
    "\n",
    "\n",
    "### Example:\n",
    "\n",
    "\n",
    "```\n",
    "Input: (2 -> 4 -> 3) + (5 -> 6 -> 4)\n",
    "Output: 7 -> 0 -> 8\n",
    "Explanation: 342 + 465 = 807. \n",
    "```\n"
   ]
  },
  {
   "cell_type": "code",
   "execution_count": 5,
   "metadata": {},
   "outputs": [],
   "source": [
    "// Definition for singly-linked list.\n",
    "public class ListNode {\n",
    "    int val;\n",
    "    ListNode next;\n",
    "    ListNode(int x) { val = x; }\n",
    "}\n",
    "\n",
    "public void printListNode(ListNode l){\n",
    "    while(null != l){\n",
    "        System.out.print(l.val + \" \");\n",
    "        l = l.next;\n",
    "    }\n",
    "}"
   ]
  },
  {
   "cell_type": "code",
   "execution_count": 6,
   "metadata": {},
   "outputs": [],
   "source": [
    "public ListNode addTwoNumbers(ListNode l1, ListNode l2) {\n",
    "    ListNode result = new ListNode(0);\n",
    "    ListNode tmp = result;\n",
    "    int sum = 0;\n",
    "    while (l1 != null || l2 != null) {\n",
    "        sum /= 10;\n",
    "        if (l1 != null) {\n",
    "            sum += l1.val;\n",
    "            l1 = l1.next;\n",
    "        }\n",
    "        if (l2 != null) {\n",
    "            sum += l2.val;\n",
    "            l2 = l2.next;\n",
    "        }\n",
    "        tmp.next = new ListNode(sum % 10);\n",
    "        tmp = tmp.next;\n",
    "    }\n",
    "    if (sum / 10 == 1) {\n",
    "        tmp.next = new ListNode(1);//this means there's a carry, so we add additional 1, e.g. [5] + [5] = [0, 1]\n",
    "    }\n",
    "    return result.val == 0 ? result.next : result;\n",
    "}"
   ]
  },
  {
   "cell_type": "code",
   "execution_count": 7,
   "metadata": {},
   "outputs": [
    {
     "name": "stdout",
     "output_type": "stream",
     "text": [
      "7 0 8 "
     ]
    }
   ],
   "source": [
    "var l1 = new ListNode(2);\n",
    "var l1_2 = new ListNode(4);\n",
    "var l1_3 = new ListNode(3);\n",
    "l1.next = l1_2;\n",
    "l1_2.next = l1_3;\n",
    "\n",
    "\n",
    "var l2 = new ListNode(5);\n",
    "var l2_2 = new ListNode(6);\n",
    "var l2_3 = new ListNode(4);\n",
    "l2.next = l2_2;\n",
    "l2_2.next = l2_3;\n",
    "\n",
    "var sum = addTwoNumbers(l1,l2);\n",
    "printListNode(sum)\n"
   ]
  },
  {
   "cell_type": "code",
   "execution_count": null,
   "metadata": {},
   "outputs": [],
   "source": []
  }
 ],
 "metadata": {
  "kernelspec": {
   "display_name": "Java",
   "language": "java",
   "name": "java"
  },
  "language_info": {
   "codemirror_mode": "java",
   "file_extension": ".jshell",
   "mimetype": "text/x-java-source",
   "name": "Java",
   "pygments_lexer": "java",
   "version": "12.0.1+12"
  }
 },
 "nbformat": 4,
 "nbformat_minor": 4
}
