{
 "cells": [
  {
   "cell_type": "markdown",
   "metadata": {},
   "source": [
    "# Java concurrency in practice\n",
    "\n",
    "## Chapter - 1\n",
    "## Introduction"
   ]
  },
  {
   "cell_type": "markdown",
   "metadata": {},
   "source": [
    "### A (very) brief history of concurrency"
   ]
  },
  {
   "cell_type": "markdown",
   "metadata": {},
   "source": [
    "Writing correct programs is hard; writing correct concurrent programs is harder. There are simply more things that can go wrong in a concurrent program than in a sequential one. So, why do we bother with concurrency? Threads are an inescapable feature of the Java language, and they can simplify the develop- ment of complex systems by turning complicated asynchronous code into simpler straight-line code. In addition, threads are the easiest way to tap the computing power of multiprocessor systems. And, as processor counts increase, exploiting concurrency effectively will only become more important."
   ]
  },
  {
   "cell_type": "markdown",
   "metadata": {},
   "source": [
    "Several motivating factors led to the development of operating systems that allowed multiple programs to execute simultaneously:\n",
    "\n",
    "* __Resource utilization.__ Programs sometimes have to wait for external operations such as input or output, and while waiting can do no useful work. It is more efficient to use that wait time to let another program run.\n",
    "* __Fairness.__ Multiple users and programs may have equal claims on the machine’s resources. It is preferable to let them share the computer via finer-grained time slicing than to let one program run to completion and then start an- other.\n",
    "* __Convenience.__ It is often easier or more desirable to write several programs that each perform a single task and have them coordinate with each other as necessary than to write a single program that performs all the tasks."
   ]
  },
  {
   "cell_type": "markdown",
   "metadata": {},
   "source": [
    "### Benefits of threads\n"
   ]
  },
  {
   "cell_type": "markdown",
   "metadata": {},
   "source": [
    "When used properly, threads can reduce development and maintenance costs and improve the performance of complex applications. Threads make it easier to model how humans work and interact, by turning asynchronous workflows into mostly sequential ones. They can also turn otherwise convoluted code into straight-line code that is easier to write, read, and maintain."
   ]
  },
  {
   "cell_type": "markdown",
   "metadata": {},
   "source": [
    "#### Exploiting multiple processors: \n",
    "Multiprocessor systems used to be expensive and rare, found only in large data centers and scientific computing facilities. Today they are cheap and plentiful; even low-end server and midrange desktop systems often have multiple proc- essors. This trend will only accelerate; as it gets harder to scale up clock rates, processor manufacturers will instead put more processor cores on a single chip. All the major chip manufacturers have begun this transition, and we are already seeing machines with dramatically higher processor counts.\n",
    "\n",
    "Since the basic unit of scheduling is the thread, a program with only one thread can run on at most one processor at a time. On a two-processor sys- tem, a single-threaded program is giving up access to half the available CPU resources; on a 100-processor system, it is giving up access to 99%. "
   ]
  },
  {
   "cell_type": "markdown",
   "metadata": {},
   "source": [
    "#### Simplicity of modeling\n",
    "A complicated, asynchronous workflow can be decomposed into a number of simpler, synchronous workflows each running in a separate thread, interacting only with each other at specific synchronization points.\n",
    "\n",
    "Servlet writers do not need to worry about how many other requests are being processed at the same time or whether the socket input and output streams block; when a servlet’s service method is called in response to a web request, it can process the request synchronously as if it were a single-threaded program."
   ]
  },
  {
   "cell_type": "markdown",
   "metadata": {},
   "source": [
    "#### Simplified handling of asynchronous events\n",
    "A server application that accepts socket connections from multiple remote clients may be easier to develop when each connection is allocated its own thread and allowed to use synchronous I/O.\n",
    "\n",
    "If an application goes to read from a socket when no data is available, read blocks until some data is available. In a single-threaded application, this means that not only does processing the corresponding request stall, but processing of all requests stalls while the single thread is blocked. To avoid this problem, single- threaded server applications are forced to use nonblocking I/O, which is far more complicated and error-prone than synchronous I/O. However, if each request has its own thread, then blocking does not affect the processing of other requests."
   ]
  },
  {
   "cell_type": "markdown",
   "metadata": {},
   "source": [
    "#### More responsive user interfaces \n",
    "Modern GUI frameworks, such as the AWT and Swing toolkits, replace the main event loop with an event dispatch thread (EDT). When a user interface event such as a button press occurs, application-defined event handlers are called in the event thread. Most GUI frameworks are single-threaded subsystems, so the main event loop is effectively still present, but it runs in its own thread under the control of the GUI toolkit rather than the application."
   ]
  },
  {
   "cell_type": "markdown",
   "metadata": {},
   "source": [
    "### Risks of threads"
   ]
  },
  {
   "cell_type": "markdown",
   "metadata": {},
   "source": [
    "#### Safety hazards\n",
    "Thread safety can be unexpectedly subtle because, in the absence of sufficient synchronization, the ordering of operations in multiple threads is unpredictable and sometimes surprising. UnsafeSequence in Listing 1.1, which is supposed to generate a sequence of unique integer values, offers a simple illustration of how the interleaving of actions in multiple threads can lead to undesirable results. It behaves correctly in a single-threaded environment, but in a multithreaded environment does not."
   ]
  },
  {
   "cell_type": "code",
   "execution_count": 1,
   "metadata": {},
   "outputs": [],
   "source": [
    "// Without sleep also the program is worng in multithreaded enviroment\n",
    "public class UnsafeSequence {\n",
    "    private int value;\n",
    "\n",
    "    /**\n",
    "     * Returns a unique value.\n",
    "     */\n",
    "    public int getNext() {\n",
    "        try{\n",
    "            Thread.currentThread().sleep(10);\n",
    "        } catch(Exception e){\n",
    "        }\n",
    "        return value++;\n",
    "    }\n",
    "}"
   ]
  },
  {
   "cell_type": "code",
   "execution_count": 2,
   "metadata": {},
   "outputs": [],
   "source": [
    "UnsafeSequence unsafeSequence = new UnsafeSequence();\n",
    "Runnable runnable = () -> {\n",
    "\tSystem.out.print(unsafeSequence.getNext() + \", \");\n",
    "};"
   ]
  },
  {
   "cell_type": "code",
   "execution_count": 3,
   "metadata": {},
   "outputs": [
    {
     "name": "stdout",
     "output_type": "stream",
     "text": [
      "3, 37, 36, 35, 124, 34, 33, 32, 31, 159, 170, 30, 29, 177, 28, 187, 27, 26, 25, 24, 209, 23, 21, 22, 221, 228, 235, 20, 19, 18, 250, 17, 15, 16, 13, 270, 14, 12, 11, 10, 4, 2, 0, 1, 9, 8, 7, 6, 5, 320, 319, 318, 317, 316, 315, 313, 314, 312, 311, 310, 329, 309, 308, 307, 306, 305, 304, 303, 302, 301, 300, 299, 298, 297, 296, 295, 294, 335, 293, 292, 291, 290, 289, 288, 287, 286, 285, 284, 283, 282, 281, 280, 279, 278, 277, 276, 275, 274, 273, 272, 271, 269, 267, 379, 268, 266, 265, 264, 263, 262, 261, 260, 259, 258, 413, 257, 256, 255, 254, 253, 422, 252, 251, 249, 247, 248, 442, 246, 244, 245, 243, 242, 241, 463, 240, 239, 238, 237, 236, 234, 233, 232, 231, 230, 229, 227, 226, 225, 224, 223, 222, 220, 219, 218, 217, 216, 215, 214, 213, 212, 496, 211, 210, 208, 207, 206, 205, 203, 204, 202, 201, 200, 199, 198, 196, 197, 195, 194, 193, 192, 191, 503, 190, 189, 188, 186, 185, 184, 183, 182, 181, 180, 179, 178, 176, 531, 535, 175, 174, 173, 172, 171, 169, 168, 167, 166, 165, 164, 163, 162, 161, 160, 158, 157, 156, 153, 155, 154, 152, 151, 149, 150, 148, 147, 146, 145, 144, 143, 141, 142, 647, 140, 139, 138, 138, 137, 136, 134, 135, 134, 133, 132, 131, 131, 129, 130, 128, 127, 126, 125, 125, 122, 123, 81, 121, 85, 113, 115, 114, 112, 111, 110, 107, 108, 109, 105, 106, 103, 104, 102, 101, 99, 97, 100, 98, 96, 95, 94, 93, 92, 91, 90, 89, 88, 87, 86, 84, 83, 82, 708, 80, 79, 78, 77, 76, 730, 737, 738, 74, 75, 73, 71, 72, 120, 70, 69, 119, 118, 117, 67, 68, 66, 65, 64, 63, 775, 59, 58, 57, 116, 56, 55, 54, 62, 61, 60, 53, 52, 51, 50, 49, 48, 817, 47, 46, 46, 45, 44, 43, 42, 40, 41, 39, 38, 839, 838, 835, 836, 837, 834, 833, 832, 831, 830, 830, 829, 828, 827, 826, 825, 824, 823, 823, 822, 820, 821, 819, 818, 816, 815, 814, 813, 812, 811, 810, 809, 808, 807, 806, 805, 804, 803, 802, 801, 800, 799, 798, 797, 796, 795, 794, 793, 792, 791, 790, 789, 788, 786, 787, 785, 784, 783, 782, 781, 780, 779, 778, 777, 776, 774, 773, 772, 771, 770, 769, 768, 768, 767, 766, 765, 764, 763, 762, 761, 760, 759, 758, 757, 756, 754, 755, 753, 752, 751, 750, 749, 748, 747, 746, 745, 744, 742, 743, 741, 740, 739, 736, 735, 734, 732, 733, 731, 729, 728, 727, 725, 726, 724, 723, 722, 721, 720, 718, 718, 719, 717, 716, 715, 714, 713, 712, 711, 710, 709, 707, 706, 705, 704, 703, 702, 701, 700, 699, 698, 866, 697, 874, 696, 695, 694, 693, 692, 691, 690, 689, 688, 687, 686, 685, 684, 911, 683, 682, 680, 923, 681, 679, 930, 678, 677, 676, 940, 674, 675, 673, 672, 671, 956, 670, 669, 668, 667, 665, 664, 666, 971, 663, 662, 661, 660, 659, 658, 657, 656, 655, 654, 653, 652, 651, 650, 649, 648, 646, 645, 644, 643, 642, 641, 640, 639, 638, 637, 636, 635, 634, 633, 632, 631, 630, 629, 628, 627, 626, 625, 624, 623, 622, 621, 619, 618, 620, 617, 615, 616, 614, 613, 612, 610, 611, 609, 608, 607, 606, 605, 604, 603, 602, 601, 600, 599, 598, 597, 596, 595, 594, 593, 592, 591, 590, 588, 586, 589, 587, 585, 584, 583, 582, 581, 580, 579, 578, 577, 576, 575, 574, 573, 572, 570, 571, 569, 568, 566, 567, 564, 565, 563, 562, 561, 560, 559, 558, 557, 556, 555, 554, 553, 552, 551, 549, 550, 548, 547, 546, 545, 544, 543, 542, 541, 540, 539, 538, 537, 536, 534, 533, 532, 530, 528, 529, 527, 526, 525, 524, 523, 522, "
     ]
    }
   ],
   "source": [
    "ExecutorService executor = Executors.newFixedThreadPool(1001);\n",
    "for (int i = 0; i < 1001; i++) {\n",
    "\texecutor.submit(runnable);\n",
    "}\n",
    "executor.shutdown();"
   ]
  },
  {
   "cell_type": "code",
   "execution_count": 4,
   "metadata": {},
   "outputs": [],
   "source": [
    "public class Sequence {\n",
    "    private int nextValue;\n",
    "\n",
    "    public synchronized int getNext() {\n",
    "        return nextValue++;\n",
    "    }\n",
    "}"
   ]
  },
  {
   "cell_type": "code",
   "execution_count": 5,
   "metadata": {},
   "outputs": [],
   "source": [
    "Sequence safeSequence = new Sequence();\n",
    "Runnable runnable_1 = () -> {\n",
    "\tSystem.out.print(safeSequence.getNext() + \", \");\n",
    "};"
   ]
  },
  {
   "cell_type": "code",
   "execution_count": 6,
   "metadata": {},
   "outputs": [
    {
     "name": "stdout",
     "output_type": "stream",
     "text": [
      "0, 6, 5, 4, 3, 1, 2, 26, 31, 25, 24, 23, 22, 21, 20, 19, 18, 17, 16, 15, 14, 13, 73, 12, 11, 10, 9, 8, 7, 91, 90, 89, 88, 87, 86, 107, 85, 115, 84, 83, 82, 81, 80, 79, 143, 78, 77, 76, 75, 74, 72, 71, 70, 69, 68, 67, 66, 65, 64, 63, 62, 61, 60, 59, 58, 201, 57, 56, 55, 54, 53, 52, 51, 50, 223, 49, 48, 47, 46, 237, 45, 44, 43, 42, 41, 40, 39, 38, 37, 36, 263, 35, 34, 33, 32, 30, 29, 28, 286, 27, 291, 290, 289, 288, 287, 285, 284, 283, 282, 281, 280, 279, 278, 277, 276, 275, 274, 273, 272, 271, 270, 269, 268, 267, 266, 265, 264, 262, 261, 260, 259, 258, 257, 256, 255, 254, 253, 252, 251, 250, 249, 248, 415, 247, 246, 245, 244, 243, 242, 241, 240, 239, 238, 236, 235, 234, 233, 232, 231, 230, 229, 228, 227, 226, 225, 224, 222, 475, 479, 221, 220, 219, 218, 217, 216, 503, 215, 214, 213, 212, 211, 210, 519, 209, 208, 207, 206, 205, 204, 203, 543, 202, 200, 199, 198, 197, 196, 195, 568, 194, 193, 192, 191, 190, 189, 188, 187, 186, 185, 184, 183, 182, 181, 180, 179, 178, 177, 176, 175, 174, 173, 172, 171, 170, 169, 168, 167, 166, 165, 164, 163, 162, 161, 160, 159, 158, 157, 156, 155, 154, 153, 152, 151, 150, 149, 148, 147, 146, 145, 144, 142, 141, 140, 139, 138, 137, 136, 135, 134, 133, 132, 131, 130, 129, 127, 128, 614, 126, 125, 124, 123, 122, 121, 120, 119, 118, 117, 116, 114, 113, 112, 111, 110, 109, 108, 106, 105, 104, 103, 641, 102, 101, 100, 99, 646, 98, 97, 96, 95, 94, 93, 92, 652, 651, 650, 649, 648, 647, 645, 644, 643, 642, 640, 639, 638, 637, 636, 635, 634, 633, 632, 674, 631, 630, 629, 628, 627, 626, 625, 624, 623, 622, 621, 620, 619, 618, 617, 616, 615, 692, 613, 612, 611, 610, 609, 608, 607, 606, 605, 604, 603, 602, 601, 600, 599, 598, 597, 596, 595, 594, 593, 592, 591, 590, 589, 588, 587, 586, 585, 584, 583, 582, 581, 580, 579, 578, 577, 576, 575, 574, 573, 572, 571, 570, 569, 567, 566, 565, 564, 746, 563, 562, 561, 560, 559, 755, 558, 557, 556, 555, 554, 759, 553, 552, 764, 551, 550, 765, 549, 548, 547, 546, 545, 544, 542, 541, 540, 539, 538, 537, 536, 535, 787, 534, 533, 532, 531, 530, 529, 797, 528, 527, 526, 525, 806, 524, 523, 522, 521, 520, 518, 517, 516, 515, 514, 818, 513, 512, 511, 510, 509, 828, 508, 507, 835, 506, 505, 504, 502, 501, 500, 499, 498, 850, 852, 497, 855, 496, 495, 494, 493, 492, 860, 491, 490, 489, 864, 488, 487, 486, 485, 484, 483, 482, 481, 480, 878, 478, 477, 476, 474, 473, 472, 471, 470, 469, 468, 467, 466, 902, 465, 464, 909, 463, 462, 915, 461, 460, 459, 458, 457, 456, 455, 925, 454, 929, 453, 933, 452, 451, 450, 939, 449, 448, 447, 446, 445, 947, 444, 443, 953, 442, 441, 440, 439, 960, 438, 437, 436, 435, 969, 971, 434, 974, 433, 975, 432, 431, 430, 429, 428, 427, 426, 425, 424, 423, 422, 989, 421, 420, 419, 418, 417, 416, 414, 413, 412, 411, 410, 409, 408, 407, 406, 405, 404, 403, 402, 401, 400, 399, 398, 397, 396, 395, 394, 393, 392, 391, 390, 389, 388, 387, 386, 385, 384, 383, 382, 381, 380, 379, 378, 377, 376, 375, 374, 373, 372, 371, 370, 369, 368, 367, 366, 365, 364, 363, 362, 361, 360, 359, 358, 357, 356, 355, 354, 353, 352, 351, 350, 349, 348, 347, 346, 345, 344, 343, 342, 341, 340, 339, 338, 337, 336, 335, 334, 333, 332, 331, 330, 329, 328, 327, 326, 325, 324, 323, 322, 321, 320, 319, 318, 317, 316, 315, 314, 313, 312, 311, 310, 309, 308, 307, 306, 305, 304, 303, 302, 301, 300, 299, 298, 297, 296, 295, 294, 293, 292, 1000, 999, 998, 997, 996, 995, 994, 993, 992, 991, 990, 988, 987, 986, 985, 984, 983, 982, 981, 980, 979, 978, 977, 976, 973, 972, 970, 968, 967, 966, 965, 964, 963, 962, 961, 959, 958, 957, 956, 955, 954, 952, 951, 950, 949, 948, 946, 945, 944, 943, 942, 941, 940, 938, 937, 936, 935, 934, 932, 931, 930, 928, 927, 926, 924, 923, 922, 921, 920, 919, 918, 917, 916, 914, 913, 912, 911, 910, 908, 907, 906, 905, 904, 903, 901, 900, 899, 898, 897, 896, 895, 894, 893, 892, 891, 890, 889, 888, 887, 886, 885, 884, 883, 882, 881, 880, 879, 877, 876, 875, 874, 873, 872, 871, 870, 869, 868, 867, 866, 865, 863, 862, 861, 859, 858, 857, 856, 854, 853, 851, 849, 848, 847, 846, 845, 844, 843, 842, 841, 840, 839, 838, 837, 836, 834, 833, 832, 831, 830, 829, 827, 826, 825, 824, 823, 822, 821, 820, 819, 817, 816, 815, 814, 813, 812, 811, 810, 809, 808, 807, 805, 804, 803, 802, 801, 800, 799, 798, 796, 795, 794, 793, 792, 791, 790, 789, 788, 786, 785, 784, 783, 782, 781, 780, 779, 778, 777, 776, 775, 774, 773, 772, 771, 770, 769, 768, 767, 766, 763, 762, 761, 760, 758, 757, 756, 754, 753, 752, 751, 750, 749, 748, 747, 745, 744, 743, 742, 741, "
     ]
    }
   ],
   "source": [
    "ExecutorService executor_1 = Executors.newFixedThreadPool(1001);\n",
    "for (int i = 0; i < 1001; i++) {\n",
    "\texecutor_1.submit(runnable_1);\n",
    "}\n",
    "executor.shutdown();"
   ]
  },
  {
   "cell_type": "markdown",
   "metadata": {},
   "source": [
    "#### TODO- Give example with treeset and callable"
   ]
  },
  {
   "cell_type": "markdown",
   "metadata": {},
   "source": [
    "### Liveness hazards"
   ]
  },
  {
   "cell_type": "markdown",
   "metadata": {},
   "source": [
    "While safety means “nothing bad ever happens”, liveness concerns the com- plementary goal that “something good eventually happens”. A liveness failure occurs when an activity gets into a state such that it is permanently unable to make forward progress. One form of liveness failure that can occur in sequential programs is an inadvertent infinite loop, where the code that follows the loop never gets executed. The use of threads introduces additional liveness risks. For example, if thread A is waiting for a resource that thread B holds exclusively, and B never releases it, A will wait forever."
   ]
  },
  {
   "cell_type": "markdown",
   "metadata": {},
   "source": [
    "Like most concurrency bugs, bugs that cause liveness failures can be elusive because they depend on the rel- ative timing of events in different threads, and therefore do not always manifest themselves in development or testing."
   ]
  },
  {
   "cell_type": "markdown",
   "metadata": {},
   "source": [
    "### Performance hazards"
   ]
  },
  {
   "cell_type": "markdown",
   "metadata": {},
   "source": [
    "Related to liveness is performance. While liveness means that something good even- tually happens, eventually may not be good enough—we often want good things to happen quickly. Performance issues subsume a broad range of problems, in- cluding poor service time, responsiveness, throughput, resource consumption, or scalability. Just as with safety and liveness, multithreaded programs are subject to all the performance hazards of single-threaded programs, and to others as well that are introduced by the use of threads."
   ]
  },
  {
   "cell_type": "markdown",
   "metadata": {},
   "source": [
    "## Threads are everywhere\n",
    "Even if your program never explicitly creates a thread, frameworks may create threads on your behalf, and code called from these threads must be thread-safe. This can place a significant design and implementation burden on developers, since developing thread-safe classes requires more care and analysis than devel- oping non-thread-safe classes.\n",
    "\n",
    "Every Java application uses threads. When the JVM starts, it creates threads for JVM housekeeping tasks (garbage collection, finalization) and a main thread for running the main method. The AWT (Abstract Window Toolkit) and Swing user interface frameworks create threads for managing user interface events. Tim- er creates threads for executing deferred tasks. Component frameworks, such as servlets and RMI create pools of threads and invoke component methods in these threads."
   ]
  }
 ],
 "metadata": {
  "kernelspec": {
   "display_name": "Java",
   "language": "java",
   "name": "java"
  },
  "language_info": {
   "codemirror_mode": "java",
   "file_extension": ".jshell",
   "mimetype": "text/x-java-source",
   "name": "Java",
   "pygments_lexer": "java",
   "version": "14.0.1+7"
  }
 },
 "nbformat": 4,
 "nbformat_minor": 4
}
