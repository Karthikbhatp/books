{
 "cells": [
  {
   "cell_type": "markdown",
   "metadata": {},
   "source": [
    "# Java cncurrency in practice\n",
    "\n",
    "## Chapter - 2\n",
    "## Thread Safety"
   ]
  },
  {
   "cell_type": "markdown",
   "metadata": {},
   "source": [
    "Writing thread-safe code is, at its core, about managing access to state, and in particular to shared, mutable state.\n",
    "\n",
    "\n",
    "Informally, an object’s state is its data, stored in state variables such as instance or static fields. An object’s state may include fields from other, dependent objects; a HashMap’s state is partially stored in the HashMap object itself, but also in many Map.Entry objects. An object’s state encompasses any data that can affect its externally visible behavior."
   ]
  },
  {
   "cell_type": "markdown",
   "metadata": {},
   "source": [
    "If multiple threads access the same mutable state variable without appro- priate synchronization, your program is broken. \n",
    "\n",
    "There are three ways to fix it:\n",
    "* Don’t share the state variable across threads;\n",
    "* Make the state variable immutable; or\n",
    "* Use synchronization whenever accessing the state variable."
   ]
  },
  {
   "cell_type": "markdown",
   "metadata": {},
   "source": [
    "It is far easier to design a class to be thread-safe than to retrofit it for thread safety later.\n",
    "The less code that has access to a particular variable, the easier it is to ensure that all of it uses the proper synchronization, and the easier it is to reason about the conditions under which a given variable might be accessed. "
   ]
  },
  {
   "cell_type": "markdown",
   "metadata": {},
   "source": [
    "## 2.1 What is thread safety?"
   ]
  },
  {
   "cell_type": "markdown",
   "metadata": {},
   "source": [
    "### Defining thread safety is surprisingly tricky.\n",
    "\n",
    "__A class is thread-safe if it behaves correctly when accessed from multiple threads, regardless of the scheduling or interleaving of the execution of those threads by the runtime environment, and with no additional syn- chronization or other coordination on the part of the calling code.__\n",
    "\n",
    "\n",
    "__Thread-safe classes encapsulate any needed synchronization so that clients need not provide their own.__\n"
   ]
  },
  {
   "cell_type": "markdown",
   "metadata": {},
   "source": [
    "<pre class=\"brush:java\"> \n",
    "/**\n",
    " * StatelessFactorizer\n",
    " *\n",
    " * A stateless servlet\n",
    " * \n",
    " * @author Brian Goetz and Tim Peierls\n",
    " */\n",
    "@ThreadSafe\n",
    "public class StatelessFactorizer extends GenericServlet implements Servlet {\n",
    "\n",
    "    public void service(ServletRequest req, ServletResponse resp) {\n",
    "        BigInteger i = extractFromRequest(req);\n",
    "        BigInteger[] factors = factor(i);\n",
    "        encodeIntoResponse(resp, factors);\n",
    "    }\n",
    "\n",
    "    void encodeIntoResponse(ServletResponse resp, BigInteger[] factors) {\n",
    "    }\n",
    "\n",
    "    BigInteger extractFromRequest(ServletRequest req) {\n",
    "        return new BigInteger(\"7\");\n",
    "    }\n",
    "\n",
    "    BigInteger[] factor(BigInteger i) {\n",
    "        // Doesn't really factor\n",
    "        return new BigInteger[] { i };\n",
    "    }\n",
    "}\n",
    "</pre>"
   ]
  },
  {
   "cell_type": "markdown",
   "metadata": {},
   "source": [
    "StatelessFactorizer is, like most servlets, stateless: it has no fields and refer- ences no fields from other classes. The transient state for a particular computation exists solely in local variables that are stored on the thread’s stack and are acces- sible only to the executing thread. One thread accessing a StatelessFactorizer cannot influence the result of another thread accessing the same StatelessFac- torizer; because the two threads do not share state, it is as if they were accessing different instances. Since the actions of a thread accessing a stateless object cannot affect the correctness of operations in other threads, stateless objects are thread- safe.\n",
    "\n",
    "__Stateless objects are always thread-safe.__\n",
    "\n",
    "The fact that most servlets can be implemented with no state greatly reduces the burden of making servlets thread-safe. It is only when servlets want to re- member things from one request to another that the thread safety requirement becomes an issue."
   ]
  },
  {
   "cell_type": "markdown",
   "metadata": {},
   "source": [
    "## 2.2 Atomicity"
   ]
  },
  {
   "cell_type": "markdown",
   "metadata": {},
   "source": [
    "What happens when we add one element of state to what was a stateless object? Suppose we want to add a “hit counter” that measures the number of requests processed"
   ]
  },
  {
   "cell_type": "markdown",
   "metadata": {},
   "source": [
    "<pre class=\"brush:java\"> \n",
    "/**\n",
    " * UnsafeCountingFactorizer\n",
    " *\n",
    " * Servlet that counts requests without the necessary synchronization\n",
    " *\n",
    " * @author Brian Goetz and Tim Peierls\n",
    " */\n",
    "@NotThreadSafe\n",
    "public class UnsafeCountingFactorizer extends GenericServlet implements Servlet {\n",
    "    private long count = 0;\n",
    "\n",
    "    public long getCount() {\n",
    "        return count;\n",
    "    }\n",
    "\n",
    "    public void service(ServletRequest req, ServletResponse resp) {\n",
    "        BigInteger i = extractFromRequest(req);\n",
    "        BigInteger[] factors = factor(i);\n",
    "        ++count;\n",
    "        encodeIntoResponse(resp, factors);\n",
    "    }\n",
    "\n",
    "    void encodeIntoResponse(ServletResponse res, BigInteger[] factors) {\n",
    "    }\n",
    "\n",
    "    BigInteger extractFromRequest(ServletRequest req) {\n",
    "        return new BigInteger(\"7\");\n",
    "    }\n",
    "\n",
    "    BigInteger[] factor(BigInteger i) {\n",
    "        // Doesn't really factor\n",
    "        return new BigInteger[] { i };\n",
    "    }\n",
    "}\n",
    "</pre>"
   ]
  },
  {
   "cell_type": "markdown",
   "metadata": {},
   "source": [
    "This is an example of a read-modify-write operation, in which the resulting state is derived from the previous state."
   ]
  },
  {
   "cell_type": "markdown",
   "metadata": {},
   "source": [
    "The possibility of incorrect results in the presence of unlucky timing is so important in concurrent programming that it has a name: a race condition."
   ]
  },
  {
   "cell_type": "markdown",
   "metadata": {},
   "source": [
    "### Race conditions"
   ]
  },
  {
   "cell_type": "markdown",
   "metadata": {},
   "source": [
    "UnsafeCountingFactorizer has several race conditions that make its results unre- liable. A race condition occurs when the correctness of a computation depends on the relative timing or interleaving of multiple threads by the runtime; in other words, when getting the right answer relies on lucky timing.4 The most common type of race condition is check-then-act, where a potentially stale observation is used to make a decision on what to do next."
   ]
  },
  {
   "cell_type": "markdown",
   "metadata": {},
   "source": [
    "The term race condition is often confused with the related term data race, which arises when synchro- nization is not used to coordinate all access to a shared nonfinal field. You risk a data race whenever a thread writes a variable that might next be read by another thread or reads a variable that might have last been written by another thread if both threads do not use synchronization; code with data races has no useful defined semantics under the Java Memory Model. Not all race conditions are data races, and not all data races are race conditions, but they both can cause concurrent programs to fail in unpredictable ways. UnsafeCountingFactorizer has both race conditions and data races. See Chapter 16 for more on data races."
   ]
  },
  {
   "cell_type": "markdown",
   "metadata": {},
   "source": [
    "We refer collectively to check-then-act and read-modify-write sequences as com- pound actions: sequences of operations that must be executed atomically in order to remain thread-safe. In the next section, we’ll consider locking, Java’s built- in mechanism for ensuring atomicity. For now, we’re going to fix the problem"
   ]
  },
  {
   "cell_type": "markdown",
   "metadata": {},
   "source": [
    "<pre class=\"brush:java\"> \n",
    "/**\n",
    " * CountingFactorizer\n",
    " *\n",
    " * Servlet that counts requests using AtomicLong\n",
    " *\n",
    " * @author Brian Goetz and Tim Peierls\n",
    " */\n",
    "@ThreadSafe\n",
    "public class CountingFactorizer extends GenericServlet implements Servlet {\n",
    "\tprivate final AtomicLong count = new AtomicLong(0);\n",
    "\n",
    "\tpublic long getCount() {\n",
    "\t\treturn count.get();\n",
    "\t}\n",
    "\n",
    "\tpublic void service(ServletRequest req, ServletResponse resp) {\n",
    "\t\tBigInteger i = extractFromRequest(req);\n",
    "\t\tBigInteger[] factors = factor(i);\n",
    "\t\tcount.incrementAndGet();\n",
    "\t\tencodeIntoResponse(resp, factors);\n",
    "\t}\n",
    "\n",
    "\tvoid encodeIntoResponse(ServletResponse res, BigInteger[] factors) {\n",
    "\t}\n",
    "\n",
    "\tBigInteger extractFromRequest(ServletRequest req) {\n",
    "\t\treturn null;\n",
    "\t}\n",
    "\n",
    "\tBigInteger[] factor(BigInteger i) {\n",
    "\t\treturn null;\n",
    "\t}\n",
    "}\n",
    "</pre>"
   ]
  },
  {
   "cell_type": "markdown",
   "metadata": {},
   "source": [
    "The java.util.concurrent.atomic package contains atomic variable classes for effecting atomic state transitions on numbers and object references. By replac- ing the long counter with an AtomicLong, we ensure that all actions that access the counter state are atomic.5 Because the state of the servlet is the state of the counter and the counter is thread-safe, our servlet is once again thread-safe."
   ]
  },
  {
   "cell_type": "markdown",
   "metadata": {},
   "source": [
    "## 2.3 Locking"
   ]
  },
  {
   "cell_type": "markdown",
   "metadata": {},
   "source": [
    "Imagine that we want to improve the performance of our servlet by caching the most recently computed result, just in case two consecutive clients request factorization of the same number. (This is unlikely to be an effective caching strategy; we offer a better one in Section 5.6.) To implement this strategy, we need to remember two things: the last number factored, and its factors."
   ]
  },
  {
   "cell_type": "code",
   "execution_count": null,
   "metadata": {},
   "outputs": [],
   "source": [
    "/**\n",
    " * UnsafeCachingFactorizer\n",
    " * Servlet that attempts to cache its last result without adequate atomicity\n",
    " *\n",
    " * @author Brian Goetz and Tim Peierls\n",
    " */\n",
    "\n",
    "@NotThreadSafe\n",
    "public class UnsafeCachingFactorizer extends GenericServlet implements Servlet {\n",
    "\tprivate final AtomicReference<BigInteger> lastNumber = new AtomicReference<BigInteger>();\n",
    "\tprivate final AtomicReference<BigInteger[]> lastFactors = new AtomicReference<BigInteger[]>();\n",
    "\n",
    "\tpublic void service(ServletRequest req, ServletResponse resp) {\n",
    "\t\tBigInteger i = extractFromRequest(req);\n",
    "\t\tif (i.equals(lastNumber.get()))\n",
    "\t\t\tencodeIntoResponse(resp, lastFactors.get());\n",
    "\t\telse {\n",
    "\t\t\tBigInteger[] factors = factor(i);\n",
    "\t\t\tlastNumber.set(i);\n",
    "\t\t\tlastFactors.set(factors);\n",
    "\t\t\tencodeIntoResponse(resp, factors);\n",
    "\t\t}\n",
    "\t}\n",
    "\n",
    "\tvoid encodeIntoResponse(ServletResponse resp, BigInteger[] factors) {\n",
    "\t}\n",
    "\n",
    "\tBigInteger extractFromRequest(ServletRequest req) {\n",
    "\t\treturn new BigInteger(\"7\");\n",
    "\t}\n",
    "\n",
    "\tBigInteger[] factor(BigInteger i) {\n",
    "\t\t// Doesn't really factor\n",
    "\t\treturn new BigInteger[] { i };\n",
    "\t}\n",
    "}"
   ]
  },
  {
   "cell_type": "markdown",
   "metadata": {},
   "source": [
    "Unfortunately, this approach does not work. Even though the atomic refer- ences are individually thread-safe, UnsafeCachingFactorizer has race conditions that could make it produce the wrong answer.\n",
    "The definition of thread safety requires that invariants be preserved regardless of timing or interleaving of operations in multiple threads."
   ]
  },
  {
   "cell_type": "markdown",
   "metadata": {},
   "source": [
    "## 2.4 Guarding state with locks"
   ]
  },
  {
   "cell_type": "markdown",
   "metadata": {},
   "source": [
    "For each mutable state variable that may be accessed by more than one thread, all accesses to that variable must be performed with the same lock held. In this case, we say that the variable is guarded by that lock.\n",
    "\n",
    "\n",
    "Every shared, mutable variable should be guarded by exactly one lock. Make it clear to maintainers which lock that is.\n",
    "\n",
    "It is also easy to subvert this locking protocol accidentally by adding a new method or code path and forgetting to use synchronization."
   ]
  },
  {
   "cell_type": "markdown",
   "metadata": {},
   "source": [
    "If synchronization is the cure for race conditions, why not just declare ev- ery method synchronized? It turns out that such indiscriminate application of synchronized might be either too much or too little synchronization. Merely synchronizing every method, as Vector does, is not enough to render compound actions on a Vector atomic:\n",
    "<pre class=\"brush:java\"> \n",
    "if (!vector.contains(element)) \n",
    "    vector.add(element);\n",
    "</pre>\n",
    "This attempt at a put-if-absent operation has a race condition, even though both contains and add are atomic. While synchronized methods can make indi- vidual operations atomic, additional locking is required when multiple operations are combined into a compound action."
   ]
  },
  {
   "cell_type": "markdown",
   "metadata": {},
   "source": [
    "## 2.5 Liveness and performance"
   ]
  },
  {
   "cell_type": "markdown",
   "metadata": {},
   "source": [
    "Acquiring and releasing a lock has some overhead, so it is undesirable to break down synchronized blocks too far (such as factoring ++hits into its own synchronized block), even if this would not compromise atomicity. CachedFactorizer holds the lock when accessing state variables and for the duration of compound actions, but releases it before executing the poten- tially long-running factorization operation. This preserves thread safety without unduly affecting concurrency; the code paths in each of the synchronized blocks are “short enough”.\n",
    "\n",
    "Avoid holding locks during lengthy computations or operations at risk of not completing quickly such as network or console I/O."
   ]
  },
  {
   "cell_type": "markdown",
   "metadata": {},
   "source": [
    "<pre class=\"brush:java\"> \n",
    "/**\n",
    " * CachedFactorizer\n",
    " * <p/>\n",
    " * Servlet that caches its last request and result\n",
    " *\n",
    " * @author Brian Goetz and Tim Peierls\n",
    " */\n",
    "@ThreadSafe\n",
    "public class CachedFactorizer extends GenericServlet implements Servlet {\n",
    "    @GuardedBy(\"this\") private BigInteger lastNumber;\n",
    "    @GuardedBy(\"this\") private BigInteger[] lastFactors;\n",
    "    @GuardedBy(\"this\") private long hits;\n",
    "    @GuardedBy(\"this\") private long cacheHits;\n",
    "\n",
    "    public synchronized long getHits() {\n",
    "        return hits;\n",
    "    }\n",
    "\n",
    "    public synchronized double getCacheHitRatio() {\n",
    "        return (double) cacheHits / (double) hits;\n",
    "    }\n",
    "\n",
    "    public void service(ServletRequest req, ServletResponse resp) {\n",
    "        BigInteger i = extractFromRequest(req);\n",
    "        BigInteger[] factors = null;\n",
    "        synchronized (this) {\n",
    "            ++hits;\n",
    "            if (i.equals(lastNumber)) {\n",
    "                ++cacheHits;\n",
    "                factors = lastFactors.clone();\n",
    "            }\n",
    "        }\n",
    "        if (factors == null) {\n",
    "            factors = factor(i);\n",
    "            synchronized (this) {\n",
    "                lastNumber = i;\n",
    "                lastFactors = factors.clone();\n",
    "            }\n",
    "        }\n",
    "        encodeIntoResponse(resp, factors);\n",
    "    }\n",
    "\n",
    "    void encodeIntoResponse(ServletResponse resp, BigInteger[] factors) {\n",
    "    }\n",
    "\n",
    "    BigInteger extractFromRequest(ServletRequest req) {\n",
    "        return new BigInteger(\"7\");\n",
    "    }\n",
    "\n",
    "    BigInteger[] factor(BigInteger i) {\n",
    "        // Doesn't really factor\n",
    "        return new BigInteger[]{i};\n",
    "    }\n",
    "}\n",
    "</pre>"
   ]
  }
 ],
 "metadata": {
  "kernelspec": {
   "display_name": "Java",
   "language": "java",
   "name": "java"
  },
  "language_info": {
   "codemirror_mode": "java",
   "file_extension": ".jshell",
   "mimetype": "text/x-java-source",
   "name": "Java",
   "pygments_lexer": "java",
   "version": "14.0.1+7"
  }
 },
 "nbformat": 4,
 "nbformat_minor": 4
}
