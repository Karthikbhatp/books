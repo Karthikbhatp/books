{
 "cells": [
  {
   "cell_type": "markdown",
   "metadata": {},
   "source": [
    "# Java concurrency in practice\n",
    "\n",
    "## Chapter - 3\n",
    "## Sharing Objects"
   ]
  },
  {
   "cell_type": "markdown",
   "metadata": {},
   "source": [
    "We want not only to prevent one thread from modifying the state of an object when another is using it, but also to ensure that when a thread modifies the state of an object, other threads can actually see the changes that were made. But without synchronization, this may not happen. You can ensure that objects are published safely either by using explicit synchronization or by taking advantage of the synchronization built into library classes."
   ]
  },
  {
   "cell_type": "markdown",
   "metadata": {},
   "source": [
    "## 3.1 Visibility"
   ]
  },
  {
   "cell_type": "markdown",
   "metadata": {},
   "source": [
    "In order to ensure visibility of memory writes across threads, you must use synchronization."
   ]
  },
  {
   "cell_type": "code",
   "execution_count": 12,
   "metadata": {},
   "outputs": [],
   "source": [
    "/**\n",
    " * NoVisibility\n",
    " * <p/>\n",
    " * Sharing variables without synchronization\n",
    " *\n",
    " * @author Brian Goetz and Tim Peierls\n",
    " */\n",
    "\n",
    "public class NoVisibility {\n",
    "    private static boolean ready;\n",
    "    private static int number;\n",
    "\n",
    "    private static class ReaderThread extends Thread {\n",
    "\n",
    "        @Override\n",
    "        public void run() {\n",
    "            while (!ready)\n",
    "                Thread.yield();\n",
    "            System.out.println(number);\n",
    "        }\n",
    "    }\n",
    "\n",
    "    public static void main(String[] args) {\n",
    "        new ReaderThread().start();\n",
    "        number = 42;\n",
    "        ready = true;\n",
    "    } \n",
    "}"
   ]
  },
  {
   "cell_type": "markdown",
   "metadata": {},
   "source": [
    "There is no guarantee that operations in one thread will be performed in the order given by the program, as long as the reordering is not detectable from within that thread—even if the reordering is apparent to other threads.\n",
    "\n",
    "Always use the proper synchronization whenever data is shared across threads."
   ]
  },
  {
   "cell_type": "markdown",
   "metadata": {},
   "source": [
    "### Stale data"
   ]
  },
  {
   "cell_type": "markdown",
   "metadata": {},
   "source": [
    "NoVisibility demonstrated one of the ways that insufficiently synchronized pro- grams can cause surprising results: stale data. When the reader thread examines ready, it may see an out-of-date value. Unless synchronization is used every time a variable is accessed, it is possible to see a stale value for that variable.\n",
    "\n",
    "Things can get even more complicated with stale values of object references, such as the link pointers in a linked list implementa- tion. Stale data can cause serious and confusing failures such as unexpected exceptions, corrupted data structures, inaccurate computations, and infinite loops."
   ]
  },
  {
   "cell_type": "code",
   "execution_count": 19,
   "metadata": {},
   "outputs": [],
   "source": [
    "/**\n",
    " * MutableInteger\n",
    " * <p/>\n",
    " * Non-thread-safe mutable integer holder\n",
    " *\n",
    " * @author Brian Goetz and Tim Peierls\n",
    " */\n",
    "\n",
    "// @NotThreadSafe\n",
    "public class MutableInteger {\n",
    "    private int value;\n",
    "\n",
    "    public int get() {\n",
    "        return value;\n",
    "    }\n",
    "\n",
    "    public void set(int value) {\n",
    "        this.value = value;\n",
    "    }\n",
    "}"
   ]
  },
  {
   "cell_type": "code",
   "execution_count": 18,
   "metadata": {},
   "outputs": [],
   "source": [
    "/**\n",
    " * SynchronizedInteger\n",
    " * <p/>\n",
    " * Thread-safe mutable integer holder\n",
    " *\n",
    " * @author Brian Goetz and Tim Peierls\n",
    " */\n",
    "// @ThreadSafe\n",
    "public class SynchronizedInteger {\n",
    "//  @GuardedBy(\"this\") \n",
    "    private int value;\n",
    "\n",
    "    public synchronized int get() {\n",
    "        return value;\n",
    "    }\n",
    "\n",
    "    public synchronized void set(int value) {\n",
    "        this.value = value;\n",
    "    }\n",
    "}"
   ]
  },
  {
   "cell_type": "markdown",
   "metadata": {},
   "source": [
    "MutableInteger in Listing is not thread-safe because the value field is accessed from both get and set without synchronization. Among other hazards, it is susceptible to stale values: if one thread calls set, other threads calling get may or may not see that update.\n",
    "\n",
    "\n",
    "We can make MutableInteger thread safe by synchronizing the getter and setter as shown in SynchronizedInteger"
   ]
  },
  {
   "cell_type": "markdown",
   "metadata": {},
   "source": [
    "### Nonatomic 64-bit operations\n",
    "\n",
    "When a thread reads a variable without synchronization, it may see a stale value, but at least it sees a value that was actually placed there by some thread rather than some random value. This safety guarantee is called out-of-thin-air safety.\n",
    "\n",
    "Out-of-thin-air safety applies to all variables, with one exception: 64-bit nu- meric variables (double and long) that are not declared volatile\n",
    "\n",
    "JVM is permitted to treat a 64-bit read or write as two separate 32-bit operations. If the reads and writes occur in different threads, it is therefore possible to read a nonvolatile long and get back the high 32 bits of one value and the low 32 bits of another"
   ]
  },
  {
   "cell_type": "markdown",
   "metadata": {},
   "source": [
    "### Locking and visibility\n",
    "We can now give the other reason for the rule requiring all threads to synchronize on the same lock when accessing a shared mutable variable—to guarantee that values written by one thread are made visible to other threads.\n",
    "\n",
    "Locking is not just about mutual exclusion; it is also about memory visi- bility. To ensure that all threads see the most up-to-date values of shared mutable variables, the reading and writing threads must synchronize on a common lock."
   ]
  },
  {
   "cell_type": "markdown",
   "metadata": {},
   "source": [
    "### Volatile variables\n",
    "Yet accessing a volatile variable performs no locking and so cannot cause the executing thread to block, making volatile variables a lighter-weight synchronization mechanism than synchronized.\n",
    "\n",
    "\n",
    "When thread A writes to a volatile variable and subse- quently thread B reads that same variable, the values of all variables that were visible to A prior to writing to the volatile variable become visible to B after reading the volatile variable. So from a memory visibility perspective, writing a volatile variable is like exiting a synchronized block and reading a volatile variable is like entering a synchronized block. However, we do not recommend relying too heavily on volatile variables for visibility; code that relies on volatile variables for visibility of arbitrary state is more fragile and harder to understand than code that uses locking.\n",
    "\n",
    "\n",
    "Locking can guarantee both visibility and atomicity; volatile variables can only guarantee visibility.\n",
    "\n",
    "\n",
    "You can use volatile variables only when all the following criteria are met:\n",
    "* Writes to the variable do not depend on its current value, or you can ensure that only a single thread ever updates the value;\n",
    "* The variable does not participate in invariants with other state variables; and\n",
    "* Locking is not required for any other reason while the variable is being accessed."
   ]
  },
  {
   "cell_type": "markdown",
   "metadata": {},
   "source": [
    "## 3.2 Publication and escape"
   ]
  },
  {
   "cell_type": "markdown",
   "metadata": {},
   "source": [
    "An object that is published when it should not have been is said to have escaped. "
   ]
  },
  {
   "cell_type": "code",
   "execution_count": 21,
   "metadata": {},
   "outputs": [],
   "source": [
    "class Secret {\n",
    "}\n",
    "/**\n",
    " * Secrets\n",
    " *\n",
    " * Publishing an object\n",
    " *\n",
    " * @author Brian Goetz and Tim Peierls\n",
    " */\n",
    "class Secrets {\n",
    "    public static Set<Secret> knownSecrets;\n",
    "\n",
    "    public void initialize() {\n",
    "        knownSecrets = new HashSet<Secret>();\n",
    "    }\n",
    "}\n",
    "\n",
    "// Publishing an object."
   ]
  },
  {
   "cell_type": "markdown",
   "metadata": {},
   "source": [
    "Publishing one object may indirectly publish others. If you add a Secret to the published knownSecrets set, you’ve also published that Secret, because any code can iterate the Set and obtain a reference to the new Secret."
   ]
  },
  {
   "cell_type": "markdown",
   "metadata": {},
   "source": [
    "Similarly, returning a reference from a nonprivate method also publishes the returned ob- ject. UnsafeStates in Listing publishes the supposedly private array of state abbreviations."
   ]
  },
  {
   "cell_type": "code",
   "execution_count": 24,
   "metadata": {},
   "outputs": [],
   "source": [
    "/**\n",
    " * UnsafeStates\n",
    " * <\n",
    " * Allowing internal mutable state to escape\n",
    " *\n",
    " * @author Brian Goetz and Tim Peierls\n",
    " */\n",
    "class UnsafeStates {\n",
    "    private String[] states = new String[]{\n",
    "        \"AK\", \"AL\" /*...*/\n",
    "    };\n",
    "\n",
    "    public String[] getStates() {\n",
    "        return states;\n",
    "    }\n",
    "}"
   ]
  },
  {
   "cell_type": "markdown",
   "metadata": {},
   "source": [
    "A final mechanism by which an object or its internal state can be published is to publish an inner class instance, as shown in ThisEscape"
   ]
  },
  {
   "cell_type": "code",
   "execution_count": 26,
   "metadata": {},
   "outputs": [],
   "source": [
    "/**\n",
    " * ThisEscape\n",
    " * <p/>\n",
    " * Implicitly allowing the this reference to escape\n",
    " *\n",
    " * @author Brian Goetz and Tim Peierls\n",
    " */\n",
    "public class ThisEscape {\n",
    "    public ThisEscape(EventSource source) {\n",
    "        source.registerListener(new EventListener() {\n",
    "            public void onEvent(Event e) {\n",
    "                doSomething(e);\n",
    "            }\n",
    "        });\n",
    "    }\n",
    "\n",
    "    void doSomething(Event e) {\n",
    "    }\n",
    "\n",
    "\n",
    "    interface EventSource {\n",
    "        void registerListener(EventListener e);\n",
    "    }\n",
    "\n",
    "    interface EventListener {\n",
    "        void onEvent(Event e);\n",
    "    }\n",
    "\n",
    "    interface Event {\n",
    "    }\n",
    "}"
   ]
  },
  {
   "cell_type": "markdown",
   "metadata": {},
   "source": [
    "### Safe construction practices"
   ]
  },
  {
   "cell_type": "markdown",
   "metadata": {},
   "source": [
    "Do not allow the this reference to escape during construction.\n",
    "A common mistake that can let the this reference escape during construction is to start a thread from a constructor. When an object creates a thread from its constructor, it almost always shares its this reference with the new thread, either explicitly (by passing it to the constructor) or implicitly (because the Thread or Runnable is an inner class of the owning object)."
   ]
  },
  {
   "cell_type": "code",
   "execution_count": 27,
   "metadata": {},
   "outputs": [],
   "source": [
    "/**\n",
    " * SafeListener\n",
    " * <p/>\n",
    " * Using a factory method to prevent the this reference from escaping during construction\n",
    " *\n",
    " * @author Brian Goetz and Tim Peierls\n",
    " */\n",
    "public class SafeListener {\n",
    "    private final EventListener listener;\n",
    "\n",
    "    private SafeListener() {\n",
    "        listener = new EventListener() {\n",
    "            public void onEvent(Event e) {\n",
    "                doSomething(e);\n",
    "            }\n",
    "        };\n",
    "    }\n",
    "\n",
    "    public static SafeListener newInstance(EventSource source) {\n",
    "        SafeListener safe = new SafeListener();\n",
    "        source.registerListener(safe.listener);\n",
    "        return safe;\n",
    "    }\n",
    "\n",
    "    void doSomething(Event e) {\n",
    "    }\n",
    "\n",
    "\n",
    "    interface EventSource {\n",
    "        void registerListener(EventListener e);\n",
    "    }\n",
    "\n",
    "    interface EventListener {\n",
    "        void onEvent(Event e);\n",
    "    }\n",
    "\n",
    "    interface Event {\n",
    "    }\n",
    "}\n"
   ]
  },
  {
   "cell_type": "markdown",
   "metadata": {},
   "source": [
    "## 3.3 Thread confinement"
   ]
  },
  {
   "cell_type": "markdown",
   "metadata": {},
   "source": [
    "Accessing shared, mutable data requires using synchronization; one way to avoid this requirement is to not share. If data is only accessed from a single thread, no synchronization is needed. This technique, thread confinement, is one of the simplest ways to achieve thread safety. When an object is confined to a thread, such usage is automatically thread-safe even if the confined object itself is not.\n",
    "\n",
    "* Swing uses thread confinement extensively.\n",
    "* Another common application of thread confinement is the use of pooled JDBC (Java Database Connectivity) Connection objects.\n",
    "\n",
    "Thread confinement is an element of your program’s design that must be enforced by its implementation. The language and core libraries provide mechanisms that can help in maintaining thread confinement—local variables and the ThreadLocal class—but even with these, it is still the programmer’s responsibility to ensure that thread-confined objects do not escape from their intended thread."
   ]
  },
  {
   "cell_type": "markdown",
   "metadata": {},
   "source": [
    "### Ad-hoc thread confinement\n",
    "\n",
    "Ad-hoc thread confinement describes when the responsibility for maintaining thread confinement falls entirely on the implementation. Ad-hoc thread confinement can be fragile because none of the language features, such as visibility modifiers or local variables, helps confine the object to the target thread."
   ]
  },
  {
   "cell_type": "markdown",
   "metadata": {},
   "source": [
    "### Stack confinement\n",
    "Stack confinement is a special case of thread confinement in which an object can only be reached through local variables. Just as encapsulation can make it easier to preserve invariants, local variables can make it easier to confine objects to a thread. Local variables are intrinsically confined to the executing thread; they ex- ist on the executing thread’s stack, which is not accessible to other threads."
   ]
  },
  {
   "cell_type": "code",
   "execution_count": 28,
   "metadata": {},
   "outputs": [],
   "source": [
    "import java.util.*;\n",
    "\n",
    "/**\n",
    " * Animals\n",
    " * <p/>\n",
    " * Thread confinement of local primitive and reference variables\n",
    " *\n",
    " * @author Brian Goetz and Tim Peierls\n",
    " */\n",
    "public class Animals {\n",
    "    Ark ark;\n",
    "    Species species;\n",
    "    Gender gender;\n",
    "    \n",
    "    public int loadTheArk(Collection<Animal> candidates) {\n",
    "        SortedSet<Animal> animals;\n",
    "        int numPairs = 0;\n",
    "        Animal candidate = null;\n",
    "\n",
    "        // animals confined to method, don't let them escape!\n",
    "        animals = new TreeSet<Animal>(new SpeciesGenderComparator());\n",
    "        animals.addAll(candidates);\n",
    "        for (Animal a : animals) {\n",
    "            if (candidate == null || !candidate.isPotentialMate(a))\n",
    "                candidate = a;\n",
    "            else {\n",
    "                ark.load(new AnimalPair(candidate, a));\n",
    "                ++numPairs;\n",
    "                candidate = null;\n",
    "            }\n",
    "        }\n",
    "        return numPairs;\n",
    "    }\n",
    "\n",
    "\n",
    "    class Animal {\n",
    "        Species species;\n",
    "        Gender gender;\n",
    "\n",
    "        public boolean isPotentialMate(Animal other) {\n",
    "            return species == other.species && gender != other.gender;\n",
    "        }\n",
    "    }\n",
    "\n",
    "    enum Species {\n",
    "        AARDVARK, BENGAL_TIGER, CARIBOU, DINGO, ELEPHANT, FROG, GNU, HYENA,\n",
    "        IGUANA, JAGUAR, KIWI, LEOPARD, MASTADON, NEWT, OCTOPUS,\n",
    "        PIRANHA, QUETZAL, RHINOCEROS, SALAMANDER, THREE_TOED_SLOTH,\n",
    "        UNICORN, VIPER, WEREWOLF, XANTHUS_HUMMINBIRD, YAK, ZEBRA\n",
    "    }\n",
    "\n",
    "    enum Gender {\n",
    "        MALE, FEMALE\n",
    "    }\n",
    "\n",
    "    class AnimalPair {\n",
    "        private final Animal one, two;\n",
    "\n",
    "        public AnimalPair(Animal one, Animal two) {\n",
    "            this.one = one;\n",
    "            this.two = two;\n",
    "        }\n",
    "    }\n",
    "\n",
    "    class SpeciesGenderComparator implements Comparator<Animal> {\n",
    "        public int compare(Animal one, Animal two) {\n",
    "            int speciesCompare = one.species.compareTo(two.species);\n",
    "            return (speciesCompare != 0)\n",
    "                    ? speciesCompare\n",
    "                    : one.gender.compareTo(two.gender);\n",
    "        }\n",
    "    }\n",
    "\n",
    "    class Ark {\n",
    "        private final Set<AnimalPair> loadedAnimals = new HashSet<AnimalPair>();\n",
    "\n",
    "        public void load(AnimalPair pair) {\n",
    "            loadedAnimals.add(pair);\n",
    "        }\n",
    "    }\n",
    "}"
   ]
  },
  {
   "cell_type": "markdown",
   "metadata": {},
   "source": [
    "### ThreadLocal\n",
    "A more formal means of maintaining thread confinement is ThreadLocal, which allows you to associate a per-thread value with a value-holding object. Thread- Local provides get and set accessor methods that maintain a separate copy of the value for each thread that uses it, so a get returns the most recent value passed to set from the currently executing thread.\n",
    "\n",
    "Since JDBC connections may not be thread-safe, a multithreaded application that uses a global connection without additional coordination is not thread-safe either."
   ]
  },
  {
   "cell_type": "code",
   "execution_count": 30,
   "metadata": {},
   "outputs": [],
   "source": [
    "import java.sql.Connection;\n",
    "import java.sql.DriverManager;\n",
    "import java.sql.SQLException;\n",
    "/**\n",
    " * ConnectionDispenser\n",
    " * <p/>\n",
    " * Using ThreadLocal to ensure thread confinement\n",
    " *\n",
    " * @author Brian Goetz and Tim Peierls\n",
    " */\n",
    "public class ConnectionDispenser {\n",
    "    static String DB_URL = \"jdbc:mysql://localhost/mydatabase\";\n",
    "\n",
    "    private ThreadLocal<Connection> connectionHolder\n",
    "            = new ThreadLocal<Connection>() {\n",
    "                public Connection initialValue() {\n",
    "                    try {\n",
    "                        return DriverManager.getConnection(DB_URL);\n",
    "                    } catch (SQLException e) {\n",
    "                        throw new RuntimeException(\"Unable to acquire Connection, e\");\n",
    "                    }\n",
    "                };\n",
    "            };\n",
    "\n",
    "    public Connection getConnection() {\n",
    "        return connectionHolder.get();\n",
    "    }\n",
    "}\n"
   ]
  },
  {
   "cell_type": "markdown",
   "metadata": {},
   "source": [
    "It is easy to abuse ThreadLocal by treating its thread confinement property as a license to use global variables or as a means of creating “hidden” method argu- ments. Like global variables, thread-local variables can detract from reusability and introduce hidden couplings among classes, and should therefore be used with care."
   ]
  },
  {
   "cell_type": "markdown",
   "metadata": {},
   "source": [
    "## 3.4 Immutability"
   ]
  },
  {
   "cell_type": "markdown",
   "metadata": {},
   "source": [
    "Nearly all the atomicity and visibility hazards we’ve described so far, such as seeing stale values, losing updates, or observing an object to be in an inconsistent state, have to do with the vagaries of multiple threads trying to access the same mutable state at the same time. If an object’s state cannot be modified, these risks and complexities simply go away.\n",
    "\n",
    "__Immutable objects are always thread-safe.__"
   ]
  },
  {
   "cell_type": "markdown",
   "metadata": {},
   "source": [
    "An object whose fields are all final may still be mutable, since final fields can hold references to mutable objects.\n",
    "\n",
    "\n",
    "An object is immutable if:\n",
    "* Its state cannot be modified after construction;\n",
    "* All its fields are final;12 and\n",
    "* It is properly constructed (the this reference does not escape during construction)."
   ]
  },
  {
   "cell_type": "markdown",
   "metadata": {},
   "source": [
    "__It is technically possible to have an immutable object without all fields being final—String is such a class—but this relies on delicate reasoning about benign data races that requires a deep un- derstanding of the Java Memory Model. (For the curious: String lazily computes the hash code the first time hashCode is called and caches it in a nonfinal field, but this works only because that field can take on only one nondefault value that is the same every time it is computed because it is derived deterministically from immutable state. Don’t try this at home.)__"
   ]
  },
  {
   "cell_type": "markdown",
   "metadata": {},
   "source": [
    "### Final fields\n",
    "Declaring fields final also documents to maintainers that these fields are not expected to change.\n",
    "Just as it is a good practice to make all fields private unless they need greater visibility [EJ Item 12], it is a good practice to make all fields final unless they need to be mutable."
   ]
  },
  {
   "cell_type": "markdown",
   "metadata": {},
   "source": [
    "### Example: Using volatile to publish immutable objects"
   ]
  },
  {
   "cell_type": "code",
   "execution_count": 32,
   "metadata": {},
   "outputs": [],
   "source": [
    "import java.math.BigInteger;\n",
    "import java.util.*;\n",
    "\n",
    "// import net.jcip.annotations.*;\n",
    "\n",
    "/**\n",
    " * OneValueCache\n",
    " * <p/>\n",
    " * Immutable holder for caching a number and its factors\n",
    " *\n",
    " * @author Brian Goetz and Tim Peierls\n",
    " */\n",
    "// @Immutable\n",
    "public class OneValueCache {\n",
    "    private final BigInteger lastNumber;\n",
    "    private final BigInteger[] lastFactors;\n",
    "\n",
    "    public OneValueCache(BigInteger i,\n",
    "                         BigInteger[] factors) {\n",
    "        lastNumber = i;\n",
    "        lastFactors = Arrays.copyOf(factors, factors.length);\n",
    "    }\n",
    "\n",
    "    public BigInteger[] getFactors(BigInteger i) {\n",
    "        if (lastNumber == null || !lastNumber.equals(i))\n",
    "            return null;\n",
    "        else\n",
    "            return Arrays.copyOf(lastFactors, lastFactors.length);\n",
    "    }\n",
    "}"
   ]
  },
  {
   "cell_type": "code",
   "execution_count": 32,
   "metadata": {},
   "outputs": [],
   "source": [
    "import java.math.BigInteger;\n",
    "import javax.servlet.*;\n",
    "\n",
    "import net.jcip.annotations.*;\n",
    "\n",
    "/**\n",
    " * VolatileCachedFactorizer\n",
    " * <p/>\n",
    " * Caching the last result using a volatile reference to an immutable holder object\n",
    " *\n",
    " * @author Brian Goetz and Tim Peierls\n",
    " */\n",
    "@ThreadSafe\n",
    "public class VolatileCachedFactorizer extends GenericServlet implements Servlet {\n",
    "    private volatile OneValueCache cache = new OneValueCache(null, null);\n",
    "\n",
    "    public void service(ServletRequest req, ServletResponse resp) {\n",
    "        BigInteger i = extractFromRequest(req);\n",
    "        BigInteger[] factors = cache.getFactors(i);\n",
    "        if (factors == null) {\n",
    "            factors = factor(i);\n",
    "            cache = new OneValueCache(i, factors);\n",
    "        }\n",
    "        encodeIntoResponse(resp, factors);\n",
    "    }\n",
    "\n",
    "    void encodeIntoResponse(ServletResponse resp, BigInteger[] factors) {\n",
    "    }\n",
    "\n",
    "    BigInteger extractFromRequest(ServletRequest req) {\n",
    "        return new BigInteger(\"7\");\n",
    "    }\n",
    "\n",
    "    BigInteger[] factor(BigInteger i) {\n",
    "        // Doesn't really factor\n",
    "        return new BigInteger[]{i};\n",
    "    }\n",
    "}"
   ]
  },
  {
   "cell_type": "markdown",
   "metadata": {},
   "source": [
    "## 3.5 Safe publication"
   ]
  },
  {
   "cell_type": "markdown",
   "metadata": {},
   "source": [
    "Unfortunately, simply storing a reference to an object into a public field, as in Listing 3.14, is not enough to publish that object safely."
   ]
  },
  {
   "cell_type": "markdown",
   "metadata": {},
   "source": [
    "You may be surprised at how badly this harmless-looking example could fail. Because of visibility problems, the Holder could appear to another thread to be in an inconsistent state, even though its invariants were properly established by its constructor! This improper publication could allow another thread to observe a partially constructed object."
   ]
  },
  {
   "cell_type": "code",
   "execution_count": 34,
   "metadata": {},
   "outputs": [],
   "source": [
    "/**\n",
    " * Holder\n",
    " * <p/>\n",
    " * Class at risk of failure if not properly published\n",
    " *\n",
    " * @author Brian Goetz and Tim Peierls\n",
    " */\n",
    "public class Holder {\n",
    "    private int n;\n",
    "\n",
    "    public Holder(int n) {\n",
    "        this.n = n;\n",
    "    }\n",
    "\n",
    "    public void assertSanity() {\n",
    "        if (n != n)\n",
    "            throw new AssertionError(\"This statement is false.\");\n",
    "    }\n",
    "}\n"
   ]
  },
  {
   "cell_type": "markdown",
   "metadata": {},
   "source": [
    "Two things can go wrong with improperly published objects. Other threads could see a stale value for the\n",
    "holder field, and thus see a null reference or other older value even though a value has been placed in holder."
   ]
  },
  {
   "cell_type": "markdown",
   "metadata": {},
   "source": [
    "### Immutable objects and initialization safety\n",
    "Immutable objects, on the other hand, can be safely accessed even when synchro- nization is not used to publish the object reference. For this guarantee of initialization safety to hold, all of the requirements for immutability must be met: unmodi- fiable state, all fields are final, and proper construction.\n",
    "\n",
    "Immutable objects can be used safely by any thread without additional synchronization, even when synchronization is not used to publish them."
   ]
  },
  {
   "cell_type": "markdown",
   "metadata": {},
   "source": [
    "### Safe publication idioms\n",
    "\n",
    "Objects that are not immutable must be safely published, which usually entails syn- chronization by both the publishing and the consuming thread\n",
    "\n",
    "To publish an object safely, both the reference to the object and the ob- ject’s state must be made visible to other threads at the same time. A properly constructed object can be safely published by:\n",
    "* Initializing an object reference from a static initializer;\n",
    "* Storing a reference to it into a volatile field or AtomicReference;\n",
    "* Storing a reference to it into a final field of a properly constructed object; or\n",
    "* Storing a reference to it into a field that is properly guarded by a lock.\n"
   ]
  },
  {
   "cell_type": "markdown",
   "metadata": {},
   "source": [
    "### Effectively immutable objects\n",
    "Objects that are not technically immutable, but whose state will not be mod- ified after publication, are called effectively immutable.\n",
    "\n",
    "Using effectively immutable objects can simplify development and improve performance by reducing the need for synchronization.\n",
    "Safely published effectively immutable objects can be used safely by any thread without additional synchronization."
   ]
  },
  {
   "cell_type": "markdown",
   "metadata": {},
   "source": [
    "<code>public Map<String, Date> lastLogin = Collections.synchronizedMap(new HashMap<String, Date>());<code>\n",
    "\n",
    "If the Date values are not modified after they are placed in the Map, then the synchronization in the synchronizedMap implementation is sufficient to publish the Date values safely, and no additional synchronization is needed when access- ing them."
   ]
  },
  {
   "cell_type": "markdown",
   "metadata": {},
   "source": [
    "## Sharing objects safely\n",
    "\n",
    "Whenever you acquire a reference to an object, you should know what you are allowed to do with it. Do you need to acquire a lock before using it? Are you allowed to modify its state, or only to read it? \n",
    "\n",
    "The most useful policies for using and sharing objects in a concurrent program are:\n",
    "* __Thread-confined.__ A thread-confined object is owned exclusively by and confined to one thread, and can be modified by its owning thread.\n",
    "* __Shared read-only.__ A shared read-only object can be accessed concur- rently by multiple threads without additional synchronization, but cannot be modified by any thread. Shared read-only objects include immutable and effectively immutable objects.\n",
    "* __Shared thread-safe.__ A thread-safe object performs synchronization in- ternally, so multiple threads can freely access it through its public interface without further synchronization.\n",
    "* __Guarded.__ A guarded object can be accessed only with a specific lock held. Guarded objects include those that are encapsulated within other thread-safe objects and published objects that are known to be guarded by a specific lock."
   ]
  }
 ],
 "metadata": {
  "kernelspec": {
   "display_name": "Java",
   "language": "java",
   "name": "java"
  },
  "language_info": {
   "codemirror_mode": "java",
   "file_extension": ".jshell",
   "mimetype": "text/x-java-source",
   "name": "Java",
   "pygments_lexer": "java",
   "version": "14.0.1+7"
  }
 },
 "nbformat": 4,
 "nbformat_minor": 4
}
