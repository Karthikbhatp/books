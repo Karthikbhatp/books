{
 "cells": [
  {
   "cell_type": "markdown",
   "metadata": {},
   "source": [
    "# Java Threads and Concurrency Utilities\n",
    "\n",
    "## Chapter - 2\n",
    "## Synchronization"
   ]
  },
  {
   "cell_type": "code",
   "execution_count": 1,
   "metadata": {},
   "outputs": [
    {
     "data": {
      "text/plain": [
       "4"
      ]
     },
     "execution_count": 1,
     "metadata": {},
     "output_type": "execute_result"
    }
   ],
   "source": [
    "Runtime.getRuntime().availableProcessors()"
   ]
  },
  {
   "cell_type": "markdown",
   "metadata": {},
   "source": [
    "### The Problems with Threads\n",
    "\n",
    "* Race Conditions\n",
    "* Data Races\n",
    "* Cached Variables"
   ]
  },
  {
   "cell_type": "markdown",
   "metadata": {},
   "source": [
    "#### Race Condition"
   ]
  },
  {
   "cell_type": "markdown",
   "metadata": {},
   "source": [
    "A race condition occurs when the correctness of a computation depends on the relative timing or interleaving of multiple threads by the scheduler.\n",
    "<pre class=\"brush:java\"> \n",
    "if (a == 10.0) \n",
    "    b = a / 2.0;\n",
    "</pre>\n",
    "There is no problem with this code fragment in a single-threaded context, and there is no problem in a multithreaded context when a and b are local variables. \n",
    "\n",
    "However, assume that a and b identify instance or class (static) field variables and that two threads simultaneously access this code, and we are implementing this in multithreaded, this will definately be a disater in this case."
   ]
  },
  {
   "cell_type": "markdown",
   "metadata": {},
   "source": [
    "* The code fragment is an example of a common type of race condition that’s known as **check-then-act**, in which a potentially stale observation is used to decide on what to do next. \n",
    "* Another type of race condition is **read-modify-write**, in which new state is derived from previous state. The previous state is read, then modified, and finally updated to reflect the modified result via three indivisible operations. However, the combination of these operations isn’t indivisible."
   ]
  },
  {
   "cell_type": "markdown",
   "metadata": {},
   "source": [
    "#### Data Races"
   ]
  },
  {
   "cell_type": "markdown",
   "metadata": {},
   "source": [
    "A race condition is often confused with a data race in which two or more threads (in a single application) access the same memory location concurrently, at least one of the accesses is for writing, and these threads don’t coordinate their accesses to that memory. When these conditions hold, access order is non-deterministic. Different results may be generated from run to run, depending on that order. Consider the following example:\n",
    "\n",
    "<pre class=\"brush:java\"> \n",
    "private static Parser parser;\n",
    "public static Parser getInstance()\n",
    "{\n",
    "if (parser == null) parser = new Parser();\n",
    "   return parser;\n",
    "}\n",
    "</pre>"
   ]
  },
  {
   "cell_type": "markdown",
   "metadata": {},
   "source": [
    "#### Cached Variables\n",
    "To boost performance, the compiler, the Java virtual machine (JVM), and the operating system can collaborate to cache a variable in a register or a processor-local cache, rather than rely on main memory. Each thread has its own copy of the variable. When one thread writes to this variable, it’s writing to its copy; other threads are unlikely to see the update in their copies."
   ]
  },
  {
   "cell_type": "markdown",
   "metadata": {},
   "source": [
    "#### Synchronizing Access to Critical Sections\n",
    "You can use synchronization to solve the previous thread problems. Synchronization is a JVM feature that ensures that two or more concurrent threads don’t simultaneously execute a critical section, which is a code section that must be accessed in a serial (one thread at a time) manner."
   ]
  },
  {
   "cell_type": "markdown",
   "metadata": {},
   "source": [
    "#### Using Synchronized Methods\n",
    "A synchronized method includes the synchronized keyword in its header. For example, you can use this keyword to synchronize the former getID() method and overcome its read-modify-write race condition as follows:"
   ]
  },
  {
   "cell_type": "code",
   "execution_count": 2,
   "metadata": {},
   "outputs": [],
   "source": [
    "// public synchronized int getID()\n",
    "// {\n",
    "//    return counter++;\n",
    "// }"
   ]
  },
  {
   "cell_type": "markdown",
   "metadata": {},
   "source": [
    "When synchronizing on an instance method, the lock is associated with the object on which the method is called. For example, consider the following ID class:\n"
   ]
  },
  {
   "cell_type": "code",
   "execution_count": 3,
   "metadata": {},
   "outputs": [],
   "source": [
    "import java.util.Date;\n",
    "public class ID {\n",
    "    private int counter; // initialized to 0 by default\n",
    "\n",
    "    public synchronized int getID() {\n",
    "        try {\n",
    "            Thread.sleep(2000);\n",
    "        } catch (InterruptedException e) {\n",
    "            e.printStackTrace();\n",
    "        }\n",
    "        System.out.print(new Date()+\"\\n\");\n",
    "        return counter++;\n",
    "    }\n",
    "}"
   ]
  },
  {
   "cell_type": "markdown",
   "metadata": {},
   "source": [
    "Suppose you specify the following code sequence\n",
    "\n",
    "The lock is associated with the ID object whose reference is stored in id. If another thread called id.getID() while this method was executing, the other thread would have to wait until the executing thread released the lock."
   ]
  },
  {
   "cell_type": "code",
   "execution_count": 4,
   "metadata": {},
   "outputs": [
    {
     "name": "stdout",
     "output_type": "stream",
     "text": [
      "Sun Jul 05 21:13:03 IST 2020\n",
      "0\n",
      "Sun Jul 05 21:13:05 IST 2020\n",
      "1\n"
     ]
    }
   ],
   "source": [
    "\n",
    "ID id = new ID();\n",
    "// id.getID();\n",
    "Runnable getID = () -> {\n",
    "    System.out.println(id.getID());\n",
    "};\n",
    "\n",
    "Thread t1 = new Thread(getID);\n",
    "Thread t2 = new Thread(getID);\n",
    "\n",
    "t1.start();\n",
    "t2.start();\n",
    "\n",
    "t1.join();\n",
    "t2.join();"
   ]
  },
  {
   "cell_type": "code",
   "execution_count": 5,
   "metadata": {},
   "outputs": [],
   "source": [
    "public class IDStatic {\n",
    "    private static int counter; // initialized to 0 by default\n",
    "\n",
    "    public static synchronized int getID() {\n",
    "        try {\n",
    "            Thread.sleep(2000);\n",
    "        } catch (InterruptedException e) {\n",
    "            e.printStackTrace();\n",
    "        }\n",
    "        System.out.print(new Date() + \"\\n\");\n",
    "        return counter++;\n",
    "    }\n",
    "}"
   ]
  },
  {
   "cell_type": "code",
   "execution_count": 6,
   "metadata": {},
   "outputs": [
    {
     "name": "stdout",
     "output_type": "stream",
     "text": [
      "Sun Jul 05 21:13:07 IST 2020\n",
      "0\n",
      "Sun Jul 05 21:13:09 IST 2020\n",
      "1\n"
     ]
    }
   ],
   "source": [
    "IDStatic id = new IDStatic();\n",
    "Runnable getID = () -> {\n",
    "    System.out.println(IDStatic.getID());\n",
    "};\n",
    "\n",
    "Thread t1 = new Thread(getID);\n",
    "Thread t2 = new Thread(getID);\n",
    "\n",
    "t1.start();\n",
    "t2.start();\n",
    "\n",
    "t1.join();\n",
    "t2.join();"
   ]
  },
  {
   "cell_type": "markdown",
   "metadata": {},
   "source": [
    "#### Using Synchronized Blocks\n",
    "\n",
    "A synchronized block of statements is prefixed by a header that identifies the object whose lock is to be acquired. It has the following syntax:\n",
    "<pre class=\"brush:java\">\n",
    "synchronized(object) {\n",
    "   /* statements */\n",
    "}\n",
    "</pre>"
   ]
  },
  {
   "cell_type": "markdown",
   "metadata": {},
   "source": [
    "According to this syntax, object is an arbitrary object reference. The lock is associated with this object."
   ]
  },
  {
   "cell_type": "markdown",
   "metadata": {},
   "source": [
    "#### Beware of Liveness Problems"
   ]
  },
  {
   "cell_type": "markdown",
   "metadata": {},
   "source": [
    "The term liveness refers to something beneficial happening eventually. A liveness failure occurs when an application reaches a state in which it can make no further progress.\n",
    "* In a single-threaded application \n",
    "    * infinite loop \n",
    "* Multithreaded applications face the additional liveness challenges of \n",
    "    * deadlock \n",
    "    * livelock \n",
    "    * starvation"
   ]
  },
  {
   "cell_type": "markdown",
   "metadata": {},
   "source": [
    "#### Deadlock \n",
    "This pathological problem occurs because of too much synchronization via the synchronized keyword. If you’re not careful, you might encounter a situation where locks are acquired by multiple threads, neither thread holds its own lock but holds the lock needed by some other thread, and neither thread can enter and later exit its critical section to release its held lock because another thread holds the lock to that critical section"
   ]
  },
  {
   "cell_type": "code",
   "execution_count": 7,
   "metadata": {},
   "outputs": [],
   "source": [
    "public class DeadlockDemo {\n",
    "    private final Object lock1 = new Object();\n",
    "    private final Object lock2 = new Object();\n",
    "    \n",
    "    public void instanceMethod1() {\n",
    "        synchronized (lock1) {\n",
    "            synchronized (lock2) {\n",
    "                System.out.println(\"first thread in instanceMethod1\");\n",
    "                // critical section guarded first by\n",
    "                // lock1 and then by lock2\n",
    "            }\n",
    "        }\n",
    "    }\n",
    "\n",
    "    public void instanceMethod2() {\n",
    "        synchronized (lock2) {\n",
    "            synchronized (lock1) {\n",
    "                System.out.println(\"second thread in instanceMethod2\");\n",
    "                // critical section guarded first by lock2 and then by lock1\n",
    "            }\n",
    "        }\n",
    "    }\n",
    "}"
   ]
  },
  {
   "cell_type": "code",
   "execution_count": null,
   "metadata": {},
   "outputs": [
    {
     "name": "stdout",
     "output_type": "stream",
     "text": [
      "first thread in instanceMethod1\n",
      "first thread in instanceMethod1\n",
      "first thread in instanceMethod1\n",
      "second thread in instanceMethod2\n"
     ]
    }
   ],
   "source": [
    "\n",
    "final DeadlockDemo dld = new DeadlockDemo();\n",
    "Runnable r1 = () -> {\n",
    "    while (true) {\n",
    "        dld.instanceMethod1();\n",
    "        try {\n",
    "            Thread.sleep(50);\n",
    "        } catch (InterruptedException ie) {\n",
    "        }\n",
    "    }\n",
    "};\n",
    "\n",
    "Thread thdA = new Thread(r1);\n",
    "Runnable r2 = () -> {\n",
    "    while (true) {\n",
    "        dld.instanceMethod2();\n",
    "        try {\n",
    "            Thread.sleep(50);\n",
    "        } catch (InterruptedException ie) {\n",
    "        }\n",
    "    }\n",
    "};\n",
    "\n",
    "Thread thdB = new Thread(r2);\n",
    "thdA.start();\n",
    "thdB.start();"
   ]
  },
  {
   "cell_type": "markdown",
   "metadata": {},
   "source": [
    "#### Consider the following execution sequence:\n",
    "1. Thread A calls instanceMethod1(), obtains the lock assigned to the lock1-referenced object, and enters its outer critical section (but has not yet acquired the lock assigned to the lock2-referenced object).\n",
    "2. Thread B calls instanceMethod2(), obtains the lock assigned to the lock2-referenced object, and enters its outer critical section (but has not yet acquired the lock assigned to the lock1-referenced object).\n",
    "3. Thread A attempts to acquire the lock associated with lock2. The JVM forces the thread to wait outside of the inner critical section because thread B holds that lock.\n",
    "4. Thread B attempts to acquire the lock associated with lock1. The JVM forces the thread to wait outside of the inner critical section because thread A holds that lock.\n",
    "5. Neither thread can proceed because the other thread holds the needed lock. You have a deadlock situation and the program (at least in the context of the two threads) freezes up."
   ]
  },
  {
   "cell_type": "markdown",
   "metadata": {},
   "source": [
    "__Neither the Java language nor the JVM provides a way to prevent deadlock, and so the burden falls on you. the simplest way to prevent deadlock is to avoid having either a synchronized method or a synchronized block call another synchronized method/block. although this advice prevents deadlock from happening, it’s impractical because one of your synchronized methods/blocks might need to call a synchronized method in a Java api, and the advice is overkill because the synchronized method/block being called might not call any other synchronized method/block, so deadlock would not occur.__"
   ]
  },
  {
   "cell_type": "markdown",
   "metadata": {},
   "source": [
    "#### Stopping a thread\n"
   ]
  },
  {
   "cell_type": "code",
   "execution_count": 9,
   "metadata": {},
   "outputs": [],
   "source": [
    "class StoppableThread extends Thread {\n",
    "     private volatile boolean stopped; // defaults to false\n",
    "\n",
    "     @Override\n",
    "     public void run() {\n",
    "         while (!stopped)\n",
    "             System.out.println(\"running\");\n",
    "     }\n",
    "\n",
    "     void stopThread() {\n",
    "         stopped = true;\n",
    "     }\n",
    " }"
   ]
  },
  {
   "cell_type": "code",
   "execution_count": 10,
   "metadata": {},
   "outputs": [
    {
     "name": "stdout",
     "output_type": "stream",
     "text": [
      "running\n",
      "running\n",
      "running\n",
      "running\n",
      "running\n",
      "running\n",
      "running\n",
      "running\n",
      "running\n",
      "running\n",
      "running\n",
      "running\n",
      "running\n",
      "running\n",
      "running\n",
      "running\n",
      "running\n",
      "running\n",
      "running\n",
      "running\n",
      "running\n",
      "running\n",
      "running\n",
      "running\n",
      "running\n",
      "running\n",
      "running\n",
      "running\n",
      "running\n",
      "running\n",
      "running\n",
      "running\n",
      "running\n",
      "running\n",
      "running\n",
      "running\n",
      "running\n",
      "running\n",
      "running\n",
      "running\n",
      "running\n",
      "running\n",
      "running\n",
      "running\n",
      "running\n",
      "running\n",
      "running\n",
      "running\n",
      "running\n",
      "running\n",
      "running\n",
      "running\n",
      "running\n",
      "running\n",
      "running\n",
      "running\n",
      "running\n",
      "running\n",
      "running\n",
      "running\n",
      "running\n",
      "running\n",
      "running\n",
      "running\n",
      "running\n",
      "running\n",
      "running\n",
      "running\n",
      "running\n",
      "running\n",
      "running\n",
      "running\n",
      "running\n",
      "running\n",
      "running\n",
      "running\n",
      "running\n",
      "running\n",
      "running\n",
      "running\n",
      "running\n",
      "running\n",
      "running\n",
      "running\n",
      "running\n",
      "running\n",
      "running\n",
      "running\n",
      "running\n",
      "running\n",
      "running\n",
      "running\n",
      "running\n",
      "running\n",
      "running\n",
      "running\n",
      "running\n",
      "running\n",
      "running\n",
      "running\n",
      "running\n",
      "running\n",
      "running\n",
      "running\n",
      "running\n",
      "running\n",
      "running\n",
      "running\n",
      "running\n",
      "running\n",
      "running\n",
      "running\n",
      "running\n",
      "running\n",
      "running\n",
      "running\n",
      "running\n",
      "running\n",
      "running\n",
      "running\n",
      "running\n",
      "running\n",
      "running\n",
      "running\n",
      "running\n",
      "running\n",
      "running\n",
      "running\n",
      "running\n",
      "running\n",
      "running\n",
      "running\n",
      "running\n",
      "running\n",
      "running\n",
      "running\n",
      "running\n",
      "running\n",
      "running\n",
      "running\n",
      "running\n",
      "running\n",
      "running\n",
      "running\n",
      "running\n",
      "running\n",
      "running\n",
      "running\n",
      "running\n",
      "running\n",
      "running\n",
      "running\n",
      "running\n",
      "running\n",
      "running\n",
      "running\n",
      "running\n",
      "running\n",
      "running\n",
      "running\n",
      "running\n",
      "running\n",
      "running\n",
      "running\n",
      "running\n",
      "running\n",
      "running\n",
      "running\n",
      "running\n",
      "running\n",
      "running\n",
      "running\n",
      "running\n",
      "running\n",
      "running\n",
      "running\n",
      "running\n",
      "running\n",
      "running\n",
      "running\n",
      "running\n",
      "running\n",
      "running\n",
      "running\n",
      "running\n",
      "running\n",
      "running\n",
      "running\n",
      "running\n",
      "running\n",
      "running\n",
      "running\n",
      "running\n",
      "running\n",
      "running\n",
      "running\n",
      "running\n",
      "running\n",
      "running\n",
      "running\n",
      "running\n",
      "running\n",
      "running\n",
      "running\n",
      "running\n",
      "running\n",
      "running\n",
      "running\n",
      "running\n",
      "running\n",
      "running\n",
      "running\n",
      "running\n",
      "running\n",
      "running\n",
      "running\n",
      "running\n",
      "running\n",
      "running\n",
      "running\n",
      "running\n",
      "running\n",
      "running\n",
      "running\n",
      "running\n",
      "running\n",
      "running\n",
      "running\n"
     ]
    }
   ],
   "source": [
    "StoppableThread thd = new StoppableThread();\n",
    "thd.start();\n",
    "\n",
    "try {\n",
    "    Thread.sleep(1); // sleep for 1 second\n",
    "} catch (InterruptedException ie) {\n",
    "}\n",
    "\n",
    "thd.stopThread();"
   ]
  },
  {
   "cell_type": "markdown",
   "metadata": {},
   "source": [
    "#### Caution \n",
    "Use volatile only where visibility is an issue. also, you can only use this reserved word in the context of field declarations (you’ll receive an error if you try to make a local variable volatile). \n",
    "\n",
    "Finally, you can declare double and long fields volatile, but should avoid doing so on 32-bit JVMs because it takes two operations to access a double or long variable’s value, and mutual exclusion (via synchronized) is required to access their values safely."
   ]
  },
  {
   "cell_type": "markdown",
   "metadata": {},
   "source": [
    "#### Creating an Immutable and Thread-Safe Class with Help from final"
   ]
  },
  {
   "cell_type": "code",
   "execution_count": 11,
   "metadata": {},
   "outputs": [],
   "source": [
    "import java.util.Set;\n",
    "import java.util.TreeSet;\n",
    "\n",
    "public final class Planets \n",
    "{\n",
    "   private final Set<String> planets = new TreeSet<>();\n",
    "\n",
    "   public Planets() \n",
    "   {\n",
    "      planets.add(\"Mercury\");\n",
    "      planets.add(\"Venus\");\n",
    "      planets.add(\"Earth\");\n",
    "      planets.add(\"Mars\");\n",
    "      planets.add(\"Jupiter\");\n",
    "      planets.add(\"Saturn\");\n",
    "      planets.add(\"Uranus\");\n",
    "      planets.add(\"Neptune\");\n",
    "   }\n",
    "\n",
    "   public boolean isPlanet(String planetName) \n",
    "   {\n",
    "      return planets.contains(planetName);\n",
    "   }\n",
    "}"
   ]
  },
  {
   "cell_type": "code",
   "execution_count": 12,
   "metadata": {},
   "outputs": [
    {
     "name": "stdout",
     "output_type": "stream",
     "text": [
      "true\n",
      "false\n"
     ]
    }
   ],
   "source": [
    "Planets planets = new Planets();\n",
    "System.out.println(planets.isPlanet(\"Earth\"));\n",
    "System.out.println(planets.isPlanet(\"Vulcan\"));"
   ]
  },
  {
   "cell_type": "markdown",
   "metadata": {},
   "source": [
    "### Summary\n",
    "Developing multithreaded applications is much easier when threads don’t interact, typically via shared variables. When interaction occurs, race conditions, data races, and cached variable problems can arise that make an application thread-unsafe.\n",
    "\n",
    "You can use synchronization to solve race conditions, data races, and cached variable problems. Synchronization is a JVM feature that ensures that two or more concurrent threads don’t simultaneously execute a critical section that must be accessed in a serial manner.\n",
    "\n",
    "Liveness refers to something beneficial happening eventually. A liveness failure occurs when an application reaches a state in which it can make no further progress. Multithreaded applications face the liveness challenges of deadlock, livelock, and starvation.\n",
    "Synchronization exhibits two properties: mutual exclusion and visibility. The synchronized keyword is associated with both properties. Java also provides a weaker form of synchronization involving visibility only, and associates only this property with the volatile keyword.\n",
    "\n",
    "When a field variable is declared volatile, it cannot also be declared final. However, this isn’t a problem because Java also lets you safely access a final field without the need for synchronization. You will often use final to help ensure thread safety in the context of an immutable class.\n",
    "\n",
    "Chapter 3 presents waiting and notification."
   ]
  }
 ],
 "metadata": {
  "kernelspec": {
   "display_name": "Java",
   "language": "java",
   "name": "java"
  },
  "language_info": {
   "codemirror_mode": "java",
   "file_extension": ".jshell",
   "mimetype": "text/x-java-source",
   "name": "Java",
   "pygments_lexer": "java",
   "version": "14.0.1+7"
  }
 },
 "nbformat": 4,
 "nbformat_minor": 4
}
