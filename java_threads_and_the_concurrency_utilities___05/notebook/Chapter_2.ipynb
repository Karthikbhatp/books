{
 "cells": [
  {
   "cell_type": "markdown",
   "metadata": {},
   "source": [
    "# Java Threads and Concurrency Utilities\n",
    "\n",
    "## Chapter - 2"
   ]
  },
  {
   "cell_type": "code",
   "execution_count": 1,
   "metadata": {},
   "outputs": [
    {
     "data": {
      "text/plain": [
       "4"
      ]
     },
     "execution_count": 1,
     "metadata": {},
     "output_type": "execute_result"
    }
   ],
   "source": [
    "Runtime.getRuntime().availableProcessors()"
   ]
  },
  {
   "cell_type": "markdown",
   "metadata": {},
   "source": [
    "### The Problems with Threads\n",
    "\n",
    "* Race Conditions\n",
    "* Data Races\n",
    "* Cached Variables"
   ]
  },
  {
   "cell_type": "markdown",
   "metadata": {},
   "source": [
    "#### Race Condition"
   ]
  },
  {
   "cell_type": "markdown",
   "metadata": {},
   "source": [
    "A race condition occurs when the correctness of a computation depends on the relative timing or interleaving of multiple threads by the scheduler.\n",
    "<pre class=\"brush:java\"> \n",
    "if (a == 10.0) \n",
    "    b = a / 2.0;\n",
    "</pre>\n",
    "There is no problem with this code fragment in a single-threaded context, and there is no problem in a multithreaded context when a and b are local variables. \n",
    "\n",
    "However, assume that a and b identify instance or class (static) field variables and that two threads simultaneously access this code, and we are implementing this in multithreaded, this will definately be a disater in this case."
   ]
  },
  {
   "cell_type": "markdown",
   "metadata": {},
   "source": [
    "* The code fragment is an example of a common type of race condition that’s known as **check-then-act**, in which a potentially stale observation is used to decide on what to do next. \n",
    "* Another type of race condition is **read-modify-write**, in which new state is derived from previous state. The previous state is read, then modified, and finally updated to reflect the modified result via three indivisible operations. However, the combination of these operations isn’t indivisible."
   ]
  },
  {
   "cell_type": "markdown",
   "metadata": {},
   "source": [
    "#### Data Races"
   ]
  },
  {
   "cell_type": "markdown",
   "metadata": {},
   "source": [
    "A race condition is often confused with a data race in which two or more threads (in a single application) access the same memory location concurrently, at least one of the accesses is for writing, and these threads don’t coordinate their accesses to that memory. When these conditions hold, access order is non-deterministic. Different results may be generated from run to run, depending on that order. Consider the following example:\n",
    "\n",
    "<pre class=\"brush:java\"> \n",
    "private static Parser parser;\n",
    "public static Parser getInstance()\n",
    "{\n",
    "if (parser == null) parser = new Parser();\n",
    "   return parser;\n",
    "}\n",
    "</pre>"
   ]
  },
  {
   "cell_type": "markdown",
   "metadata": {},
   "source": [
    "#### Cached Variables\n",
    "To boost performance, the compiler, the Java virtual machine (JVM), and the operating system can collaborate to cache a variable in a register or a processor-local cache, rather than rely on main memory. Each thread has its own copy of the variable. When one thread writes to this variable, it’s writing to its copy; other threads are unlikely to see the update in their copies."
   ]
  },
  {
   "cell_type": "markdown",
   "metadata": {},
   "source": [
    "#### Synchronizing Access to Critical Sections\n",
    "You can use synchronization to solve the previous thread problems. Synchronization is a JVM feature that ensures that two or more concurrent threads don’t simultaneously execute a critical section, which is a code section that must be accessed in a serial (one thread at a time) manner."
   ]
  },
  {
   "cell_type": "markdown",
   "metadata": {},
   "source": [
    "#### Using Synchronized Methods\n",
    "A synchronized method includes the synchronized keyword in its header. For example, you can use this keyword to synchronize the former getID() method and overcome its read-modify-write race condition as follows:"
   ]
  },
  {
   "cell_type": "code",
   "execution_count": 2,
   "metadata": {},
   "outputs": [],
   "source": [
    "// public synchronized int getID()\n",
    "// {\n",
    "//    return counter++;\n",
    "// }"
   ]
  },
  {
   "cell_type": "markdown",
   "metadata": {},
   "source": [
    "When synchronizing on an instance method, the lock is associated with the object on which the method is called. For example, consider the following ID class:\n"
   ]
  },
  {
   "cell_type": "code",
   "execution_count": 47,
   "metadata": {},
   "outputs": [],
   "source": [
    "import java.util.Date;\n",
    "public class ID {\n",
    "\tprivate int counter; // initialized to 0 by default\n",
    "\n",
    "\tpublic synchronized int getID() {\n",
    "\t\ttry {\n",
    "\t\t\tThread.sleep(2000);\n",
    "\t\t} catch (InterruptedException e) {\n",
    "\t\t\te.printStackTrace();\n",
    "\t\t}\n",
    "        System.out.print(new Date()+\"\\n\");\n",
    "\t\treturn counter++;\n",
    "\t}\n",
    "}"
   ]
  },
  {
   "cell_type": "markdown",
   "metadata": {},
   "source": [
    "Suppose you specify the following code sequence\n",
    "\n",
    "The lock is associated with the ID object whose reference is stored in id. If another thread called id.getID() while this method was executing, the other thread would have to wait until the executing thread released the lock."
   ]
  },
  {
   "cell_type": "code",
   "execution_count": 48,
   "metadata": {},
   "outputs": [
    {
     "name": "stdout",
     "output_type": "stream",
     "text": [
      "Wed Jun 17 21:22:06 IST 2020\n",
      "0\n",
      "Wed Jun 17 21:22:08 IST 2020\n",
      "1\n"
     ]
    }
   ],
   "source": [
    "\n",
    "ID id = new ID();\n",
    "// id.getID();\n",
    "Runnable getID = () -> {\n",
    "\tSystem.out.println(id.getID());\n",
    "};\n",
    "\n",
    "Thread t1 = new Thread(getID);\n",
    "Thread t2 = new Thread(getID);\n",
    "\n",
    "t1.start();\n",
    "t2.start();\n",
    "\n",
    "t1.join();\n",
    "t2.join();"
   ]
  },
  {
   "cell_type": "code",
   "execution_count": 50,
   "metadata": {},
   "outputs": [],
   "source": [
    "public class IDStatic {\n",
    "\tprivate static int counter; // initialized to 0 by default\n",
    "\n",
    "\tpublic static synchronized int getID() {\n",
    "\t\ttry {\n",
    "\t\t\tThread.sleep(2000);\n",
    "\t\t} catch (InterruptedException e) {\n",
    "\t\t\te.printStackTrace();\n",
    "\t\t}\n",
    "\t\tSystem.out.print(new Date() + \"\\n\");\n",
    "\t\treturn counter++;\n",
    "\t}\n",
    "}"
   ]
  },
  {
   "cell_type": "code",
   "execution_count": 51,
   "metadata": {},
   "outputs": [
    {
     "name": "stdout",
     "output_type": "stream",
     "text": [
      "Wed Jun 17 21:25:06 IST 2020\n",
      "0\n",
      "Wed Jun 17 21:25:08 IST 2020\n",
      "1\n"
     ]
    }
   ],
   "source": [
    "IDStatic id = new IDStatic();\n",
    "Runnable getID = () -> {\n",
    "\tSystem.out.println(IDStatic.getID());\n",
    "};\n",
    "\n",
    "Thread t1 = new Thread(getID);\n",
    "Thread t2 = new Thread(getID);\n",
    "\n",
    "t1.start();\n",
    "t2.start();\n",
    "\n",
    "t1.join();\n",
    "t2.join();"
   ]
  },
  {
   "cell_type": "code",
   "execution_count": null,
   "metadata": {},
   "outputs": [],
   "source": []
  }
 ],
 "metadata": {
  "kernelspec": {
   "display_name": "Java",
   "language": "java",
   "name": "java"
  },
  "language_info": {
   "codemirror_mode": "java",
   "file_extension": ".jshell",
   "mimetype": "text/x-java-source",
   "name": "Java",
   "pygments_lexer": "java",
   "version": "14.0.1+7"
  }
 },
 "nbformat": 4,
 "nbformat_minor": 4
}
