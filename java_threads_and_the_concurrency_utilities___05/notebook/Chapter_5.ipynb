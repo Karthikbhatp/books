{
 "cells": [
  {
   "cell_type": "markdown",
   "metadata": {},
   "source": [
    "# Java Threads and Concurrency Utilities\n",
    "\n",
    "## Chapter - 5\n",
    "## Concurrency Utilities and Executors"
   ]
  },
  {
   "cell_type": "markdown",
   "metadata": {},
   "source": [
    "Java’s low-level threads support lets you create multithreaded applications that offer better performance and responsiveness over their single-threaded counterparts. However, there are problems:\n",
    "* Low-level concurrency primitives such as synchronized and wait()/notify() are often hard to use correctly. Incorrect use of these primitives can result in race conditions, thread starvation, deadlock, and other hazards, which can be hard to detect and debug.\n",
    "* Too much reliance on the synchronized primitive can lead to performance issues, which affect an application’s scalability. This is a significant problem for highly-threaded applications such as web servers.\n",
    "* Developers often need higher-level constructs such as thread pools and semaphores. Because these constructs aren’t included with Java’s low-level thread support, developers have been forced to build their own, which is a time-consuming and error-prone activity."
   ]
  },
  {
   "cell_type": "markdown",
   "metadata": {},
   "source": [
    "To address these problems, Java 5 introduced the concurrency utilities, a powerful and extensible framework of high-performance threading utilities such as thread pools and blocking queues. This framework consists of various types in the following packages:\n",
    "* java.util.concurrent: Utility types that are often used in concurrent programming, for example, executors.\n",
    "* java.util.concurrent.atomic: Utility classes that support lock- free thread-safe programming on single variables.\n",
    "* java.util.concurrent.locks: Utility types that lock and wait on conditions (objects that let threads suspend execution [wait] until notified by other threads that some boolean state may now be true). Locking and waiting via these types is more performant and flexible than doing so via Java’s monitor-based synchronization and wait/notification mechanisms."
   ]
  },
  {
   "cell_type": "markdown",
   "metadata": {},
   "source": [
    "## Executor Example\n",
    "The following example presents the Executor equivalent of the aforementioned new Thread(new RunnableTask()).start();expression:\n",
    "<code>\n",
    "Executor executor = ...; // ... represents some executor creation \n",
    "executor.execute(new RunnableTask());\n",
    "</code>\n",
    "Although Executor is easy to use, this interface is limited in various ways:\n",
    "* Executor focuses exclusively on Runnable. Because Runnable’s run() method doesn’t return a value, there’s no easy way for a runnable task to return a value to its caller.\n",
    "* Executor doesn’t provide a way to track the progress of runnable tasks that are executing, cancel an executing runnable task, or determine when the runnable task finishes execution.\n",
    "* Executor cannot execute a collection of runnable tasks.\n",
    "* Executor doesn’t provide a way for an application to shut down an executor (much less properly shut down an executor). \n",
    "\n",
    "These limitations are addressed by the java.util.concurrent.ExecutorService interface, which extends Executor and whose implementation is typically a thread pool. Table 5-1 describes ExecutorService’s methods."
   ]
  },
  {
   "cell_type": "code",
   "execution_count": 1,
   "metadata": {},
   "outputs": [],
   "source": [
    "import java.util.concurrent.Callable;\n",
    "import java.util.concurrent.ExecutionException;\n",
    "import java.util.concurrent.ExecutorService;\n",
    "import java.util.concurrent.Executors;\n",
    "import java.util.concurrent.Future;\n",
    "import java.util.concurrent.TimeUnit;\n",
    "import java.util.concurrent.TimeoutException;\n",
    "\n",
    "ExecutorService executor = Executors.newFixedThreadPool(1);\n",
    "\n",
    "Callable<Boolean> callable = () -> {\n",
    "\ttry {\n",
    "// \t\tTime taking task\n",
    "\t\tThread.sleep(2000);\n",
    "\t} catch (InterruptedException e) {\n",
    "\t\tSystem.err.println(\"InterruptedException while waiting\");\n",
    "\t}\n",
    "\treturn true;\n",
    "};"
   ]
  },
  {
   "cell_type": "code",
   "execution_count": 2,
   "metadata": {},
   "outputs": [
    {
     "name": "stderr",
     "output_type": "stream",
     "text": [
      "TimeoutException while waiting\n"
     ]
    }
   ],
   "source": [
    "Future<Boolean> taskFuture = executor.submit(callable);\n",
    "try {\n",
    "\tSystem.out.println(taskFuture.get(1000, TimeUnit.MILLISECONDS));\n",
    "} catch (InterruptedException e) {\n",
    "\tSystem.err.println(\"InterruptedException while waiting\");\n",
    "} catch (ExecutionException e) {\n",
    "\tSystem.err.println(\"ExecutionException while waiting\");\n",
    "} catch (TimeoutException e) {\n",
    "\tSystem.err.println(\"TimeoutException while waiting\");\n",
    "}"
   ]
  },
  {
   "cell_type": "markdown",
   "metadata": {},
   "source": [
    "Now, get() will wait till the task gets completed."
   ]
  },
  {
   "cell_type": "code",
   "execution_count": 3,
   "metadata": {},
   "outputs": [
    {
     "name": "stdout",
     "output_type": "stream",
     "text": [
      "true\n"
     ]
    }
   ],
   "source": [
    "try {\n",
    "\tSystem.out.println(taskFuture.get());\n",
    "} catch (ExecutionException ee) {\n",
    "\tSystem.err.println(\"task threw an exception\");\n",
    "\tSystem.err.println(ee);\n",
    "} catch (InterruptedException ie) {\n",
    "\tSystem.err.println(\"interrupted while waiting\");\n",
    "}"
   ]
  },
  {
   "cell_type": "code",
   "execution_count": 4,
   "metadata": {},
   "outputs": [
    {
     "data": {
      "text/plain": [
       "[]"
      ]
     },
     "execution_count": 4,
     "metadata": {},
     "output_type": "execute_result"
    }
   ],
   "source": [
    "executor.shutdownNow();"
   ]
  },
  {
   "cell_type": "markdown",
   "metadata": {},
   "source": [
    "#### Attempts to stop all actively executing tasks, halts the processing of waiting tasks, and returns a list of the tasks that were awaiting execution."
   ]
  },
  {
   "cell_type": "markdown",
   "metadata": {},
   "source": [
    "## Summary\n",
    "Java’s low-level thread capabilities let you create multithreaded applications that\n",
    "offer better performance and responsiveness over their single-threaded counterparts. However, performance issues that affect an application’s scalability and other problems resulted in Java 5’s introduction of the concurrency utilities.\n",
    "The concurrency utilities organize various types into three packages: java.util. concurrent, java.util.concurrent.atomic, and java.util.concurrent.locks.\n",
    "\n",
    "Basic types for executors, thread pools, concurrent hashmaps, and other high-level concurrency constructs are stored in java.util.concurrent; classes that support lock- free, thread-safe programming on single variables are stored in java.util.concurrent. atomic; and types for locking and waiting on conditions are stored in java.util. concurrent.locks.\n",
    "\n",
    "An executor decouples task submission from task-execution mechanics and\n",
    "is described by the Executor, ExecutorService, and ScheduledExecutorService interfaces. You obtain an executor by calling one of the utility methods in the Executors class. Executors are associated with callables and futures.\n",
    "Chapter 6 presents synchronizers."
   ]
  }
 ],
 "metadata": {
  "kernelspec": {
   "display_name": "Java",
   "language": "java",
   "name": "java"
  },
  "language_info": {
   "codemirror_mode": "java",
   "file_extension": ".jshell",
   "mimetype": "text/x-java-source",
   "name": "Java",
   "pygments_lexer": "java",
   "version": "14.0.1+7"
  }
 },
 "nbformat": 4,
 "nbformat_minor": 4
}
