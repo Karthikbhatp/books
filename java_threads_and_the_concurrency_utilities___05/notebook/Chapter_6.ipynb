{
 "cells": [
  {
   "cell_type": "markdown",
   "metadata": {},
   "source": [
    "# Java Threads and Concurrency Utilities\n",
    "\n",
    "## Chapter - 6\n",
    "## Synchronizers"
   ]
  },
  {
   "cell_type": "markdown",
   "metadata": {},
   "source": [
    "Because it can be difficult to correctly write synchronized code that’s based on synchronized, high-level synchronizers (classes that facilitate common forms of synchronization) are included in the concurrency utilities. In this chapter, I introduce you to the countdown latch, cyclic barrier, exchanger, semaphore, and phaser synchronizers."
   ]
  },
  {
   "cell_type": "markdown",
   "metadata": {},
   "source": [
    "## Countdown Latch\n",
    "The java.util.concurrent.CountDownLatch class implements the countdown latch synchronizer. You initialize a CountDownLatch instance to a specific count by invoking this class’s CountDownLatch(int count) constructor, which throws java.lang. IllegalArgumentException when the value passed to count is negative."
   ]
  },
  {
   "cell_type": "markdown",
   "metadata": {},
   "source": [
    "This is a story of a race in which 3 participants Bolt, Honey and Angel participated.\n",
    "\n",
    "1. All participants came to the starting position\n",
    "2. Race got started\n",
    "3. All participants reached to the finishing point\n",
    "\n",
    "Moral: It does not matter who came first or last, as they all reached to the finishing line. This is multiverse."
   ]
  },
  {
   "cell_type": "markdown",
   "metadata": {},
   "source": [
    "Imports and declared the total number of participants."
   ]
  },
  {
   "cell_type": "code",
   "execution_count": 1,
   "metadata": {},
   "outputs": [],
   "source": [
    "import java.util.concurrent.CountDownLatch;\n",
    "import java.util.concurrent.ExecutorService;\n",
    "import java.util.concurrent.Executors;\n",
    "final static int NPARTICIPANTS = 3;"
   ]
  },
  {
   "cell_type": "markdown",
   "metadata": {},
   "source": [
    "Declared 2 countdown latch.\n",
    "1. startSignal will be used to start all NPARTICIPANTS at the same time. Like the race starts here, this is the starting point\n",
    "2. doneSignal will be used to finish the race, like all the participants reached the finishing line and race got over."
   ]
  },
  {
   "cell_type": "code",
   "execution_count": 2,
   "metadata": {},
   "outputs": [],
   "source": [
    "final CountDownLatch startSignal = new CountDownLatch(1);\n",
    "final CountDownLatch doneSignal = new CountDownLatch(NPARTICIPANTS);"
   ]
  },
  {
   "cell_type": "markdown",
   "metadata": {},
   "source": [
    "This method is used to report the positions of the participants."
   ]
  },
  {
   "cell_type": "code",
   "execution_count": 3,
   "metadata": {},
   "outputs": [],
   "source": [
    "static void report(String s) {\n",
    "        System.out.println(System.currentTimeMillis() + \": \" + Thread.currentThread() + \": \" + s);\n",
    "    }"
   ]
  },
  {
   "cell_type": "code",
   "execution_count": 4,
   "metadata": {},
   "outputs": [],
   "source": [
    "Runnable r = () -> {\n",
    "    try {\n",
    "        report(\"Participant entered the race <run() method> and is ready at starting point\");\n",
    "        startSignal.await(); // wait until told to\n",
    "        report(\"Running in the race. <Started doing some work>\"); // Proceed\n",
    "        doneSignal.countDown(); // reduce count on which main thread is waiting\n",
    "    } catch (InterruptedException ie) {\n",
    "    }\n",
    "};"
   ]
  },
  {
   "cell_type": "code",
   "execution_count": 5,
   "metadata": {},
   "outputs": [
    {
     "name": "stdout",
     "output_type": "stream",
     "text": [
      "1594577757660: Thread[pool-1-thread-1,5,main]: Participant entered the race <run() method> and is ready at starting point\n",
      "1594577757661: Thread[pool-1-thread-3,5,main]: Participant entered the race <run() method> and is ready at starting point\n",
      "1594577757661: Thread[pool-1-thread-2,5,main]: Participant entered the race <run() method> and is ready at starting point\n",
      "Come on all the participants, the race is going to be started in 1 second, get ready\n",
      "Race started. 3 2 1 GO... Cheers...\n",
      "1594577758771: Thread[pool-1-thread-1,5,main]: Running in the race. <Started doing some work>\n",
      "1594577758772: Thread[pool-1-thread-2,5,main]: Running in the race. <Started doing some work>\n",
      "1594577758771: Thread[pool-1-thread-3,5,main]: Running in the race. <Started doing some work>\n",
      "All the participants reached the finishing line, and all won the race. Cheers... Race is over.\n"
     ]
    }
   ],
   "source": [
    "ExecutorService executor = Executors.newFixedThreadPool(NPARTICIPANTS);\n",
    "\n",
    "for (int i = 0; i < NPARTICIPANTS; i++)\n",
    "    executor.execute(r);\n",
    "\n",
    "try {\n",
    "    System.out.println(\"Come on all the participants, the race is going to be started in 1 second, get ready\");\n",
    "    Thread.sleep(1000); // sleep for 1 second\n",
    "    startSignal.countDown(); // let all participants proceed\n",
    "    System.out.println(\"Race started. 3 2 1 GO... Cheers...\");\n",
    "    doneSignal.await(); // wait for all participants to finish\n",
    "    System.out.println(\"All the participants reached the finishing line, and all won the race. Cheers... Race is over.\");\n",
    "    executor.shutdownNow();\n",
    "} catch (InterruptedException ie) {\n",
    "    System.err.println(ie);\n",
    "}"
   ]
  },
  {
   "cell_type": "markdown",
   "metadata": {},
   "source": [
    "## Custom Count Down Latch\n",
    "Implement a working count down latch for POC"
   ]
  },
  {
   "cell_type": "code",
   "execution_count": 6,
   "metadata": {},
   "outputs": [],
   "source": [
    "class CustomCountDownLatch {\n",
    "    int counter;\n",
    "\n",
    "    public CustomCountDownLatch(int counter) {\n",
    "        this.counter = counter;\n",
    "    }\n",
    "\n",
    "    public synchronized void await() throws InterruptedException {\n",
    "        if (counter > 0) {\n",
    "            wait();\n",
    "        }\n",
    "    }\n",
    "\n",
    "    /**\n",
    "     * method will decrement the counter by 1 each time\n",
    "     */\n",
    "    public synchronized void countDown() {\n",
    "        counter--;\n",
    "        if (counter == 0) {\n",
    "            notifyAll();\n",
    "        }\n",
    "    }\n",
    "}"
   ]
  },
  {
   "cell_type": "code",
   "execution_count": 7,
   "metadata": {},
   "outputs": [],
   "source": [
    "CustomCountDownLatch countDownLatch = new CustomCountDownLatch(3);"
   ]
  },
  {
   "cell_type": "code",
   "execution_count": 8,
   "metadata": {},
   "outputs": [],
   "source": [
    "Runnable runnableCustomCDL = () -> {\n",
    "    System.out.println(\"Working : \" + Thread.currentThread().getName());\n",
    "    countDownLatch.countDown();\n",
    "    try {\n",
    "        Thread.sleep(2000);\n",
    "    } catch (InterruptedException e) {\n",
    "        e.printStackTrace();\n",
    "    }\n",
    "};"
   ]
  },
  {
   "cell_type": "code",
   "execution_count": 9,
   "metadata": {},
   "outputs": [],
   "source": [
    "Thread t1 = new Thread(runnableCustomCDL, \"T1\");\n",
    "Thread t2 = new Thread(runnableCustomCDL, \"T2\");\n",
    "Thread t3 = new Thread(runnableCustomCDL, \"T3\");"
   ]
  },
  {
   "cell_type": "code",
   "execution_count": 10,
   "metadata": {},
   "outputs": [
    {
     "name": "stdout",
     "output_type": "stream",
     "text": [
      "Working : T1\n",
      "Working : T2\n",
      "Working : T3\n",
      "Waiting for all the threads to finish\n",
      "Finished work load of all the threads.\n"
     ]
    }
   ],
   "source": [
    "t1.start();\n",
    "t2.start();\n",
    "t3.start();\n",
    "\n",
    "try {\n",
    "    System.out.println(\"Waiting for all the threads to finish\");\n",
    "    countDownLatch.await();\n",
    "} catch (InterruptedException e) {\n",
    "    e.printStackTrace();\n",
    "}\n",
    "\n",
    "System.out.println(\"Finished work load of all the threads.\");"
   ]
  },
  {
   "cell_type": "markdown",
   "metadata": {},
   "source": [
    "## Cyclic Barriers"
   ]
  },
  {
   "cell_type": "markdown",
   "metadata": {},
   "source": [
    "Cyclic barriers are useful in parallel decomposition scenarios, where a lengthy task is divided into subtasks whose individual results are later merged into the overall result of the task. "
   ]
  },
  {
   "cell_type": "code",
   "execution_count": 11,
   "metadata": {},
   "outputs": [],
   "source": [
    "import java.util.ArrayList;\n",
    "import java.util.Collections;\n",
    "import java.util.List;\n",
    "import java.util.Random;\n",
    "import java.util.concurrent.BrokenBarrierException;\n",
    "import java.util.concurrent.CyclicBarrier;"
   ]
  },
  {
   "cell_type": "code",
   "execution_count": 12,
   "metadata": {},
   "outputs": [],
   "source": [
    "class Solver {\n",
    "    final int N;\n",
    "    final float[][] data;\n",
    "    final CyclicBarrier barrier;\n",
    "\n",
    "    class Worker implements Runnable {\n",
    "        int myRow;\n",
    "        boolean done = false;\n",
    "\n",
    "        Worker(int row) {\n",
    "            myRow = row;\n",
    "        }\n",
    "\n",
    "        boolean done() {\n",
    "            return done;\n",
    "        }\n",
    "\n",
    "        void processRow(int myRow) {\n",
    "            System.out.println(\"Processing row: \" + myRow);\n",
    "            for (int i = 0; i < N; i++)\n",
    "                data[myRow][i] *= 10;\n",
    "            done = true;\n",
    "        }\n",
    "\n",
    "        @Override\n",
    "        public void run() {\n",
    "            while (!done()) {\n",
    "                processRow(myRow);\n",
    "\n",
    "                try {\n",
    "                    barrier.await();\n",
    "                } catch (InterruptedException ie) {\n",
    "                    return;\n",
    "                } catch (BrokenBarrierException bbe) {\n",
    "                    return;\n",
    "                }\n",
    "            }\n",
    "        }\n",
    "    }\n",
    "\n",
    "    public Solver(float[][] matrix) {\n",
    "        data = matrix;\n",
    "        N = matrix.length;\n",
    "        barrier = new CyclicBarrier(N, new Runnable() {\n",
    "            @Override\n",
    "            public void run() {\n",
    "                mergeRows();\n",
    "            }\n",
    "        });\n",
    "        for (int i = 0; i < N; ++i)\n",
    "            new Thread(new Worker(i)).start();\n",
    "\n",
    "        waitUntilDone();\n",
    "    }\n",
    "\n",
    "    void mergeRows() {\n",
    "        System.out.println(\"merging\");\n",
    "        synchronized (\"abc\") {\n",
    "            \"abc\".notify();\n",
    "        }\n",
    "    }\n",
    "\n",
    "    void waitUntilDone() {\n",
    "        synchronized (\"abc\") {\n",
    "            try {\n",
    "                System.out.println(\"main thread waiting\");\n",
    "                \"abc\".wait();\n",
    "                System.out.println(\"main thread notified\");\n",
    "            } catch (InterruptedException ie) {\n",
    "                System.out.println(\"main thread interrupted\");\n",
    "            }\n",
    "        }\n",
    "    }\n",
    "}"
   ]
  },
  {
   "cell_type": "code",
   "execution_count": 13,
   "metadata": {},
   "outputs": [],
   "source": [
    "static void dump(float[][] matrix) {\n",
    "    for (int row = 0; row < matrix.length; row++) {\n",
    "        for (int col = 0; col < matrix[0].length; col++)\n",
    "            System.out.print(matrix[row][col] + \" \");\n",
    "        System.out.println();\n",
    "    }\n",
    "}"
   ]
  },
  {
   "cell_type": "code",
   "execution_count": 14,
   "metadata": {},
   "outputs": [
    {
     "name": "stdout",
     "output_type": "stream",
     "text": [
      "0.0 1.0 2.0 \n",
      "3.0 4.0 5.0 \n",
      "6.0 7.0 8.0 \n",
      "\n",
      "Processing row: 0\n",
      "main thread waiting\n",
      "Processing row: 2\n",
      "Processing row: 1\n",
      "merging\n",
      "main thread notified\n",
      "\n",
      "0.0 10.0 20.0 \n",
      "30.0 40.0 50.0 \n",
      "60.0 70.0 80.0 \n"
     ]
    }
   ],
   "source": [
    "float[][] matrix = new float[3][3];\n",
    "int counter = 0;\n",
    "for (int row = 0; row < matrix.length; row++)\n",
    "    for (int col = 0; col < matrix[0].length; col++)\n",
    "        matrix[row][col] = counter++;\n",
    "dump(matrix);\n",
    "System.out.println();\n",
    "Solver solver = new Solver(matrix);\n",
    "System.out.println();\n",
    "dump(matrix);"
   ]
  },
  {
   "cell_type": "markdown",
   "metadata": {},
   "source": [
    "## Exchangers\n",
    "An exchanger provides a synchronization point where threads can swap objects. Each thread presents some object on entry to the exchanger’s exchange() method, matches with a partner thread, and receives its partner’s object on return. Exchangers can be useful in applications such as genetic algorithms (see http://en.wikipedia.org/wiki/Genetic_algorithm) and pipeline designs."
   ]
  },
  {
   "cell_type": "code",
   "execution_count": 15,
   "metadata": {},
   "outputs": [],
   "source": [
    "// Look for some code example."
   ]
  },
  {
   "cell_type": "markdown",
   "metadata": {},
   "source": [
    "## Semaphores\n",
    "A semaphore maintains a set of permits for restricting the number of threads that can access a limited resource. A thread attempting to acquire a permit when no permits are available blocks until some other thread releases a permit.\n",
    "\n",
    "■ Note Semaphores whose current values can be incremented past 1 are known as counting semaphores, whereas semaphores whose current values can be only 0 or 1 are known as binary semaphores or mutexes. in either case, the current value cannot be negative.\n"
   ]
  },
  {
   "cell_type": "markdown",
   "metadata": {},
   "source": [
    "Look for some good code example."
   ]
  },
  {
   "cell_type": "code",
   "execution_count": 16,
   "metadata": {},
   "outputs": [],
   "source": [
    "// max 4 people\n",
    "static Semaphore semaphore = new Semaphore(4);"
   ]
  },
  {
   "cell_type": "code",
   "execution_count": 17,
   "metadata": {},
   "outputs": [],
   "source": [
    "class MyATMThread extends Thread {\n",
    "\n",
    "    String name = \"\";\n",
    "\n",
    "    MyATMThread(String name) {\n",
    "        this.name = name;\n",
    "    }\n",
    "\n",
    "    public void run() {\n",
    "\n",
    "        try {\n",
    "\n",
    "            System.out.println(name + \" : acquiring lock...\");\n",
    "            System.out.println(name + \" : available Semaphore permits now: \" + semaphore.availablePermits());\n",
    "\n",
    "            semaphore.acquire();\n",
    "            System.out.println(name + \" : got the permit!\");\n",
    "\n",
    "            try {\n",
    "\n",
    "                for (int i = 1; i <= 5; i++) {\n",
    "\n",
    "                    System.out.println(name + \" : is performing operation \" + i + \", available Semaphore permits : \"\n",
    "                            + semaphore.availablePermits());\n",
    "\n",
    "                    // sleep 1 second\n",
    "                    Thread.sleep(1000);\n",
    "\n",
    "                }\n",
    "\n",
    "            } finally {\n",
    "\n",
    "                // calling release() after a successful acquire()\n",
    "                System.out.println(name + \" : releasing lock...\");\n",
    "                semaphore.release();\n",
    "                System.out.println(name + \" : available Semaphore permits now: \" + semaphore.availablePermits());\n",
    "\n",
    "            }\n",
    "\n",
    "        } catch (InterruptedException e) {\n",
    "\n",
    "            e.printStackTrace();\n",
    "\n",
    "        }\n",
    "\n",
    "    }\n",
    "\n",
    "}"
   ]
  },
  {
   "cell_type": "code",
   "execution_count": 18,
   "metadata": {},
   "outputs": [
    {
     "name": "stdout",
     "output_type": "stream",
     "text": [
      "Total available Semaphore permits : 4\n",
      "A : acquiring lock...\n",
      "A : available Semaphore permits now: 4\n",
      "A : got the permit!\n",
      "A : is performing operation 1, available Semaphore permits : 3\n",
      "B : acquiring lock...\n",
      "B : available Semaphore permits now: 3\n",
      "B : got the permit!\n",
      "B : is performing operation 1, available Semaphore permits : 2\n",
      "C : acquiring lock...\n",
      "C : available Semaphore permits now: 2\n",
      "C : got the permit!\n",
      "C : is performing operation 1, available Semaphore permits : 1\n",
      "D : acquiring lock...\n",
      "D : available Semaphore permits now: 1\n",
      "D : got the permit!\n",
      "D : is performing operation 1, available Semaphore permits : 0\n",
      "E : acquiring lock...\n",
      "E : available Semaphore permits now: 0\n",
      "F : acquiring lock...\n",
      "F : available Semaphore permits now: 0\n"
     ]
    }
   ],
   "source": [
    "System.out.println(\"Total available Semaphore permits : \"\n",
    "        + semaphore.availablePermits());\n",
    "\n",
    "MyATMThread t1 = new MyATMThread(\"A\");\n",
    "t1.start();\n",
    "\n",
    "MyATMThread t2 = new MyATMThread(\"B\");\n",
    "t2.start();\n",
    "\n",
    "MyATMThread t3 = new MyATMThread(\"C\");\n",
    "t3.start();\n",
    "\n",
    "MyATMThread t4 = new MyATMThread(\"D\");\n",
    "t4.start();\n",
    "\n",
    "MyATMThread t5 = new MyATMThread(\"E\");\n",
    "t5.start();\n",
    "\n",
    "MyATMThread t6 = new MyATMThread(\"F\");\n",
    "t6.start();"
   ]
  },
  {
   "cell_type": "markdown",
   "metadata": {},
   "source": [
    "## Phasers\n",
    "A phaser is a more flexible cyclic barrier. Like a cyclic barrier, a phaser lets a group of threads wait on a barrier; these threads continue after the last thread arrives. A phaser\n",
    "also offers the equivalent of a barrier action. Unlike a cyclic barrier, which coordinates a fixed number of threads, a phaser can coordinate a variable number of threads, which can register at any time. To implement this capability, a phaser uses phases and phase numbers.\n",
    "\n",
    "A phase is the phaser’s current state, and this state is identified by an integer-based phase number. When the last of the registered threads arrives at the phaser barrier, a phaser advances to the next phase and increments its phase number by 1."
   ]
  },
  {
   "cell_type": "code",
   "execution_count": 19,
   "metadata": {},
   "outputs": [],
   "source": [
    "static void runTasks(List<Runnable> tasks) {\n",
    "    final Phaser phaser = new Phaser(1); // \"1\" (register self)\n",
    "    // create and start threads\n",
    "    for (final Runnable task : tasks) {\n",
    "        phaser.register();\n",
    "        Runnable r = () -> {\n",
    "//             try {\n",
    "//                 Thread.sleep(500);\n",
    "//             } catch (InterruptedException ie) {\n",
    "//                 System.out.println(\"interrupted thread\");\n",
    "//             }\n",
    "            phaser.arriveAndAwaitAdvance(); // await the ...\n",
    "                                            // creation of ...\n",
    "                                            // all tasks\n",
    "            task.run();\n",
    "        };\n",
    "        Executors.newSingleThreadExecutor().execute(r);\n",
    "    }\n",
    "    // allow threads to start and deregister self\n",
    "    phaser.arriveAndDeregister();\n",
    "}"
   ]
  },
  {
   "cell_type": "code",
   "execution_count": 20,
   "metadata": {},
   "outputs": [
    {
     "name": "stdout",
     "output_type": "stream",
     "text": [
      "A : is performing operation 2, available Semaphore permits : 0\n",
      "B : is performing operation 2, available Semaphore permits : 0\n",
      "pool-3-thread-1 running at 1594577763108\n",
      "pool-2-thread-1 running at 1594577763109\n"
     ]
    }
   ],
   "source": [
    "List<Runnable> tasks = new ArrayList<>();\n",
    "tasks.add(() -> System.out.printf(\"%s running at %d%n\", Thread.currentThread().getName(),\n",
    "        System.currentTimeMillis()));\n",
    "tasks.add(() -> System.out.printf(\"%s running at %d%n\", Thread.currentThread().getName(),\n",
    "        System.currentTimeMillis()));\n",
    "runTasks(tasks);"
   ]
  },
  {
   "cell_type": "markdown",
   "metadata": {},
   "source": [
    "## Summary\n",
    "Java provides the synchronized keyword for synchronizing thread access to critical sections. Because it can be difficult to correctly write synchronized code that’s based on synchronized, high-level synchronizers are included in the concurrency utilities.\n",
    "\n",
    "A __countdown latch__ causes one or more threads to wait at a “gate” until another thread opens this gate, at which point these other threads can continue. It consists of a count and operations for “causing a thread to wait until the count reaches zero” and “decrementing the count.”\n",
    "\n",
    "A __cyclic barrier__ lets a set of threads wait for each other to reach a common barrier point. The barrier is cyclic because it can be reused after the waiting threads are released. This synchronizer is useful in applications involving a fixed-size party of threads that must occasionally wait for each other.\n",
    "\n",
    "An __exchanger__ provides a synchronization point where threads can swap objects. Each thread presents some object on entry to the exchanger’s exchange() method, matches with a partner thread, and receives its partner’s object on return.\n",
    "\n",
    "A __semaphore__ maintains a set of permits for restricting the number of threads that can access a limited resource. A thread attempting to acquire a permit when no permits are available blocks until some other thread releases a permit.\n",
    "\n",
    "A __phaser__ is a more flexible cyclic barrier. Like a cyclic barrier, a phaser lets a group of threads wait on a barrier; these threads continue after the last thread arrives. A phaser also offers the equivalent of a barrier action. Unlike a cyclic barrier, which coordinates a fixed number of threads, a phaser can coordinate a variable number of threads, which can register at any time. To implement this capability, a phaser uses phases and phase numbers.\n",
    "\n",
    "Chapter 7 presents the Locking Framework."
   ]
  }
 ],
 "metadata": {
  "kernelspec": {
   "display_name": "Java",
   "language": "java",
   "name": "java"
  },
  "language_info": {
   "codemirror_mode": "java",
   "file_extension": ".jshell",
   "mimetype": "text/x-java-source",
   "name": "Java",
   "pygments_lexer": "java",
   "version": "14.0.1+7"
  }
 },
 "nbformat": 4,
 "nbformat_minor": 4
}
