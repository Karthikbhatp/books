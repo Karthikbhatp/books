{
 "cells": [
  {
   "cell_type": "markdown",
   "metadata": {},
   "source": [
    "# Java Threads and Concurrency Utilities\n",
    "\n",
    "## Chapter - 7\n",
    "## The Locking Framework"
   ]
  },
  {
   "cell_type": "markdown",
   "metadata": {},
   "source": [
    "The java.util.concurrent.locks package provides a framework of interfaces and classes for locking and waiting for conditions in a manner that’s distinct from an object’s intrinsic lock-based synchronization and java.lang.Object’s wait/notification mechanism. The concurrency utilities include the Locking Framework that improves on intrinsic synchronization and wait/notification by offering lock polling, timed waits, and more."
   ]
  },
  {
   "cell_type": "markdown",
   "metadata": {},
   "source": [
    "The Locking Framework includes the often-used Lock, ReentrantLock, Condition, ReadWriteLock, and ReentrantReadWriteLock types, which I explore in this chapter. I also briefly introduce you to the StampedLock class, which was introduced by Java 8."
   ]
  },
  {
   "cell_type": "markdown",
   "metadata": {},
   "source": [
    "## Lock\n",
    "The Lock interface offers more extensive locking operations than can be obtained via the locks associated with monitors. For example, you can immediately back out of a lock-acquisition attempt when a lock isn't available. This interface declares the following methods:\n",
    "* __void lock():__ Acquire the lock. When the lock isn’t available, the calling thread is forced to wait until it becomes available.\n",
    "* __void lockInterruptibly():__ Acquire the lock unless the calling thread is interrupted. When the lock isn’t available, the calling thread is forced to wait until it becomes available or the thread is interrupted, which results in this method throwing java.lang. InterruptedException.\n",
    "* __Condition newCondition():__ Return a new Condition instance that’s bound to this Lock instance. This method throws java.lang.UnsupportedOperationException when the Lock implementation class doesn’t support conditions.\n",
    "* __boolean tryLock():__ Acquire the lock when it’s available at the time this method is invoked. The method returns true when the lock is acquired and false when the lock isn’t acquired.\n",
    "* __boolean tryLock(long time, TimeUnit unit):__ Acquire the lock when it’s available within the specified waiting time, measured in unit java.util.concurrent.TimeUnit units (seconds, milliseconds, and so on), and the calling thread isn’t interrupted. When the lock isn’t available, the calling thread is forced to wait until it becomes available within the waiting time or the thread is interrupted, which results in this method throwing InterruptedException. When the lock is acquired, true is returned; otherwise, false returns.\n",
    "* __void unlock():__ Release the lock."
   ]
  },
  {
   "cell_type": "markdown",
   "metadata": {},
   "source": [
    "Acquired locks must be released. In the context of synchronized methods and blocks and the implicit monitor lock associated with every object, all lock acquisition and release occurs in a block-structured manner. When multiple locks are acquired, they’re released in the opposite order and all locks are released in the same lexical scope in which they were acquired."
   ]
  },
  {
   "cell_type": "markdown",
   "metadata": {},
   "source": [
    "With this increased flexibility comes additional responsibility. The absence of block-structured locking removes the automatic release of locks that occurs with synchronized methods and blocks. As a result, you should typically employ the following idiom for lock acquisition and release:"
   ]
  },
  {
   "cell_type": "markdown",
   "metadata": {},
   "source": [
    "<pre class=\"brush:java\">\n",
    "<b>\n",
    "Lock l = ...; // ... is a placeholder for code that obtains the lock l.lock();\n",
    "try\n",
    "{\n",
    "  // access the resource protected by this lock\n",
    "}\n",
    "catch (Exception ex)\n",
    "{\n",
    "  // restore invariants\n",
    "}\n",
    "finally {\n",
    "l.unlock(); }\n",
    "</b>\n",
    "</pre>"
   ]
  },
  {
   "cell_type": "markdown",
   "metadata": {},
   "source": [
    "__This idiom ensures that an acquired lock will always be released.__"
   ]
  },
  {
   "cell_type": "markdown",
   "metadata": {},
   "source": [
    "## ReentrantLock"
   ]
  },
  {
   "cell_type": "markdown",
   "metadata": {},
   "source": [
    "Lock is implemented by the ReentrantLock class, which describes a reentrant mutual exclusion lock. This lock is associated with a hold count. When a thread holds the lock and reacquires the lock by invoking lock(), lockUninterruptibly(), or one of the tryLock() methods, the hold count is increased by 1. When the thread invokes unlock(), the hold count is decremented by 1. The lock is released when this count reaches 0.\n",
    "\n",
    "ReentrantLock offers the same concurrency and memory semantics as the implicit monitor lock that’s accessed via synchronized methods and blocks. However, it has extended capabilities and offers better performance under high thread contention (threads frequently asking to acquire a lock that’s already held by another thread). When many threads attempt to access a shared resource, the JVM spends less time scheduling these threads and more time executing them."
   ]
  },
  {
   "cell_type": "code",
   "execution_count": 1,
   "metadata": {},
   "outputs": [],
   "source": [
    "class Worker implements Runnable {\n",
    "    private final String name;\n",
    "\n",
    "    Worker(String name) {\n",
    "        this.name = name;\n",
    "    }\n",
    "\n",
    "    @Override\n",
    "    public void run() {\n",
    "        lock.lock();\n",
    "        try {\n",
    "            if (lock.isHeldByCurrentThread())\n",
    "                System.out.printf(\"Thread %s entered critical section.%n\", name);\n",
    "            System.out.printf(\"Thread %s performing work.%n\", name);\n",
    "            try {\n",
    "                Thread.sleep(2000);\n",
    "            } catch (InterruptedException ie) {\n",
    "            }\n",
    "            System.out.printf(\"Thread %s finished working.%n\", name);\n",
    "        } finally {\n",
    "            lock.unlock();\n",
    "        }\n",
    "    }\n",
    "}"
   ]
  },
  {
   "cell_type": "code",
   "execution_count": 2,
   "metadata": {},
   "outputs": [],
   "source": [
    "import java.util.concurrent.Executors;\n",
    "import java.util.concurrent.ExecutorService;\n",
    "import java.util.concurrent.TimeUnit;\n",
    "import java.util.concurrent.locks.ReentrantLock;\n",
    "\n",
    "ExecutorService executor = Executors.newFixedThreadPool(2);\n",
    "ReentrantLock lock = new ReentrantLock();"
   ]
  },
  {
   "cell_type": "code",
   "execution_count": 3,
   "metadata": {},
   "outputs": [
    {
     "name": "stdout",
     "output_type": "stream",
     "text": [
      "Thread ThdA entered critical section.\n",
      "Thread ThdA performing work.\n",
      "Thread ThdA finished working.\n",
      "Thread ThdB entered critical section.\n",
      "Thread ThdB performing work.\n",
      "Thread ThdB finished working.\n"
     ]
    },
    {
     "data": {
      "text/plain": [
       "[]"
      ]
     },
     "execution_count": 3,
     "metadata": {},
     "output_type": "execute_result"
    }
   ],
   "source": [
    "executor.execute(new Worker(\"ThdA\"));\n",
    "executor.execute(new Worker(\"ThdB\"));\n",
    "try {\n",
    "    executor.awaitTermination(5, TimeUnit.SECONDS);\n",
    "} catch (InterruptedException ie) {\n",
    "    ie.printStackTrace();\n",
    "}\n",
    "executor.shutdownNow();"
   ]
  },
  {
   "cell_type": "markdown",
   "metadata": {},
   "source": [
    "## Condition"
   ]
  },
  {
   "cell_type": "markdown",
   "metadata": {},
   "source": [
    "The Condition interface factors out Object’s wait and notification methods (wait(), notify(), and notifyAll()) into distinct condition objects to give the effect of having multiple wait-sets per object, by combining them with the use of arbitrary Lock implementations. Where Lock replaces synchronized methods and blocks, Condition replaces Object’s wait/notification methods."
   ]
  },
  {
   "cell_type": "markdown",
   "metadata": {},
   "source": [
    "A Condition instance is intrinsically bound to a lock. To obtain a Condition instance for a certain Lock instance, use Lock’s newCondition() method."
   ]
  },
  {
   "cell_type": "markdown",
   "metadata": {},
   "source": [
    "Condition declares the following methods:\n",
    "* __void await():__ Force the calling thread to wait until it’s signaled or interrupted.\n",
    "* __boolean await(long time, TimeUnit unit):__ Force the calling thread to wait until it’s signaled or interrupted, or until the specified waiting time elapses.\n",
    "* __long awaitNanos(long nanosTimeout):__ Force the current thread to wait until it’s signaled or interrupted, or until the specified waiting time elapses.\n",
    "* __void awaitUninterruptibly():__ Force the current thread to wait until it’s signaled.\n",
    "* __boolean awaitUntil(Date deadline):__ Force the current thread to wait until it’s signaled or interrupted, or until the specified deadline elapses.\n",
    "* __void signal():__ Wake up one waiting thread.\n",
    "* __void signalAll():__ Wake up all waiting threads."
   ]
  },
  {
   "cell_type": "code",
   "execution_count": 4,
   "metadata": {},
   "outputs": [],
   "source": [
    "import java.util.concurrent.locks.Condition;\n",
    "import java.util.concurrent.locks.Lock;\n",
    "import java.util.concurrent.locks.ReentrantLock;"
   ]
  },
  {
   "cell_type": "code",
   "execution_count": 5,
   "metadata": {},
   "outputs": [],
   "source": [
    "class Shared {\n",
    "    private char c;\n",
    "    private volatile boolean available;\n",
    "    private final Lock lock;\n",
    "    private final Condition condition;\n",
    "\n",
    "    Shared() {\n",
    "        available = false;\n",
    "        lock = new ReentrantLock();\n",
    "        condition = lock.newCondition();\n",
    "    }\n",
    "\n",
    "    Lock getLock() {\n",
    "        return lock;\n",
    "    }\n",
    "\n",
    "    char getSharedChar() {\n",
    "        lock.lock();\n",
    "        try {\n",
    "            while (!available)\n",
    "                try {\n",
    "                    condition.await();\n",
    "                } catch (InterruptedException ie) {\n",
    "                    ie.printStackTrace();\n",
    "                }\n",
    "            available = false;\n",
    "            condition.signal();\n",
    "        } finally {\n",
    "            lock.unlock();\n",
    "            return c;\n",
    "        }\n",
    "    }\n",
    "\n",
    "    void setSharedChar(char c) {\n",
    "        lock.lock();\n",
    "        try {\n",
    "            while (available)\n",
    "                try {\n",
    "                    condition.await();\n",
    "                } catch (InterruptedException ie) {\n",
    "                    ie.printStackTrace();\n",
    "                }\n",
    "            this.c = c;\n",
    "            available = true;\n",
    "            condition.signal();\n",
    "        } finally {\n",
    "            lock.unlock();\n",
    "        }\n",
    "    }\n",
    "}"
   ]
  },
  {
   "cell_type": "code",
   "execution_count": 6,
   "metadata": {},
   "outputs": [],
   "source": [
    "class Producer extends Thread {\n",
    "    private final Lock l;\n",
    "\n",
    "    private final Shared s;\n",
    "\n",
    "    Producer(Shared s) {\n",
    "        this.s = s;\n",
    "        l = s.getLock();\n",
    "    }\n",
    "\n",
    "    @Override\n",
    "    public void run() {\n",
    "        for (char ch = 'A'; ch <= 'Z'; ch++) {\n",
    "            l.lock();\n",
    "            s.setSharedChar(ch);\n",
    "            System.out.println(ch + \" produced by producer.\");\n",
    "            l.unlock();\n",
    "        }\n",
    "    }\n",
    "}"
   ]
  },
  {
   "cell_type": "code",
   "execution_count": 7,
   "metadata": {},
   "outputs": [],
   "source": [
    "class Consumer extends Thread {\n",
    "    private final Lock l;\n",
    "\n",
    "    private final Shared s;\n",
    "\n",
    "    Consumer(Shared s) {\n",
    "        this.s = s;\n",
    "        l = s.getLock();\n",
    "    }\n",
    "\n",
    "    @Override\n",
    "    public void run() {\n",
    "        char ch;\n",
    "        do {\n",
    "            l.lock();\n",
    "            ch = s.getSharedChar();\n",
    "            System.out.println(ch + \" consumed by consumer.\");\n",
    "            l.unlock();\n",
    "        } while (ch != 'Z');\n",
    "    }\n",
    "}"
   ]
  },
  {
   "cell_type": "code",
   "execution_count": 10,
   "metadata": {},
   "outputs": [
    {
     "name": "stdout",
     "output_type": "stream",
     "text": [
      "A produced by producer.\n",
      "A consumed by consumer.\n",
      "B produced by producer.\n",
      "B consumed by consumer.\n",
      "C produced by producer.\n",
      "C consumed by consumer.\n",
      "D produced by producer.\n",
      "D consumed by consumer.\n",
      "E produced by producer.\n",
      "E consumed by consumer.\n",
      "F produced by producer.\n",
      "F consumed by consumer.\n",
      "G produced by producer.\n",
      "G consumed by consumer.\n",
      "H produced by producer.\n",
      "H consumed by consumer.\n",
      "I produced by producer.\n",
      "I consumed by consumer.\n",
      "J produced by producer.\n",
      "J consumed by consumer.\n",
      "K produced by producer.\n",
      "K consumed by consumer.\n",
      "L produced by producer.\n",
      "L consumed by consumer.\n",
      "M produced by producer.\n",
      "M consumed by consumer.\n",
      "N produced by producer.\n",
      "N consumed by consumer.\n",
      "O produced by producer.\n",
      "O consumed by consumer.\n",
      "P produced by producer.\n",
      "P consumed by consumer.\n",
      "Q produced by producer.\n",
      "Q consumed by consumer.\n",
      "R produced by producer.\n",
      "R consumed by consumer.\n",
      "S produced by producer.\n",
      "S consumed by consumer.\n",
      "T produced by producer.\n",
      "T consumed by consumer.\n",
      "U produced by producer.\n",
      "U consumed by consumer.\n",
      "V produced by producer.\n",
      "V consumed by consumer.\n",
      "W produced by producer.\n",
      "W consumed by consumer.\n",
      "X produced by producer.\n",
      "X consumed by consumer.\n",
      "Y produced by producer.\n",
      "Y consumed by consumer.\n",
      "Z produced by producer.\n",
      "Z consumed by consumer.\n"
     ]
    }
   ],
   "source": [
    "Shared s = new Shared();\n",
    "Producer producer = new Producer(s);\n",
    "Consumer consumer = new Consumer(s);\n",
    "producer.start();\n",
    "consumer.start();\n",
    "\n",
    "try {\n",
    "    producer.join();\n",
    "    consumer.join();\n",
    "} catch (InterruptedException e) {\n",
    "}"
   ]
  },
  {
   "cell_type": "markdown",
   "metadata": {},
   "source": [
    "Listing 7-2 is similar to Listing 3-2’s PC application. However, it replaces synchronized and wait/notification with locks and conditions.\n",
    "PC’s main() method instantiates the Shared, Producer, and Consumer classes. The Shared instance is passed to the Producer and"
   ]
  },
  {
   "cell_type": "markdown",
   "metadata": {},
   "source": [
    "## ReadWriteLock"
   ]
  },
  {
   "cell_type": "markdown",
   "metadata": {},
   "source": [
    "Situations arise where data structures are read more often than they’re modified. For example, you might have created an online dictionary of word definitions that many threads will read concurrently, while a single thread might occasionally add new definitions or update existing definitions. The Locking Framework provides a read- write locking mechanism for these situations that yields greater concurrency when reading and the safety of exclusive access when writing. This mechanism is based on the ReadWriteLock interface."
   ]
  },
  {
   "cell_type": "markdown",
   "metadata": {},
   "source": [
    "ReadWriteLock maintains a pair of locks: one lock for read-only operations and one lock for write operations. The read lock may be held simultaneously by multiple reader threads as long as there are no writers. The write lock is exclusive: only a single thread can modify shared data. (The lock that’s associated with the synchronized keyword is also exclusive.)\n",
    "\n",
    "ReadWriteLock declares the following methods:\n",
    "* Lock readLock(): Return the lock that’s used for reading.\n",
    "* Lock writeLock(): Return the lock that’s used for writing."
   ]
  },
  {
   "cell_type": "markdown",
   "metadata": {},
   "source": [
    "## ReentrantReadWriteLock"
   ]
  },
  {
   "cell_type": "markdown",
   "metadata": {},
   "source": [
    "ReadWriteLock is implemented by the ReentrantReadWriteLock class, which describes a reentrant read-write lock with similar semantics to ReentrantLock.\n",
    "\n",
    "You initialize a ReentrantReadWriteLock instance by invoking either of the following constructors:\n",
    "* ReentrantReadWriteLock(): Create an instance of ReentrantReadWriteLock. This constructor is equivalent to ReentrantReadWriteLock(false).\n",
    "* ReentrantReadWriteLock(boolean fair): Create an instance of ReentrantReadWriteLock with the specified fairness policy. Pass true to fair when this lock should use a fair ordering policy."
   ]
  },
  {
   "cell_type": "code",
   "execution_count": 13,
   "metadata": {},
   "outputs": [],
   "source": [
    "import java.util.HashMap;\n",
    "import java.util.Map;\n",
    "\n",
    "import java.util.concurrent.Executors;\n",
    "import java.util.concurrent.ExecutorService;\n",
    "\n",
    "import java.util.concurrent.locks.Lock;\n",
    "import java.util.concurrent.locks.ReadWriteLock;\n",
    "import java.util.concurrent.locks.ReentrantReadWriteLock;"
   ]
  },
  {
   "cell_type": "code",
   "execution_count": 14,
   "metadata": {},
   "outputs": [],
   "source": [
    "String[] words = { \"hypocalcemia\", \"prolixity\", \"assiduous\", \"indefatigable\", \"castellan\" };\n",
    "\n",
    "String[] definitions = { \"a deficiency of calcium in the blood\", \"unduly prolonged or drawn out\",\n",
    "        \"showing great care, attention, and effort\",\n",
    "        \"able to work or continue for a lengthy time without tiring\",\n",
    "        \"the govenor or warden of a castle or fort\" };\n",
    "\n",
    "Map<String, String> dictionary = new HashMap<String, String>();"
   ]
  },
  {
   "cell_type": "code",
   "execution_count": 15,
   "metadata": {},
   "outputs": [],
   "source": [
    "ReadWriteLock rwl = new ReentrantReadWriteLock(true);\n",
    "Lock rlock = rwl.readLock();\n",
    "Lock wlock = rwl.writeLock();"
   ]
  },
  {
   "cell_type": "code",
   "execution_count": 16,
   "metadata": {},
   "outputs": [],
   "source": [
    "Runnable writer = () -> {\n",
    "    for (int i = 0; i < words.length; i++) {\n",
    "        wlock.lock();\n",
    "        try {\n",
    "            dictionary.put(words[i], definitions[i]);\n",
    "            System.out.println(\"writer storing \" + words[i] + \" entry\");\n",
    "        } finally {\n",
    "            wlock.unlock();\n",
    "        }\n",
    "\n",
    "        try {\n",
    "            Thread.sleep(1);\n",
    "        } catch (InterruptedException ie) {\n",
    "            System.err.println(\"writer \" + \"interrupted\");\n",
    "        }\n",
    "    }\n",
    "};"
   ]
  },
  {
   "cell_type": "code",
   "execution_count": 17,
   "metadata": {},
   "outputs": [],
   "source": [
    "Runnable reader = () -> {\n",
    "    int iteration = 0;\n",
    "    while (true) {\n",
    "        if(iteration++ == 50)\n",
    "            break;\n",
    "        rlock.lock();\n",
    "        try {\n",
    "            int i = (int) (Math.random() * words.length);\n",
    "            System.out.println(\"reader accessing \" + words[i] + \": \" + dictionary.get(words[i]) + \" entry\");\n",
    "        } finally {\n",
    "            rlock.unlock();\n",
    "        }\n",
    "    }\n",
    "};"
   ]
  },
  {
   "cell_type": "code",
   "execution_count": 24,
   "metadata": {},
   "outputs": [
    {
     "name": "stdout",
     "output_type": "stream",
     "text": [
      "writer storing hypocalcemia entry\n",
      "writer storing prolixity entry\n",
      "writer storing assiduous entry\n",
      "writer storing indefatigable entry\n",
      "writer storing castellan entry\n",
      "reader accessing prolixity: unduly prolonged or drawn out entry\n",
      "reader accessing prolixity: unduly prolonged or drawn out entry\n",
      "reader accessing prolixity: unduly prolonged or drawn out entry\n",
      "reader accessing assiduous: showing great care, attention, and effort entry\n",
      "reader accessing prolixity: unduly prolonged or drawn out entry\n",
      "reader accessing castellan: the govenor or warden of a castle or fort entry\n",
      "reader accessing assiduous: showing great care, attention, and effort entry\n",
      "reader accessing hypocalcemia: a deficiency of calcium in the blood entry\n",
      "reader accessing castellan: the govenor or warden of a castle or fort entry\n",
      "reader accessing prolixity: unduly prolonged or drawn out entry\n",
      "reader accessing prolixity: unduly prolonged or drawn out entry\n",
      "reader accessing castellan: the govenor or warden of a castle or fort entry\n",
      "reader accessing hypocalcemia: a deficiency of calcium in the blood entry\n",
      "reader accessing prolixity: unduly prolonged or drawn out entry\n",
      "reader accessing castellan: the govenor or warden of a castle or fort entry\n",
      "reader accessing hypocalcemia: a deficiency of calcium in the blood entry\n",
      "reader accessing indefatigable: able to work or continue for a lengthy time without tiring entry\n",
      "reader accessing indefatigable: able to work or continue for a lengthy time without tiring entry\n",
      "reader accessing prolixity: unduly prolonged or drawn out entry\n",
      "reader accessing indefatigable: able to work or continue for a lengthy time without tiring entry\n",
      "reader accessing prolixity: unduly prolonged or drawn out entry\n",
      "reader accessing assiduous: showing great care, attention, and effort entry\n",
      "reader accessing assiduous: showing great care, attention, and effort entry\n",
      "reader accessing castellan: the govenor or warden of a castle or fort entry\n",
      "reader accessing castellan: the govenor or warden of a castle or fort entry\n",
      "reader accessing hypocalcemia: a deficiency of calcium in the blood entry\n",
      "reader accessing assiduous: showing great care, attention, and effort entry\n",
      "reader accessing castellan: the govenor or warden of a castle or fort entry\n",
      "reader accessing hypocalcemia: a deficiency of calcium in the blood entry\n",
      "reader accessing prolixity: unduly prolonged or drawn out entry\n",
      "reader accessing hypocalcemia: a deficiency of calcium in the blood entry\n",
      "reader accessing prolixity: unduly prolonged or drawn out entry\n",
      "reader accessing hypocalcemia: a deficiency of calcium in the blood entry\n",
      "reader accessing prolixity: unduly prolonged or drawn out entry\n",
      "reader accessing hypocalcemia: a deficiency of calcium in the blood entry\n",
      "reader accessing prolixity: unduly prolonged or drawn out entry\n",
      "reader accessing assiduous: showing great care, attention, and effort entry\n",
      "reader accessing prolixity: unduly prolonged or drawn out entry\n",
      "reader accessing hypocalcemia: a deficiency of calcium in the blood entry\n",
      "reader accessing assiduous: showing great care, attention, and effort entry\n",
      "reader accessing indefatigable: able to work or continue for a lengthy time without tiring entry\n",
      "reader accessing castellan: the govenor or warden of a castle or fort entry\n",
      "reader accessing prolixity: unduly prolonged or drawn out entry\n",
      "reader accessing prolixity: unduly prolonged or drawn out entry\n",
      "reader accessing castellan: the govenor or warden of a castle or fort entry\n",
      "reader accessing assiduous: showing great care, attention, and effort entry\n",
      "reader accessing prolixity: unduly prolonged or drawn out entry\n",
      "reader accessing indefatigable: able to work or continue for a lengthy time without tiring entry\n",
      "reader accessing hypocalcemia: a deficiency of calcium in the blood entry\n",
      "reader accessing assiduous: showing great care, attention, and effort entry\n"
     ]
    }
   ],
   "source": [
    "ExecutorService es1 = Executors.newFixedThreadPool(1);\n",
    "es1.submit(writer);\n",
    "ExecutorService es2 = Executors.newFixedThreadPool(1);\n",
    "es2.submit(reader);\n",
    "\n",
    "es1.shutdown();\n",
    "es2.shutdown();"
   ]
  },
  {
   "cell_type": "code",
   "execution_count": null,
   "metadata": {},
   "outputs": [],
   "source": []
  }
 ],
 "metadata": {
  "kernelspec": {
   "display_name": "Java",
   "language": "java",
   "name": "java"
  },
  "language_info": {
   "codemirror_mode": "java",
   "file_extension": ".jshell",
   "mimetype": "text/x-java-source",
   "name": "Java",
   "pygments_lexer": "java",
   "version": "14.0.1+7"
  }
 },
 "nbformat": 4,
 "nbformat_minor": 4
}
