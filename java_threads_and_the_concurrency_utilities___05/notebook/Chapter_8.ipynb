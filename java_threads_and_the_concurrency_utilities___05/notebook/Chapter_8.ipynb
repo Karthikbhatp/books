{
 "cells": [
  {
   "cell_type": "markdown",
   "metadata": {},
   "source": [
    "# Java Threads and Concurrency Utilities\n",
    "\n",
    "## Chapter - 8\n",
    "## Additional Concurrency Utilities"
   ]
  },
  {
   "cell_type": "markdown",
   "metadata": {},
   "source": [
    "Coverage of the concurrency utilities by introducing you to concurrent collections, atomic variables, the Fork/Join Framework, and completion services.\n"
   ]
  },
  {
   "cell_type": "markdown",
   "metadata": {},
   "source": [
    "ArrayList, TreeSet, HashMap, and other classes that implement these interfaces\n",
    "are not thread-safe. However, you can make them thread-safe by using the synchronized wrapper methods located in the java.util.Collections class. For example, you can pass an ArrayList instance to Collections.synchronizedList() to obtain a thread-safe variant of ArrayList."
   ]
  },
  {
   "cell_type": "markdown",
   "metadata": {},
   "source": [
    "The following list offers a short sample of concurrency-oriented collection types that you’ll find in the java.util.concurrent package:\n",
    "* BlockingQueue is a subinterface of java.util.Queue that also supports blocking operations that wait for the queue to become nonempty before retrieving an element and wait for space to become available in the queue before storing an element. Each of the ArrayBlockingQueue, DelayQueue, LinkedBlockingQueue, PriorityBlockingQueue, and SynchronousQueue classes implements this interface directly. The LinkedBlockingDeque and LinkedTransferQueue classes implement this interface via BlockingQueue subinterfaces.\n",
    "* ConcurrentMap is a subinterface of java.util.Map that declares additional indivisible putIfAbsent(), remove(), and replace() methods. The ConcurrentHashMap class (the concurrent equivalent of java.util.HashMap), the ConcurrentNavigableMap class, and the ConcurrentSkipListMap class implement this interface."
   ]
  },
  {
   "cell_type": "markdown",
   "metadata": {},
   "source": [
    "## Using BlockingQueue and ArrayBlockingQueue\n",
    "BlockingQueue’s Javadoc reveals the heart of a producer-consumer application that’s vastly simpler than the equivalent application shown in Chapter 3"
   ]
  },
  {
   "cell_type": "code",
   "execution_count": 1,
   "metadata": {},
   "outputs": [],
   "source": [
    "BlockingQueue<Character> bq;\n",
    "bq = new ArrayBlockingQueue<Character>(1);\n",
    "ExecutorService executor = Executors.newFixedThreadPool(2);"
   ]
  },
  {
   "cell_type": "code",
   "execution_count": 2,
   "metadata": {},
   "outputs": [],
   "source": [
    "Runnable producer = () -> {\n",
    "    for (char ch = 'A'; ch <= 'Z'; ch++) {\n",
    "        try {\n",
    "            bq.put(ch);\n",
    "            System.out.printf(\"%c produced by \" + \"producer.%n\", ch);\n",
    "        } catch (InterruptedException ie) {\n",
    "        }\n",
    "    }\n",
    "};"
   ]
  },
  {
   "cell_type": "code",
   "execution_count": 3,
   "metadata": {},
   "outputs": [],
   "source": [
    "Runnable consumer = () -> {\n",
    "    char ch = '\\0';\n",
    "    do {\n",
    "        try {\n",
    "            ch = bq.take();\n",
    "            System.out.printf(\"%c consumed by \" + \"consumer.%n\", ch);\n",
    "        } catch (InterruptedException ie) {\n",
    "        }\n",
    "    } while (ch != 'Z');\n",
    "};"
   ]
  },
  {
   "cell_type": "code",
   "execution_count": 4,
   "metadata": {},
   "outputs": [
    {
     "name": "stdout",
     "output_type": "stream",
     "text": [
      "A produced by producer.\n",
      "A consumed by consumer.\n",
      "B produced by producer.\n",
      "B consumed by consumer.\n",
      "C produced by producer.\n",
      "C consumed by consumer.\n",
      "D produced by producer.\n",
      "D consumed by consumer.\n",
      "E produced by producer.\n",
      "E consumed by consumer.\n",
      "F produced by producer.\n",
      "G produced by producer.\n",
      "F consumed by consumer.\n",
      "G consumed by consumer.\n",
      "H consumed by consumer.\n",
      "H produced by producer.\n",
      "I produced by producer.\n",
      "J produced by producer.\n",
      "I consumed by consumer.\n",
      "J consumed by consumer.\n",
      "K produced by producer.\n",
      "L produced by producer.\n",
      "K consumed by consumer.\n",
      "L consumed by consumer.\n",
      "M consumed by consumer.\n",
      "M produced by producer.\n",
      "N produced by producer.\n",
      "O produced by producer.\n",
      "N consumed by consumer.\n",
      "O consumed by consumer.\n",
      "P produced by producer.\n",
      "Q produced by producer.\n",
      "P consumed by consumer.\n",
      "Q consumed by consumer.\n",
      "R consumed by consumer.\n",
      "R produced by producer.\n",
      "S produced by producer.\n",
      "T produced by producer.\n",
      "S consumed by consumer.\n",
      "T consumed by consumer.\n",
      "U consumed by consumer.\n",
      "U produced by producer.\n",
      "V consumed by consumer.\n",
      "V produced by producer.\n",
      "W produced by producer.\n",
      "X produced by producer.\n",
      "W consumed by consumer.\n",
      "X consumed by consumer.\n",
      "Y consumed by consumer.\n",
      "Y produced by producer.\n",
      "Z produced by producer.\n",
      "Z consumed by consumer.\n"
     ]
    },
    {
     "data": {
      "text/plain": [
       "[]"
      ]
     },
     "execution_count": 4,
     "metadata": {},
     "output_type": "execute_result"
    }
   ],
   "source": [
    "executor.execute(producer);\n",
    "executor.execute(consumer);\n",
    "executor.shutdownNow();"
   ]
  },
  {
   "cell_type": "code",
   "execution_count": 5,
   "metadata": {},
   "outputs": [],
   "source": [
    "public class BlockingQueueManMade<T> {\n",
    "    int size;\n",
    "    List<T> items;\n",
    "\n",
    "    public BlockingQueueManMade(int size) {\n",
    "        super();\n",
    "        this.size = size;\n",
    "        this.items = new ArrayList<>();\n",
    "    }\n",
    "    \n",
    "    public synchronized void put(T item) throws InterruptedException {\n",
    "        while(this.items.size() == this.size) {\n",
    "            wait();\n",
    "        }\n",
    "        \n",
    "        if(this.items.size() == 0) {\n",
    "            notifyAll();\n",
    "        }\n",
    "        \n",
    "        this.items.add(item);\n",
    "    }\n",
    "    \n",
    "    public synchronized T take() throws InterruptedException{\n",
    "        while(this.items.size() == 0) {\n",
    "            wait();\n",
    "        }\n",
    "        \n",
    "        if(this.items.size() == this.size) {\n",
    "            notifyAll();\n",
    "        }\n",
    "        \n",
    "        return this.items.remove(0);\n",
    "    }\n",
    "}"
   ]
  },
  {
   "cell_type": "code",
   "execution_count": 6,
   "metadata": {},
   "outputs": [],
   "source": [
    "BlockingQueueManMade<Integer> blockingQueue = new BlockingQueueManMade<>(1);"
   ]
  },
  {
   "cell_type": "code",
   "execution_count": 7,
   "metadata": {},
   "outputs": [],
   "source": [
    "Runnable producer = () -> {\n",
    "    try {\n",
    "        int iterator = 0;\n",
    "        while (true) {\n",
    "            if (iterator++ == 10)\n",
    "                break;\n",
    "\n",
    "            String name = Thread.currentThread().getName();\n",
    "            Integer i = (int) (Math.random() * 10);\n",
    "            blockingQueue.put(i);\n",
    "            System.out.println(name + \" Producing:-> \" + i + \" at \" +System.nanoTime());\n",
    "        }\n",
    "    } catch (InterruptedException e) {\n",
    "        e.printStackTrace();\n",
    "    }\n",
    "};\n",
    "\n",
    "Runnable consumer = () -> {\n",
    "    try {\n",
    "        int iterator = 0;\n",
    "        while (true) {\n",
    "            if (iterator++ == 10)\n",
    "                break;\n",
    "            String name = Thread.currentThread().getName();\n",
    "            Integer take = blockingQueue.take();\n",
    "            System.out.println(name + \" Consuming:<- \" + take + \" at \" +System.nanoTime());\n",
    "        }\n",
    "    } catch (InterruptedException e) {\n",
    "        e.printStackTrace();\n",
    "    }\n",
    "};"
   ]
  },
  {
   "cell_type": "code",
   "execution_count": 8,
   "metadata": {},
   "outputs": [],
   "source": [
    "BlockingQueueManMade<Integer> blockingQueue = new BlockingQueueManMade<>(1);\n",
    "\n",
    "Thread threadProducer = new Thread(producer);\n",
    "Thread threadConsumer = new Thread(consumer);\n",
    "final ExecutorService executor = Executors.newFixedThreadPool(10);"
   ]
  },
  {
   "cell_type": "code",
   "execution_count": 9,
   "metadata": {},
   "outputs": [
    {
     "name": "stdout",
     "output_type": "stream",
     "text": [
      "pool-2-thread-1 Producing:-> 8 at 31848475216201\n",
      "pool-2-thread-1 Producing:-> 1 at 31848517126999\n",
      "pool-2-thread-2 Consuming:<- 8 at 31848517123356\n",
      "pool-2-thread-2 Consuming:<- 1 at 31848518677342\n",
      "pool-2-thread-1 Producing:-> 8 at 31848518694103\n",
      "pool-2-thread-2 Consuming:<- 8 at 31848519218958\n",
      "pool-2-thread-1 Producing:-> 9 at 31848519668466\n",
      "pool-2-thread-2 Consuming:<- 9 at 31848520434282\n",
      "pool-2-thread-1 Producing:-> 0 at 31848520997805\n",
      "pool-2-thread-2 Consuming:<- 0 at 31848521491862\n",
      "pool-2-thread-1 Producing:-> 7 at 31848521957319\n",
      "pool-2-thread-2 Consuming:<- 7 at 31848522407420\n",
      "pool-2-thread-1 Producing:-> 5 at 31848522869835\n",
      "pool-2-thread-2 Consuming:<- 5 at 31848523480106\n",
      "pool-2-thread-1 Producing:-> 7 at 31848524010833\n",
      "pool-2-thread-2 Consuming:<- 7 at 31848524586268\n",
      "pool-2-thread-1 Producing:-> 1 at 31848525123306\n",
      "pool-2-thread-2 Consuming:<- 1 at 31848525670243\n",
      "pool-2-thread-1 Producing:-> 2 at 31848526323742\n",
      "pool-2-thread-2 Consuming:<- 2 at 31848527451696\n"
     ]
    }
   ],
   "source": [
    "executor.execute(threadProducer);\n",
    "executor.execute(threadConsumer);\n",
    "executor.shutdown();"
   ]
  },
  {
   "cell_type": "markdown",
   "metadata": {},
   "source": [
    "### Blocking queue using Lock and Condition"
   ]
  },
  {
   "cell_type": "code",
   "execution_count": 10,
   "metadata": {},
   "outputs": [],
   "source": [
    "import java.util.LinkedList;\n",
    "import java.util.Queue;\n",
    "import java.util.concurrent.locks.Condition;\n",
    "import java.util.concurrent.locks.Lock;\n",
    "import java.util.concurrent.locks.ReentrantLock;\n",
    "\n",
    "public class BlockingQueue<T> {\n",
    "    private Queue<T> queue = new LinkedList<T>();\n",
    "    private int capacity;\n",
    "    private Lock lock = new ReentrantLock();\n",
    "    private Condition notFull = lock.newCondition();\n",
    "    private Condition notEmpty = lock.newCondition();\n",
    "\n",
    "    public BlockingQueue(int capacity) {\n",
    "        this.capacity = capacity;\n",
    "    }\n",
    "\n",
    "    public void put(T element) throws InterruptedException {\n",
    "        lock.lock();\n",
    "        try {\n",
    "            while (queue.size() == capacity) {\n",
    "                notFull.await();\n",
    "            }\n",
    "            queue.add(element);\n",
    "            notEmpty.signal();\n",
    "        } finally {\n",
    "            lock.unlock();\n",
    "        }\n",
    "    }\n",
    "\n",
    "    public T take() throws InterruptedException {\n",
    "        lock.lock();\n",
    "        try {\n",
    "            while (queue.isEmpty()) {\n",
    "                notEmpty.await();\n",
    "            }\n",
    "            T item = queue.remove();\n",
    "            notFull.signal();\n",
    "            return item;\n",
    "        } finally {\n",
    "            lock.unlock();\n",
    "        }\n",
    "    }\n",
    "}"
   ]
  },
  {
   "cell_type": "markdown",
   "metadata": {},
   "source": [
    "## Learning More About ConcurrentHashMap\n",
    "The ConcurrentHashMap class behaves like HashMap but has been designed to work in multithreaded contexts without the need for explicit synchronization. "
   ]
  },
  {
   "cell_type": "code",
   "execution_count": 11,
   "metadata": {},
   "outputs": [
    {
     "data": {
      "text/plain": [
       "{1=1}"
      ]
     },
     "execution_count": 11,
     "metadata": {},
     "output_type": "execute_result"
    }
   ],
   "source": [
    "ConcurrentHashMap<Integer, Integer> map = new ConcurrentHashMap<Integer, Integer>();\n",
    "map.put(1, 1);\n",
    "map"
   ]
  },
  {
   "cell_type": "code",
   "execution_count": 12,
   "metadata": {},
   "outputs": [
    {
     "data": {
      "text/plain": [
       "{1=2}"
      ]
     },
     "execution_count": 12,
     "metadata": {},
     "output_type": "execute_result"
    }
   ],
   "source": [
    "map.put(1, 2);\n",
    "map"
   ]
  },
  {
   "cell_type": "code",
   "execution_count": 13,
   "metadata": {},
   "outputs": [
    {
     "data": {
      "text/plain": [
       "{1=2}"
      ]
     },
     "execution_count": 13,
     "metadata": {},
     "output_type": "execute_result"
    }
   ],
   "source": [
    "map.putIfAbsent(1, 3);\n",
    "map"
   ]
  },
  {
   "cell_type": "code",
   "execution_count": 14,
   "metadata": {},
   "outputs": [
    {
     "data": {
      "text/plain": [
       "{1=4}"
      ]
     },
     "execution_count": 14,
     "metadata": {},
     "output_type": "execute_result"
    }
   ],
   "source": [
    "map.replace(1, 4);\n",
    "map"
   ]
  },
  {
   "cell_type": "markdown",
   "metadata": {},
   "source": [
    "## Atomic Variables"
   ]
  },
  {
   "cell_type": "markdown",
   "metadata": {},
   "source": [
    "Java 5 provided the ability to create efficient nonblocking algorithms by introducing the java.util.concurrent.atomic package. According to this package’s JDK documentation, java.util.concurrent.atomic provides a small toolkit of classes that support lock-free, thread-safe operations on single variables."
   ]
  },
  {
   "cell_type": "markdown",
   "metadata": {},
   "source": [
    "The classes in the java.util.concurrent.atomic package extend the notion of volatile values, fields, and array elements to those that also provide an atomic conditional update so that external synchronization isn’t required. In other words, you get mutual exclusion along with the memory semantics associated with volatile variables without external synchronization."
   ]
  },
  {
   "cell_type": "markdown",
   "metadata": {},
   "source": [
    "Some of the classes located in java.util.concurrent.atomic are described here:\n",
    "* AtomicBoolean: A boolean value that may be updated atomically.\n",
    "* AtomicInteger: An int value that may be updated atomically.\n",
    "* AtomicIntegerArray: An int array whose elements may be updated atomically.\n",
    "* AtomicLong: A long value that may be updated atomically.\n",
    "* AtomicLongArray: A long array whose elements may be updated atomically.\n",
    "* AtomicReference: An object reference that may be updated atomically.\n",
    "* AtomicReferenceArray: An object reference array whose elements may be updated atomically."
   ]
  },
  {
   "cell_type": "code",
   "execution_count": 15,
   "metadata": {},
   "outputs": [],
   "source": [
    "class ID {\n",
    "private static volatile long nextID = 1;\n",
    "   static synchronized long getNextID()\n",
    "   {\n",
    "      return nextID++;\n",
    "   }\n",
    "}"
   ]
  },
  {
   "cell_type": "markdown",
   "metadata": {},
   "source": [
    "Although the code is properly synchronized (and visibility is accounted for), the intrinsic lock associated with synchronized can hurt performance under heavy thread contention. Furthermore, liveness problems such as deadlock can occur. Listing 8-3 shows you how to avoid these problems by replacing synchronized with an atomic variable."
   ]
  },
  {
   "cell_type": "code",
   "execution_count": 16,
   "metadata": {},
   "outputs": [],
   "source": [
    "import java.util.concurrent.atomic.AtomicLong;\n",
    "class ID {\n",
    "private static AtomicLong nextID = new AtomicLong(1);\n",
    "   static long getNextID()\n",
    "   {\n",
    "return nextID.getAndIncrement(); }\n",
    "}"
   ]
  },
  {
   "cell_type": "markdown",
   "metadata": {},
   "source": [
    "Returning Unique IDs in a Thread-Safe Manner via AtomicLong"
   ]
  },
  {
   "cell_type": "markdown",
   "metadata": {},
   "source": [
    "I’ve converted nextID from a long to an AtomicLong instance, initializing this object to 1. I’ve also refactored the getNextID() method to call AtomicLong’s getAndIncrement() method, which increments the AtomicLong instance’s internal long integer variable by 1 and returns the previous value in one indivisible step. There is no explicit synchronization."
   ]
  },
  {
   "cell_type": "markdown",
   "metadata": {},
   "source": [
    "The java.util.concurrent.atomic package includes DoubleAccumulator, DoubleAdder, LongAccumulator, and LongAdder classes that address a scalability problem in the context of maintaining a single count, sum, or some other value with the possibility of updates from many threads. These new classes “internally employ contention-reduction techniques that provide huge throughput improvements as compared to atomic variables. This is made possible by relaxing atomicity guarantees in a way that is acceptable in most applications.”"
   ]
  },
  {
   "cell_type": "markdown",
   "metadata": {},
   "source": [
    "## Fork/Join Framework"
   ]
  },
  {
   "cell_type": "markdown",
   "metadata": {},
   "source": [
    "There is always a need for code to execute faster. Historically, this need was met by increasing microprocessor speeds and/or by supporting multiple processors. However, somewhere around 2003, microprocessor speeds stopped increasing because of natural limits. To compensate, processor manufacturers started to add multiple processing cores to their processors, to increase speed through massive parallelism."
   ]
  },
  {
   "cell_type": "markdown",
   "metadata": {},
   "source": [
    "Java supports concurrency via its low-level threading features and higher-level concurrency utilities such as thread pools. The problem with concurrency is that it doesn’t maximize the use of available processor/core resources. For example, suppose you’ve created a sorting algorithm that divides an array into two halves, assigns two threads to sort each half, and merges the results after both threads finish.\n",
    "\n",
    "Let’s assume that each thread runs on a different processor. Because different amounts of element reordering may occur in each half of the array, it’s possible that one thread will finish before the other thread and must wait before the merge can happen. In this case, a processor resource is wasted.\n",
    "\n",
    "This problem (and the related problems of the code being verbose and harder to read) can be solved by recursively breaking a task into subtasks and combining results. These subtasks run in parallel and complete approximately at the same time (if not at the same moment), where their results are merged and passed up the stack to the previous layer of subtasks. Hardly any processor time is wasted through waiting, and the recursive code is less verbose and (usually) easier to understand. Java provides the Fork/Join Framework to implement this scenario.\n",
    "\n",
    "Fork/Join consists of a special executor service and thread pool. The executor service makes a task available to the framework, and this task is broken into smaller tasks that are forked (executed by different threads) from the pool. A task waits until joined (its subtasks finish).\n",
    "\n",
    "Fork/Join uses work stealing to minimize thread contention and overhead. Each worker thread from a pool of worker threads has its own double-ended work queue and pushes new tasks to this queue. It reads the task from the head of the queue. If the queue is empty, the worker thread tries to get a task from the tail of another queue. Stealing is infrequent because worker threads put tasks into their queues in a last-in, first-out (LIFO) order, and the size of work items gets smaller as a problem is divided into subproblems. You start by giving the tasks to a central worker and it keeps dividing them into smaller tasks. Eventually all of the workers have something to do with minimal synchronization."
   ]
  },
  {
   "cell_type": "markdown",
   "metadata": {},
   "source": [
    "## Fork/Join – RecursiveTask"
   ]
  },
  {
   "cell_type": "code",
   "execution_count": 17,
   "metadata": {},
   "outputs": [],
   "source": [
    "import java.util.concurrent.ForkJoinPool;\n",
    "import java.util.concurrent.ForkJoinTask;\n",
    "import java.util.concurrent.RecursiveTask;\n",
    "import java.util.stream.LongStream;\n",
    "\n",
    "public class ForkJoinAdd extends RecursiveTask<Long> {\n",
    "\n",
    "    private final long[] numbers;\n",
    "    private final int start;\n",
    "    private final int end;\n",
    "    public static final long threshold = 10_000;\n",
    "\n",
    "    public ForkJoinAdd(long[] numbers) {\n",
    "        this(numbers, 0, numbers.length);\n",
    "    }\n",
    "\n",
    "    private ForkJoinAdd(long[] numbers, int start, int end) {\n",
    "        this.numbers = numbers;\n",
    "        this.start = start;\n",
    "        this.end = end;\n",
    "    }\n",
    "\n",
    "    @Override\n",
    "    protected Long compute() {\n",
    "\n",
    "        int length = end - start;\n",
    "        if (length <= threshold) {\n",
    "            return add();\n",
    "        }\n",
    "\n",
    "        ForkJoinAdd firstTask = new ForkJoinAdd(numbers, start, start + length / 2);\n",
    "        firstTask.fork(); //start asynchronously\n",
    "\n",
    "        ForkJoinAdd secondTask = new ForkJoinAdd(numbers, start + length / 2, end);\n",
    "\n",
    "        Long secondTaskResult = secondTask.compute();\n",
    "        Long firstTaskResult = firstTask.join();\n",
    "\n",
    "        return firstTaskResult + secondTaskResult;\n",
    "\n",
    "    }\n",
    "\n",
    "    private long add() {\n",
    "        long result = 0;\n",
    "        for (int i = start; i < end; i++) {\n",
    "            result += numbers[i];\n",
    "        }\n",
    "        return result;\n",
    "    }\n",
    "\n",
    "    public static long startForkJoinSum(long n) {\n",
    "        long[] numbers = LongStream.rangeClosed(1, n).toArray();\n",
    "        ForkJoinTask<Long> task = new ForkJoinAdd(numbers);\n",
    "        return new ForkJoinPool().invoke(task);\n",
    "    }\n",
    "\n",
    "}"
   ]
  },
  {
   "cell_type": "code",
   "execution_count": 18,
   "metadata": {},
   "outputs": [
    {
     "name": "stdout",
     "output_type": "stream",
     "text": [
      "500000500000\n"
     ]
    }
   ],
   "source": [
    "System.out.println(ForkJoinAdd.startForkJoinSum(1_000_000));"
   ]
  },
  {
   "cell_type": "markdown",
   "metadata": {},
   "source": [
    "## Fork/Join – RecursiveAction"
   ]
  },
  {
   "cell_type": "code",
   "execution_count": 19,
   "metadata": {},
   "outputs": [],
   "source": [
    "import java.util.concurrent.ForkJoinTask;\n",
    "import java.util.concurrent.RecursiveAction;\n",
    "\n",
    "public class ForkJoinFibonacci extends RecursiveAction {\n",
    "\n",
    "    private static final long threshold = 10;\n",
    "    private volatile long number;\n",
    "\n",
    "    public ForkJoinFibonacci(long number) {\n",
    "        this.number = number;\n",
    "    }\n",
    "\n",
    "    public long getNumber() {\n",
    "        return number;\n",
    "    }\n",
    "\n",
    "    @Override\n",
    "    protected void compute() {\n",
    "        long n = number;\n",
    "        if (n <= threshold) {\n",
    "            number = fib(n);\n",
    "        } else {\n",
    "            ForkJoinFibonacci f1 = new ForkJoinFibonacci(n - 1);\n",
    "            ForkJoinFibonacci f2 = new ForkJoinFibonacci(n - 2);\n",
    "            ForkJoinTask.invokeAll(f1, f2);\n",
    "            number = f1.number + f2.number;\n",
    "        }\n",
    "    }\n",
    "\n",
    "    private static long fib(long n) {\n",
    "        if (n <= 1) return n;\n",
    "        else return fib(n - 1) + fib(n - 2);\n",
    "    }\n",
    "\n",
    "}"
   ]
  },
  {
   "cell_type": "code",
   "execution_count": 20,
   "metadata": {},
   "outputs": [
    {
     "name": "stdout",
     "output_type": "stream",
     "text": [
      "12586269025\n"
     ]
    }
   ],
   "source": [
    "ForkJoinFibonacci task = new ForkJoinFibonacci(50);\n",
    "new ForkJoinPool().invoke(task);\n",
    "\n",
    "System.out.println(task.getNumber());"
   ]
  },
  {
   "cell_type": "markdown",
   "metadata": {},
   "source": [
    "## Completion Services\n",
    "A service that decouples the production of new asynchronous tasks from the consumption of the results of completed tasks. Producers submit tasks for execution. Consumers take completed tasks and process their results in the order they complete. A CompletionService can for example be used to manage asynchronous IO, in which tasks that perform reads are submitted in one part of a program or system, and then acted upon in a different part of the program when the reads complete, possibly in a different order than they were requested.\n",
    "Typically, a CompletionService relies on a separate Executor to actually execute the tasks, in which case the CompletionService only manages an internal completion queue. The ExecutorCompletionService class provides an implementation of this approach.\n",
    "\n",
    "Memory consistency effects: Actions in a thread prior to submitting a task to a CompletionService happen-before actions taken by that task, which in turn happen-before actions following a successful return from the corresponding take()."
   ]
  },
  {
   "cell_type": "code",
   "execution_count": 21,
   "metadata": {},
   "outputs": [],
   "source": [
    " class Worker implements Callable{\n",
    "    @Override\n",
    "    public Long call() throws Exception {\n",
    "        //do some task and return back\n",
    "        return System.currentTimeMillis();\n",
    "    }\n",
    "     \n",
    " }"
   ]
  },
  {
   "cell_type": "code",
   "execution_count": 22,
   "metadata": {},
   "outputs": [
    {
     "name": "stdout",
     "output_type": "stream",
     "text": [
      "1594667656581\n",
      "1594667656692\n",
      "1594667656763\n"
     ]
    }
   ],
   "source": [
    "Executor ex= Executors.newCachedThreadPool();\n",
    "CompletionService<Long> cs = new ExecutorCompletionService<Long>(ex);\n",
    "cs.submit(new Worker());\n",
    "cs.submit(new Worker());\n",
    "cs.submit(new Worker());\n",
    "\n",
    "for(int i=0;i<3;i++){\n",
    "    long l=cs.take().get();\n",
    "    //utilize the result \n",
    "    System.out.println(l);\n",
    "}"
   ]
  },
  {
   "cell_type": "markdown",
   "metadata": {},
   "source": [
    "Summary\n",
    "This chapter completed my tour of the concurrency utilities by introducing concurrent collections, atomic variables, the Fork/Join Framework, and completion services.\n",
    "\n",
    "A concurrent collection is a concurrency performant and highly-scalable collections- oriented type that is stored in the java.util.concurrent package. It overcomes the ConcurrentModificationException and performance problems of thread-safe collections.\n",
    "\n",
    "An atomic variable is an instance of a class that encapsulates a single variable and supports lock-free, thread-safe operations on that variable, for example, AtomicInteger.\n",
    "\n",
    "The Fork/Join Framework consists of a special executor service and thread pool. The executor service makes a task available to the framework, and this task is broken down into smaller tasks that are forked (executed by different threads) from the pool. A task waits until it’s joined (its subtasks finish).\n",
    "\n",
    "A completion service is an implementation of the CompletionService<V> interface that decouples the production of new asynchronous tasks (a producer) from the consumption of the results of completed tasks (a consumer). V is the type of a task result."
   ]
  }
 ],
 "metadata": {
  "kernelspec": {
   "display_name": "Java",
   "language": "java",
   "name": "java"
  },
  "language_info": {
   "codemirror_mode": "java",
   "file_extension": ".jshell",
   "mimetype": "text/x-java-source",
   "name": "Java",
   "pygments_lexer": "java",
   "version": "14.0.1+7"
  }
 },
 "nbformat": 4,
 "nbformat_minor": 4
}
