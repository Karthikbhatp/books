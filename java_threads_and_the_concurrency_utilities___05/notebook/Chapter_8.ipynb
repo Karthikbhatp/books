{
 "cells": [
  {
   "cell_type": "markdown",
   "metadata": {},
   "source": [
    "# Java Threads and Concurrency Utilities\n",
    "\n",
    "## Chapter - 8\n",
    "## Additional Concurrency Utilities"
   ]
  },
  {
   "cell_type": "markdown",
   "metadata": {},
   "source": [
    "Coverage of the concurrency utilities by introducing you to concurrent collections, atomic variables, the Fork/Join Framework, and completion services.\n"
   ]
  },
  {
   "cell_type": "markdown",
   "metadata": {},
   "source": [
    "ArrayList, TreeSet, HashMap, and other classes that implement these interfaces\n",
    "are not thread-safe. However, you can make them thread-safe by using the synchronized wrapper methods located in the java.util.Collections class. For example, you can pass an ArrayList instance to Collections.synchronizedList() to obtain a thread-safe variant of ArrayList."
   ]
  },
  {
   "cell_type": "markdown",
   "metadata": {},
   "source": [
    "The following list offers a short sample of concurrency-oriented collection types that you’ll find in the java.util.concurrent package:\n",
    "* BlockingQueue is a subinterface of java.util.Queue that also supports blocking operations that wait for the queue to become nonempty before retrieving an element and wait for space to become available in the queue before storing an element. Each of the ArrayBlockingQueue, DelayQueue, LinkedBlockingQueue, PriorityBlockingQueue, and SynchronousQueue classes implements this interface directly. The LinkedBlockingDeque and LinkedTransferQueue classes implement this interface via BlockingQueue subinterfaces.\n",
    "* ConcurrentMap is a subinterface of java.util.Map that declares additional indivisible putIfAbsent(), remove(), and replace() methods. The ConcurrentHashMap class (the concurrent equivalent of java.util.HashMap), the ConcurrentNavigableMap class, and the ConcurrentSkipListMap class implement this interface."
   ]
  },
  {
   "cell_type": "markdown",
   "metadata": {},
   "source": [
    "## Using BlockingQueue and ArrayBlockingQueue\n",
    "BlockingQueue’s Javadoc reveals the heart of a producer-consumer application that’s vastly simpler than the equivalent application shown in Chapter 3"
   ]
  },
  {
   "cell_type": "code",
   "execution_count": 1,
   "metadata": {},
   "outputs": [],
   "source": [
    "BlockingQueue<Character> bq;\n",
    "bq = new ArrayBlockingQueue<Character>(1);\n",
    "ExecutorService executor = Executors.newFixedThreadPool(2);"
   ]
  },
  {
   "cell_type": "code",
   "execution_count": 2,
   "metadata": {},
   "outputs": [],
   "source": [
    "Runnable producer = () -> {\n",
    "    for (char ch = 'A'; ch <= 'Z'; ch++) {\n",
    "        try {\n",
    "            bq.put(ch);\n",
    "            System.out.printf(\"%c produced by \" + \"producer.%n\", ch);\n",
    "        } catch (InterruptedException ie) {\n",
    "        }\n",
    "    }\n",
    "};"
   ]
  },
  {
   "cell_type": "code",
   "execution_count": 3,
   "metadata": {},
   "outputs": [],
   "source": [
    "Runnable consumer = () -> {\n",
    "    char ch = '\\0';\n",
    "    do {\n",
    "        try {\n",
    "            ch = bq.take();\n",
    "            System.out.printf(\"%c consumed by \" + \"consumer.%n\", ch);\n",
    "        } catch (InterruptedException ie) {\n",
    "        }\n",
    "    } while (ch != 'Z');\n",
    "};"
   ]
  },
  {
   "cell_type": "code",
   "execution_count": 4,
   "metadata": {},
   "outputs": [
    {
     "name": "stdout",
     "output_type": "stream",
     "text": [
      "A produced by producer.\n",
      "A consumed by consumer.\n",
      "B produced by producer.\n",
      "B consumed by consumer.\n",
      "C produced by producer.\n",
      "C consumed by consumer.\n",
      "D produced by producer.\n",
      "D consumed by consumer.\n",
      "E produced by producer.\n",
      "E consumed by consumer.\n",
      "F produced by producer.\n",
      "F consumed by consumer.\n",
      "G produced by producer.\n",
      "G consumed by consumer.\n",
      "H produced by producer.\n",
      "H consumed by consumer.\n",
      "I consumed by consumer.\n",
      "I produced by producer.\n",
      "J produced by producer.\n",
      "J consumed by consumer.\n",
      "K produced by producer.\n",
      "L produced by producer.\n",
      "K consumed by consumer.\n",
      "L consumed by consumer.\n",
      "M produced by producer.\n",
      "M consumed by consumer.\n",
      "N produced by producer.\n",
      "N consumed by consumer.\n",
      "O produced by producer.\n",
      "O consumed by consumer.\n",
      "P produced by producer.\n",
      "P consumed by consumer.\n",
      "Q consumed by consumer.\n",
      "Q produced by producer.\n",
      "R produced by producer.\n",
      "S produced by producer.\n",
      "R consumed by consumer.\n",
      "S consumed by consumer.\n",
      "T consumed by consumer.\n",
      "T produced by producer.\n",
      "U produced by producer.\n",
      "V produced by producer.\n",
      "U consumed by consumer.\n",
      "V consumed by consumer.\n",
      "W consumed by consumer.\n",
      "W produced by producer.\n",
      "X produced by producer.\n",
      "Y produced by producer.\n",
      "X consumed by consumer.\n",
      "Y consumed by consumer.\n",
      "Z consumed by consumer.\n",
      "Z produced by producer.\n"
     ]
    },
    {
     "data": {
      "text/plain": [
       "[]"
      ]
     },
     "execution_count": 4,
     "metadata": {},
     "output_type": "execute_result"
    }
   ],
   "source": [
    "executor.execute(producer);\n",
    "executor.execute(consumer);\n",
    "executor.shutdownNow();"
   ]
  },
  {
   "cell_type": "code",
   "execution_count": 5,
   "metadata": {},
   "outputs": [],
   "source": [
    "public class BlockingQueueManMade<T> {\n",
    "    int size;\n",
    "    List<T> items;\n",
    "\n",
    "    public BlockingQueueManMade(int size) {\n",
    "        super();\n",
    "        this.size = size;\n",
    "        this.items = new ArrayList<>();\n",
    "    }\n",
    "    \n",
    "    public synchronized void put(T item) throws InterruptedException {\n",
    "        while(this.items.size() == this.size) {\n",
    "            wait();\n",
    "        }\n",
    "        \n",
    "        if(this.items.size() == 0) {\n",
    "            notifyAll();\n",
    "        }\n",
    "        \n",
    "        this.items.add(item);\n",
    "    }\n",
    "    \n",
    "    public synchronized T take() throws InterruptedException{\n",
    "        while(this.items.size() == 0) {\n",
    "            wait();\n",
    "        }\n",
    "        \n",
    "        if(this.items.size() == this.size) {\n",
    "            notifyAll();\n",
    "        }\n",
    "        \n",
    "        return this.items.remove(0);\n",
    "    }\n",
    "}"
   ]
  },
  {
   "cell_type": "code",
   "execution_count": 6,
   "metadata": {},
   "outputs": [],
   "source": [
    "BlockingQueueManMade<Integer> blockingQueue = new BlockingQueueManMade<>(1);"
   ]
  },
  {
   "cell_type": "code",
   "execution_count": 11,
   "metadata": {},
   "outputs": [],
   "source": [
    "Runnable producer = () -> {\n",
    "    try {\n",
    "        int iterator = 0;\n",
    "        while (true) {\n",
    "            if (iterator++ == 10)\n",
    "                break;\n",
    "\n",
    "            String name = Thread.currentThread().getName();\n",
    "            Integer i = (int) (Math.random() * 10);\n",
    "            blockingQueue.put(i);\n",
    "            System.out.println(name + \" Producing:-> \" + i + \" at \" +System.nanoTime());\n",
    "        }\n",
    "    } catch (InterruptedException e) {\n",
    "        e.printStackTrace();\n",
    "    }\n",
    "};\n",
    "\n",
    "Runnable consumer = () -> {\n",
    "    try {\n",
    "        int iterator = 0;\n",
    "        while (true) {\n",
    "            if (iterator++ == 10)\n",
    "                break;\n",
    "            String name = Thread.currentThread().getName();\n",
    "            Integer take = blockingQueue.take();\n",
    "            System.out.println(name + \" Consuming:<- \" + take + \" at \" +System.nanoTime());\n",
    "        }\n",
    "    } catch (InterruptedException e) {\n",
    "        e.printStackTrace();\n",
    "    }\n",
    "};"
   ]
  },
  {
   "cell_type": "code",
   "execution_count": 12,
   "metadata": {},
   "outputs": [],
   "source": [
    "BlockingQueueManMade<Integer> blockingQueue = new BlockingQueueManMade<>(1);\n",
    "\n",
    "Thread threadProducer = new Thread(producer);\n",
    "Thread threadConsumer = new Thread(consumer);\n",
    "final ExecutorService executor = Executors.newFixedThreadPool(10);"
   ]
  },
  {
   "cell_type": "code",
   "execution_count": 13,
   "metadata": {},
   "outputs": [
    {
     "name": "stdout",
     "output_type": "stream",
     "text": [
      "pool-3-thread-1 Producing:-> 9 at 28273718212769\n",
      "pool-3-thread-1 Producing:-> 5 at 28273785024520\n",
      "pool-3-thread-2 Consuming:<- 9 at 28273785020644\n",
      "pool-3-thread-2 Consuming:<- 5 at 28273786240183\n",
      "pool-3-thread-1 Producing:-> 8 at 28273786254857\n",
      "pool-3-thread-2 Consuming:<- 8 at 28273786741479\n",
      "pool-3-thread-1 Producing:-> 4 at 28273787178576\n",
      "pool-3-thread-2 Consuming:<- 4 at 28273787498584\n",
      "pool-3-thread-1 Producing:-> 3 at 28273787889204\n",
      "pool-3-thread-2 Consuming:<- 3 at 28273788268090\n",
      "pool-3-thread-1 Producing:-> 6 at 28273788593536\n",
      "pool-3-thread-1 Producing:-> 1 at 28273789403084\n",
      "pool-3-thread-2 Consuming:<- 6 at 28273789032306\n",
      "pool-3-thread-2 Consuming:<- 1 at 28273790628345\n",
      "pool-3-thread-2 Consuming:<- 6 at 28273790987216\n",
      "pool-3-thread-1 Producing:-> 6 at 28273790837185\n",
      "pool-3-thread-2 Consuming:<- 4 at 28273791943401\n",
      "pool-3-thread-1 Producing:-> 4 at 28273791928104\n",
      "pool-3-thread-2 Consuming:<- 4 at 28273792749777\n",
      "pool-3-thread-1 Producing:-> 4 at 28273792736971\n"
     ]
    }
   ],
   "source": [
    "executor.execute(threadProducer);\n",
    "executor.execute(threadConsumer);\n",
    "executor.shutdown();"
   ]
  },
  {
   "cell_type": "markdown",
   "metadata": {},
   "source": [
    "### Blocking queue using Lock and Condition"
   ]
  },
  {
   "cell_type": "code",
   "execution_count": 10,
   "metadata": {},
   "outputs": [],
   "source": [
    "import java.util.LinkedList;\n",
    "import java.util.Queue;\n",
    "import java.util.concurrent.locks.Condition;\n",
    "import java.util.concurrent.locks.Lock;\n",
    "import java.util.concurrent.locks.ReentrantLock;\n",
    "\n",
    "public class BlockingQueue<T> {\n",
    "    private Queue<T> queue = new LinkedList<T>();\n",
    "    private int capacity;\n",
    "    private Lock lock = new ReentrantLock();\n",
    "    private Condition notFull = lock.newCondition();\n",
    "    private Condition notEmpty = lock.newCondition();\n",
    "\n",
    "    public BlockingQueue(int capacity) {\n",
    "        this.capacity = capacity;\n",
    "    }\n",
    "\n",
    "    public void put(T element) throws InterruptedException {\n",
    "        lock.lock();\n",
    "        try {\n",
    "            while (queue.size() == capacity) {\n",
    "                notFull.await();\n",
    "            }\n",
    "            queue.add(element);\n",
    "            notEmpty.signal();\n",
    "        } finally {\n",
    "            lock.unlock();\n",
    "        }\n",
    "    }\n",
    "\n",
    "    public T take() throws InterruptedException {\n",
    "        lock.lock();\n",
    "        try {\n",
    "            while (queue.isEmpty()) {\n",
    "                notEmpty.await();\n",
    "            }\n",
    "            T item = queue.remove();\n",
    "            notFull.signal();\n",
    "            return item;\n",
    "        } finally {\n",
    "            lock.unlock();\n",
    "        }\n",
    "    }\n",
    "}"
   ]
  },
  {
   "cell_type": "code",
   "execution_count": null,
   "metadata": {},
   "outputs": [],
   "source": []
  }
 ],
 "metadata": {
  "kernelspec": {
   "display_name": "Java",
   "language": "java",
   "name": "java"
  },
  "language_info": {
   "codemirror_mode": "java",
   "file_extension": ".jshell",
   "mimetype": "text/x-java-source",
   "name": "Java",
   "pygments_lexer": "java",
   "version": "14.0.1+7"
  }
 },
 "nbformat": 4,
 "nbformat_minor": 4
}
