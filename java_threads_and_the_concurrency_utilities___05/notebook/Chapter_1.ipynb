{
 "cells": [
  {
   "cell_type": "markdown",
   "metadata": {},
   "source": [
    "# Java Threads and Concurrency Utilities\n",
    "\n",
    "## Chapter - 1 \n",
    "## Threads and Runnables"
   ]
  },
  {
   "cell_type": "code",
   "execution_count": 1,
   "metadata": {},
   "outputs": [],
   "source": [
    "import java.util.concurrent.atomic.AtomicInteger;\n",
    "AtomicInteger atomicInteger = new AtomicInteger(0);"
   ]
  },
  {
   "cell_type": "code",
   "execution_count": 2,
   "metadata": {},
   "outputs": [],
   "source": [
    "Runnable r = () -> {\n",
    "                    Thread thd = Thread.currentThread();\n",
    "                    while (atomicInteger.addAndGet(1) < 20){\n",
    "                       System.out.printf(\"%s is %salive and in %s \" +\n",
    "                                         \"state.%n\",\n",
    "                                         thd.getName(), \n",
    "                                         thd.isAlive() ? \"\" : \"not \", \n",
    "                                         thd.getState());\n",
    "                    }\n",
    "              };"
   ]
  },
  {
   "cell_type": "code",
   "execution_count": 3,
   "metadata": {},
   "outputs": [
    {
     "name": "stdout",
     "output_type": "stream",
     "text": [
      "Thread_1 is not alive and in NEW state\n",
      "Thread_2 is not alive and in NEW state\n",
      "Thread_1 is alive and in RUNNABLE state.\n",
      "Thread_1 is alive and in RUNNABLE state.\n",
      "Thread_1 is alive and in RUNNABLE state.\n",
      "Thread_1 is alive and in RUNNABLE state.\n",
      "Thread_1 is alive and in RUNNABLE state.\n",
      "Thread_1 is alive and in RUNNABLE state.\n",
      "Thread_1 is alive and in RUNNABLE state.\n",
      "Thread_1 is alive and in RUNNABLE state.\n",
      "Thread_1 is alive and in RUNNABLE state.\n",
      "Thread_1 is alive and in RUNNABLE state.\n",
      "Thread_1 is alive and in RUNNABLE state.\n",
      "Thread_1 is alive and in RUNNABLE state.\n",
      "Thread_1 is alive and in RUNNABLE state.\n",
      "Thread_1 is alive and in RUNNABLE state.\n",
      "Thread_1 is alive and in RUNNABLE state.\n",
      "Thread_1 is alive and in RUNNABLE state.\n",
      "Thread_1 is alive and in RUNNABLE state.\n",
      "Thread_1 is alive and in RUNNABLE state.\n",
      "Thread_1 is alive and in RUNNABLE state.\n"
     ]
    }
   ],
   "source": [
    "atomicInteger.getAndSet(0);\n",
    "\n",
    "var t1 = new Thread(r, \"Thread_1\");\n",
    "System.out.printf(\"%s is %salive and in %s state%n\",\n",
    "                  t1.getName(), \n",
    "                  t1.isAlive() ? \"\" : \"not \", \n",
    "                  t1.getState());\n",
    "\n",
    "var t2 = new Thread(r);\n",
    "t2.setName(\"Thread_2\");\n",
    "System.out.printf(\"%s is %salive and in %s state%n\",\n",
    "                        t2.getName(), \n",
    "                        t2.isAlive() ? \"\" : \"not \", \n",
    "                        t2.getState());\n",
    "\n",
    "t1.start();\n",
    "t2.start();"
   ]
  },
  {
   "cell_type": "code",
   "execution_count": 4,
   "metadata": {},
   "outputs": [],
   "source": [
    "Runnable runnableInterrupt = () -> {\n",
    "\t\t\tString name = Thread.currentThread().getName();\n",
    "\t\t\tint count = 0;\n",
    "\t\t\twhile (!Thread.interrupted())\n",
    "\t\t\t\tSystem.out.println(name + \": \" + count++);\n",
    "\t\t};"
   ]
  },
  {
   "cell_type": "code",
   "execution_count": 5,
   "metadata": {},
   "outputs": [],
   "source": [
    "Thread thdA = new Thread(runnableInterrupt, \"Thread_A\");\n",
    "Thread thdB = new Thread(runnableInterrupt, \"Thread_B\");"
   ]
  },
  {
   "cell_type": "code",
   "execution_count": 6,
   "metadata": {},
   "outputs": [],
   "source": [
    "// thdA.start();\n",
    "// thdB.start();\n",
    "\n",
    "// Thread.currentThread().sleep(0);\n",
    "\n",
    "// OR\n",
    "\n",
    "// while (true) {\n",
    "// \tdouble n = Math.random();\n",
    "// \tif (n >= 0.4 && n <= 0.5)\n",
    "// \t\tbreak;\n",
    "// }\n",
    "\n",
    "// thdA.interrupt();\n",
    "// thdB.interrupt();"
   ]
  },
  {
   "cell_type": "markdown",
   "metadata": {},
   "source": [
    "<pre class=\"brush:java\"> \n",
    "Thread_A: 0\n",
    "Thread_A: 1\n",
    "Thread_A: 2\n",
    "Thread_A: 3\n",
    "Thread_A: 4\n",
    "Thread_A: 5\n",
    "Thread_B: 0\n",
    "Thread_B: 1\n",
    "Thread_B: 2\n",
    "Thread_B: 3\n",
    "\n",
    "</pre>"
   ]
  },
  {
   "cell_type": "code",
   "execution_count": 7,
   "metadata": {},
   "outputs": [
    {
     "name": "stdout",
     "output_type": "stream",
     "text": [
      "1.212\n"
     ]
    }
   ],
   "source": [
    "long start = System.currentTimeMillis();\n",
    "\n",
    "Runnable someTaskThatTakesTime = () -> {\n",
    "\ttry {\n",
    "\t\tThread.sleep(1000);\n",
    "\t} catch (InterruptedException e) {\n",
    "\t\te.printStackTrace();\n",
    "\t}\n",
    "};\n",
    "\n",
    "Thread t = new Thread(someTaskThatTakesTime);\n",
    "t.start();\n",
    "\n",
    "try {\n",
    "\tt.join();\n",
    "} catch (InterruptedException e) {\n",
    "\te.printStackTrace();\n",
    "}\n",
    "\n",
    "long end = System.currentTimeMillis();\n",
    "\n",
    "System.out.println((end - start) / 1000.0);"
   ]
  },
  {
   "cell_type": "code",
   "execution_count": null,
   "metadata": {},
   "outputs": [],
   "source": []
  }
 ],
 "metadata": {
  "kernelspec": {
   "display_name": "Java",
   "language": "java",
   "name": "java"
  },
  "language_info": {
   "codemirror_mode": "java",
   "file_extension": ".jshell",
   "mimetype": "text/x-java-source",
   "name": "Java",
   "pygments_lexer": "java",
   "version": "14.0.1+7"
  }
 },
 "nbformat": 4,
 "nbformat_minor": 4
}
