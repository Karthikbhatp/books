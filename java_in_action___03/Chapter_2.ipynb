{
 "cells": [
  {
   "cell_type": "markdown",
   "metadata": {},
   "source": [
    "# Part 1 - Fundamentals\n",
    "## Chapter 2 - Passing code with behavior parameterization\n",
    "You’ll learn about behavior parameterization, a software devel- opment pattern that Java 8 relies heavily on and is the motivation for lambda expressions."
   ]
  },
  {
   "cell_type": "code",
   "execution_count": 1,
   "metadata": {},
   "outputs": [
    {
     "name": "stdout",
     "output_type": "stream",
     "text": [
      "Lets start with second chapter of this book, without wasting any time!\n"
     ]
    }
   ],
   "source": [
    "System.out.println(\"Lets start with second chapter of this book, without wasting any time!\")"
   ]
  },
  {
   "cell_type": "markdown",
   "metadata": {},
   "source": [
    "### This chapter covers\n",
    "* Coping with changing requirements\n",
    "* Behavior parameterization\n",
    "* Anonymous classes\n",
    "* Preview of lambda expressions\n",
    "* Real-world examples: Comparator, Runnable, and GUI"
   ]
  },
  {
   "cell_type": "code",
   "execution_count": 2,
   "metadata": {},
   "outputs": [],
   "source": [
    "public static class Apple {\n",
    "\n",
    "\tprivate Integer weight = 0;\n",
    "\tprivate String color = \"\";\n",
    "\n",
    "\tpublic Apple(int weight, String color) {\n",
    "\t\tthis.weight = weight;\n",
    "\t\tthis.color = color;\n",
    "\t}\n",
    "\n",
    "\tpublic Integer getWeight() {\n",
    "\t\treturn weight;\n",
    "\t}\n",
    "\n",
    "\tpublic void setWeight(int weight) {\n",
    "\t\tthis.weight = weight;\n",
    "\t}\n",
    "\n",
    "\tpublic String getColor() {\n",
    "\t\treturn color;\n",
    "\t}\n",
    "\n",
    "\tpublic void setColor(String color) {\n",
    "\t\tthis.color = color;\n",
    "\t}\n",
    "\n",
    "\t@Override\n",
    "\tpublic String toString() {\n",
    "\t\treturn String.format(\"Apple{color='%s', weight=%d}\", color, weight);\n",
    "\t}\n",
    "}"
   ]
  },
  {
   "cell_type": "markdown",
   "metadata": {},
   "source": [
    "__A well-known problem in software engineering is that no matter what you do, user requirements will change.__\n",
    "\n",
    "For example, imagine an application to help a farmer understand his inventory. The farmer might want a functionality to find all green apples in his inventory. But the next day he might tell you, “Actually, I also want to find all apples heavier than 150 g.” Two days later, the farmer comes back and adds, “It would be really nice if I could find all apples that are green and heavier than 150 g.” How can you cope with these changing requirements? Ideally, you’d like to minimize your engineering effort."
   ]
  },
  {
   "cell_type": "markdown",
   "metadata": {},
   "source": [
    "Model your selection criteria: you’re working with apples and returning a boolean based on some attributes of Apple. For example, is it green? Is it heavier than 150 g? We call this a predicate (a function that returns a boolean). Let’s therefore define an interface to model the selection criteria:"
   ]
  },
  {
   "cell_type": "code",
   "execution_count": 3,
   "metadata": {},
   "outputs": [],
   "source": [
    "public interface ApplePredicate{\n",
    "    boolean test (Apple apple);\n",
    "}"
   ]
  },
  {
   "cell_type": "code",
   "execution_count": 4,
   "metadata": {},
   "outputs": [],
   "source": [
    "public class AppleHeavyWeightPredicate implements ApplePredicate {\n",
    "    public boolean test(Apple apple) {\n",
    "        return apple.getWeight() > 150; \n",
    "    }\n",
    "}\n",
    "\n",
    "public class AppleGreenColorPredicate implements ApplePredicate {\n",
    "    public boolean test(Apple apple) {\n",
    "        return \"green\".equals(apple.getColor());\n",
    "    }\n",
    "}"
   ]
  },
  {
   "cell_type": "markdown",
   "metadata": {},
   "source": [
    "__ApplePredicate encapsulates a strategy for selecting an apple__"
   ]
  },
  {
   "cell_type": "markdown",
   "metadata": {},
   "source": [
    "What you just did is related to the strategy design pattern (see http://en.wikipedia.org/wiki/Strategy_pattern), which lets you define a family of algorithms, encapsulate each algorithm (called a strategy), and select an algorithm at run time. "
   ]
  },
  {
   "cell_type": "markdown",
   "metadata": {},
   "source": [
    "This is what behavior parameterization means: the ability to tell a method to take multiple behaviors (or strategies) as parameters and use them internally to accomplish different behaviors."
   ]
  },
  {
   "cell_type": "code",
   "execution_count": 5,
   "metadata": {},
   "outputs": [],
   "source": [
    "public static List<Apple> filterApples(List<Apple> inventory, ApplePredicate p) {\n",
    "\tvar result = new ArrayList<Apple>();\n",
    "\tfor (Apple apple : inventory) {\n",
    "\t\tif (p.test(apple)) {\n",
    "\t\t\tresult.add(apple);\n",
    "\t\t}\n",
    "\t}\n",
    "\treturn result;\n",
    "}"
   ]
  },
  {
   "cell_type": "markdown",
   "metadata": {},
   "source": [
    "PASSING CODE/BEHAVIOR"
   ]
  },
  {
   "cell_type": "code",
   "execution_count": 6,
   "metadata": {},
   "outputs": [],
   "source": [
    "public class AppleRedAndHeavyPredicate implements ApplePredicate {\n",
    "        public boolean test(Apple apple){\n",
    "\t\t\treturn \"red\".equals(apple.getColor()) && apple.getWeight() > 150;\n",
    "\t\t}\n",
    "}"
   ]
  },
  {
   "cell_type": "code",
   "execution_count": 7,
   "metadata": {},
   "outputs": [
    {
     "name": "stdout",
     "output_type": "stream",
     "text": [
      "[Apple{color='green', weight=80}, Apple{color='green', weight=255}, Apple{color='red', weight=220}]\n"
     ]
    }
   ],
   "source": [
    "private List<Apple> getInventory() {\n",
    "\tvar inventory = Arrays.asList(new Apple(80, \"green\"), \n",
    "                                  new Apple(255, \"green\"), \n",
    "                                  new Apple(220, \"red\"));\n",
    "\treturn inventory;\n",
    "}\n",
    "\n",
    "var inventory = getInventory();\n",
    "System.out.println(inventory);"
   ]
  },
  {
   "cell_type": "code",
   "execution_count": 8,
   "metadata": {},
   "outputs": [
    {
     "data": {
      "text/plain": [
       "[Apple{color='red', weight=220}]"
      ]
     },
     "execution_count": 8,
     "metadata": {},
     "output_type": "execute_result"
    }
   ],
   "source": [
    "List<Apple> redAndHeavyApples = filterApples(inventory, new AppleRedAndHeavyPredicate());\n",
    "\n",
    "redAndHeavyApples"
   ]
  },
  {
   "cell_type": "markdown",
   "metadata": {},
   "source": [
    "You’ve achieved something cool; the behavior of the filterApples method depends on the code you pass to it via the ApplePredicate object. You’ve parameterized the behavior of the filterApples method!\n",
    "\n",
    "By using lambdas, you can directly pass the expression RED.equals(apple.getColor()) && apple.getWeight() > 150 to the filterApples method without having to define multiple ApplePredicate classes. This removes unnecessary verbosity."
   ]
  },
  {
   "cell_type": "markdown",
   "metadata": {},
   "source": [
    "Verbosity in general is bad; it discourages the use of a language feature because it takes a long time to write and maintain verbose code, and it’s not pleasant to read! Good code should be easy to comprehend at a glance."
   ]
  },
  {
   "cell_type": "markdown",
   "metadata": {},
   "source": [
    "Using a lambda expression"
   ]
  },
  {
   "cell_type": "code",
   "execution_count": 9,
   "metadata": {},
   "outputs": [
    {
     "data": {
      "text/plain": [
       "[Apple{color='red', weight=220}]"
      ]
     },
     "execution_count": 9,
     "metadata": {},
     "output_type": "execute_result"
    }
   ],
   "source": [
    "List<Apple> result = filterApples(inventory, (Apple apple) -> \"red\".equals(apple.getColor()));\n",
    "result"
   ]
  },
  {
   "cell_type": "markdown",
   "metadata": {},
   "source": [
    "You have to admit this code looks a lot cleaner than our previous attempts! It’s great because it’s starting to look a lot closer to the problem statement. "
   ]
  },
  {
   "cell_type": "markdown",
   "metadata": {},
   "source": [
    "There’s one more step that you can do in your journey toward abstraction. At the moment, the filterApples method works only for Apple. But you can also abstract on the List type to go beyond the problem domain you’re thinking of, as shown:"
   ]
  },
  {
   "cell_type": "code",
   "execution_count": 10,
   "metadata": {},
   "outputs": [],
   "source": [
    "public interface Predicate<T> {\n",
    "    boolean test(T t);\n",
    "}"
   ]
  },
  {
   "cell_type": "code",
   "execution_count": 11,
   "metadata": {},
   "outputs": [],
   "source": [
    "public <T> List<T> filter(List<T> list, Predicate<T> p) {\n",
    "\tList<T> result = new ArrayList<>();\n",
    "\t    for(T e: list) {\n",
    "\t\t\tif(p.test(e)) { \n",
    "\t\t\t\tresult.add(e);\n",
    "\t\t\t} \n",
    "\t\t}\n",
    "    return result;\n",
    "}"
   ]
  },
  {
   "cell_type": "markdown",
   "metadata": {},
   "source": [
    "You can now use the method filter with a List of bananas, oranges, Integers, or Strings! Here’s an example, using lambda expressions:"
   ]
  },
  {
   "cell_type": "code",
   "execution_count": 12,
   "metadata": {},
   "outputs": [
    {
     "data": {
      "text/plain": [
       "[Apple{color='red', weight=220}]"
      ]
     },
     "execution_count": 12,
     "metadata": {},
     "output_type": "execute_result"
    }
   ],
   "source": [
    "List<Apple> redApples = filter(inventory, (Apple apple) -> \"red\".equals(apple.getColor()));\n",
    "\n",
    "redApples"
   ]
  },
  {
   "cell_type": "code",
   "execution_count": 13,
   "metadata": {},
   "outputs": [
    {
     "data": {
      "text/plain": [
       "[6, 2]"
      ]
     },
     "execution_count": 13,
     "metadata": {},
     "output_type": "execute_result"
    }
   ],
   "source": [
    "var numbers = List.of(1,5,6,2,3,9);\n",
    "List<Integer> evenNumbers = filter(numbers, (Integer i) -> i % 2 == 0);\n",
    "\n",
    "evenNumbers"
   ]
  },
  {
   "cell_type": "markdown",
   "metadata": {},
   "source": [
    "_Isn’t it cool? You’ve managed to find the sweet spot between flexibility and concise-\n",
    "ness, which wasn’t possible prior to Java 8!_"
   ]
  },
  {
   "cell_type": "markdown",
   "metadata": {},
   "source": [
    "## Real-world examples\n",
    "\n",
    "You’ve now seen that behavior parameterization is a useful pattern to easily adapt to changing requirements. This pattern lets you encapsulate a behavior (a piece of code) and parameterize the behavior of methods by passing and using these behaviors you create (for example, different predicates for an Apple)"
   ]
  },
  {
   "cell_type": "markdown",
   "metadata": {},
   "source": [
    "__Sorting with a Comparator__"
   ]
  },
  {
   "cell_type": "markdown",
   "metadata": {},
   "source": [
    "java.util.Comparator\n",
    "```\n",
    "public interface Comparator<T> {\n",
    "    int compare(T o1, T o2);\n",
    "}\n",
    "```"
   ]
  },
  {
   "cell_type": "code",
   "execution_count": 14,
   "metadata": {},
   "outputs": [
    {
     "data": {
      "text/plain": [
       "[Apple{color='green', weight=80}, Apple{color='green', weight=255}, Apple{color='red', weight=220}]"
      ]
     },
     "execution_count": 14,
     "metadata": {},
     "output_type": "execute_result"
    }
   ],
   "source": [
    "var inventory = getInventory();\n",
    "\n",
    "inventory"
   ]
  },
  {
   "cell_type": "code",
   "execution_count": 15,
   "metadata": {},
   "outputs": [
    {
     "data": {
      "text/plain": [
       "[Apple{color='green', weight=80}, Apple{color='red', weight=220}, Apple{color='green', weight=255}]"
      ]
     },
     "execution_count": 15,
     "metadata": {},
     "output_type": "execute_result"
    }
   ],
   "source": [
    "import java.util.Comparator;\n",
    "inventory.sort(new Comparator<Apple>() {\n",
    "    public int compare(Apple a1, Apple a2) {\n",
    "        return a1.getWeight().compareTo(a2.getWeight()); \n",
    "    }\n",
    "});\n",
    "\n",
    "inventory"
   ]
  },
  {
   "cell_type": "code",
   "execution_count": 16,
   "metadata": {},
   "outputs": [
    {
     "data": {
      "text/plain": [
       "[Apple{color='green', weight=80}, Apple{color='green', weight=255}, Apple{color='red', weight=220}]"
      ]
     },
     "execution_count": 16,
     "metadata": {},
     "output_type": "execute_result"
    }
   ],
   "source": [
    "var inventory = getInventory();\n",
    "\n",
    "inventory"
   ]
  },
  {
   "cell_type": "code",
   "execution_count": 17,
   "metadata": {},
   "outputs": [
    {
     "data": {
      "text/plain": [
       "[Apple{color='green', weight=80}, Apple{color='red', weight=220}, Apple{color='green', weight=255}]"
      ]
     },
     "execution_count": 17,
     "metadata": {},
     "output_type": "execute_result"
    }
   ],
   "source": [
    "inventory.sort((Apple a1, Apple a2) -> a1.getWeight().compareTo(a2.getWeight()));\n",
    "\n",
    "inventory"
   ]
  },
  {
   "cell_type": "markdown",
   "metadata": {},
   "source": [
    "__Executing a block of code with Runnable__"
   ]
  },
  {
   "cell_type": "markdown",
   "metadata": {},
   "source": [
    "java.lang.Runnable\n",
    "```\n",
    "public interface Runnable {\n",
    "     void run();\n",
    "}\n",
    "\n",
    "```"
   ]
  },
  {
   "cell_type": "code",
   "execution_count": 18,
   "metadata": {},
   "outputs": [
    {
     "name": "stdout",
     "output_type": "stream",
     "text": [
      "Hell o world\n"
     ]
    }
   ],
   "source": [
    "import java.lang.Runnable;\n",
    "Thread t = new Thread(new Runnable() {\n",
    "    public void run() {\n",
    "        System.out.println(\"Hell o world\"); }\n",
    "});\n",
    "\n",
    "t.start();"
   ]
  },
  {
   "cell_type": "code",
   "execution_count": 19,
   "metadata": {},
   "outputs": [
    {
     "name": "stdout",
     "output_type": "stream",
     "text": [
      "Hell o world\n"
     ]
    }
   ],
   "source": [
    "Thread t = new Thread(() -> System.out.println(\"Hell o world\"));\n",
    "t.start();"
   ]
  },
  {
   "cell_type": "markdown",
   "metadata": {},
   "source": [
    "__Returning a result using Callable__"
   ]
  },
  {
   "cell_type": "markdown",
   "metadata": {},
   "source": [
    "java.util.concurrent.Callable \n",
    "```\n",
    "public interface Callable<V> {\n",
    "    V call();\n",
    "}\n",
    "```"
   ]
  },
  {
   "cell_type": "code",
   "execution_count": 20,
   "metadata": {},
   "outputs": [
    {
     "data": {
      "text/plain": [
       "pool-1-thread-1"
      ]
     },
     "execution_count": 20,
     "metadata": {},
     "output_type": "execute_result"
    }
   ],
   "source": [
    "import java.util.concurrent.Callable;\n",
    "import java.util.concurrent.ExecutorService;\n",
    "import java.util.concurrent.Executors;\n",
    "import java.util.concurrent.Future;\n",
    "\n",
    "ExecutorService executorService = Executors.newCachedThreadPool();\n",
    "Future<String> threadName = executorService.submit(new Callable<String>() {\n",
    "\t@Override\n",
    "\tpublic String call() throws Exception {\n",
    "\t\treturn Thread.currentThread().getName();\n",
    "\t}\n",
    "});\n",
    "\n",
    "threadName.get();"
   ]
  },
  {
   "cell_type": "code",
   "execution_count": 21,
   "metadata": {},
   "outputs": [
    {
     "data": {
      "text/plain": [
       "pool-1-thread-1"
      ]
     },
     "execution_count": 21,
     "metadata": {},
     "output_type": "execute_result"
    }
   ],
   "source": [
    "Future<String> threadName = executorService.submit(() -> Thread.currentThread().getName());\n",
    "threadName.get();"
   ]
  },
  {
   "cell_type": "markdown",
   "metadata": {},
   "source": [
    "## Summary\n",
    "\n",
    "* Behavior parameterization is the ability for a method to take multiple different behaviors as parameters and use them internally to accomplish different behaviors.\n",
    "\n",
    "* Behavior parameterization lets you make your code more adaptive to changing requirements and saves on engineering efforts in the future.\n",
    "\n",
    "* Passing code is a way to give new behaviors as arguments to a method. But it’s verbose prior to Java 8. Anonymous classes helped a bit before Java 8 to get rid of the verbosity associated with declaring multiple concrete classes for an inter- face that are needed only once.\n",
    "\n",
    "* The Java API contains many methods that can be parameterized with different behaviors, which include sorting, threads, and GUI handling."
   ]
  }
 ],
 "metadata": {
  "kernelspec": {
   "display_name": "Java",
   "language": "java",
   "name": "java"
  },
  "language_info": {
   "codemirror_mode": "java",
   "file_extension": ".jshell",
   "mimetype": "text/x-java-source",
   "name": "Java",
   "pygments_lexer": "java",
   "version": "12.0.1+12"
  }
 },
 "nbformat": 4,
 "nbformat_minor": 4
}
