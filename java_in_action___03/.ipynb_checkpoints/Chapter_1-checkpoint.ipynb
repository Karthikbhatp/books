{
 "cells": [
  {
   "cell_type": "markdown",
   "metadata": {},
   "source": [
    "# Part 1 - Fundamentals\n",
    "## Chapter 1\n",
    "We summarize the main changes to Java (lambda expressions, method references, streams, and default methods) and set the scene for the book."
   ]
  },
  {
   "cell_type": "code",
   "execution_count": 1,
   "metadata": {},
   "outputs": [
    {
     "name": "stdout",
     "output_type": "stream",
     "text": [
      "Lets start with the first chapter of this book without wasting any time!\n"
     ]
    }
   ],
   "source": [
    "System.out.println(\"Lets start with the first chapter of this book without wasting any time!\")"
   ]
  },
  {
   "cell_type": "markdown",
   "metadata": {},
   "source": [
    "### This chapter covers\n",
    "* Why Java keeps changing\n",
    "* Changing computing background\n",
    "* Pressures for Java to evolve\n",
    "* Introducing new core features of Java 8 and 9"
   ]
  },
  {
   "cell_type": "markdown",
   "metadata": {},
   "source": [
    "| Java Version | Release date |\n",
    "| :--- | ---: |\n",
    "| JDK Alpha and Beta | (1995)\n",
    "| JDK 1.0 | (23rd Jan 1996)\n",
    "| JDK 1.1 | (19th Feb 1997)\n",
    "| J2SE 1.2 | (8th Dec 1998)\n",
    "| J2SE 1.3 | (8th May 2000)\n",
    "| J2SE 1.4 | (6th Feb 2002)\n",
    "| J2SE 5.0 | (30th Sep 2004)\n",
    "| Java SE 6 | (11th Dec 2006)\n",
    "| Java SE 7 | (28th July 2011)\n",
    "| Java SE 8 | (18th Mar 2014)\n",
    "| Java SE 9 | (21st Sep 2017)\n",
    "| Java SE 10 | (20th Mar 2018)"
   ]
  },
  {
   "cell_type": "markdown",
   "metadata": {},
   "source": [
    "#### Why is Java still changing?\n"
   ]
  },
  {
   "cell_type": "markdown",
   "metadata": {},
   "source": [
    "The three programming concepts that drove the design of Java 8.\n",
    "\n",
    "* Stream processing\n",
    "* Passing code to methods with behavior parameterization\n",
    "* Parallelism and shared mutable data"
   ]
  },
  {
   "cell_type": "markdown",
   "metadata": {},
   "source": [
    "#### Why Java promoted Methods and lambdas as first-class citizens?\n",
    "__Functions in Java.__\n",
    "\n",
    "We’ll note that the whole point of a programming language is to manipulate values, which, following historical programming-language tradition, are therefore called first-class values (or citizens, in the terminology borrowed from the 1960s civil rights movement in the United States).\n",
    "\n",
    "Other structures in our programming languages, which perhaps help us express the structure of values but which can’t be passed around during program execution, are second-class citizens. \n",
    "\n",
    "Values as listed previously are first-class Java citizens, but various other Java concepts, such as methods and classes, exemplify second-class citizens. Methods are fine when used to define classes, which in turn may be instantiated to produce values, but neither are values themselves. \n",
    "\n",
    "Does this matter? Yes, it turns out that being able to pass methods around at runtime, and hence making them first-class citizens, is useful in programming, so the Java 8 designers added the ability to express this directly in Java. \n",
    "\n",
    "Incidentally, you might wonder whether making other second-class citizens such as classes into first- class-citizen values might also be a good idea. Various languages such as Smalltalk and JavaScript have explored this route.\n"
   ]
  },
  {
   "cell_type": "markdown",
   "metadata": {},
   "source": [
    "<img src=\"http://1.bp.blogspot.com/-vY1tY0DM66Q/UFtfGeaXPRI/AAAAAAAAA80/rgK0DNdntks/s1600/IMG_5740.JPG\">"
   ]
  },
  {
   "cell_type": "markdown",
   "metadata": {},
   "source": [
    "This is a apple class that we will take as reference."
   ]
  },
  {
   "cell_type": "markdown",
   "metadata": {},
   "source": [
    "#### Take the look at the original class also the original class has been refracted for purpose of better exlanation, with a pinch of magic."
   ]
  },
  {
   "cell_type": "code",
   "execution_count": 2,
   "metadata": {},
   "outputs": [],
   "source": [
    "import java.util.ArrayList;\n",
    "import java.util.Arrays;\n",
    "import java.util.List;\n",
    "import java.util.function.Predicate;\n",
    "\n",
    "public static class Apple {\n",
    "\n",
    "\tprivate int weight = 0;\n",
    "\tprivate String color = \"\";\n",
    "\n",
    "\tpublic Apple(int weight, String color) {\n",
    "\t\tthis.weight = weight;\n",
    "\t\tthis.color = color;\n",
    "\t}\n",
    "\n",
    "\tpublic int getWeight() {\n",
    "\t\treturn weight;\n",
    "\t}\n",
    "\n",
    "\tpublic void setWeight(int weight) {\n",
    "\t\tthis.weight = weight;\n",
    "\t}\n",
    "\n",
    "\tpublic String getColor() {\n",
    "\t\treturn color;\n",
    "\t}\n",
    "\n",
    "\tpublic void setColor(String color) {\n",
    "\t\tthis.color = color;\n",
    "\t}\n",
    "\n",
    "\t@Override\n",
    "\tpublic String toString() {\n",
    "\t\treturn String.format(\"Apple{color='%s', weight=%d}\", color, weight);\n",
    "\t}\n",
    "}"
   ]
  },
  {
   "cell_type": "code",
   "execution_count": 3,
   "metadata": {},
   "outputs": [],
   "source": [
    "public class FilteringApples {\n",
    "    \n",
    "\tpublic static List<Apple> filterGreenApples(List<Apple> inventory) {\n",
    "\t\tList<Apple> result = new ArrayList<>();\n",
    "\t\tfor (Apple apple : inventory) {\n",
    "\t\t\tif (\"green\".equals(apple.getColor())) {\n",
    "\t\t\t\tresult.add(apple);\n",
    "\t\t\t}\n",
    "\t\t}\n",
    "\t\treturn result;\n",
    "\t}\n",
    "\n",
    "\tpublic static List<Apple> filterHeavyApples(List<Apple> inventory) {\n",
    "\t\tList<Apple> result = new ArrayList<>();\n",
    "\t\tfor (Apple apple : inventory) {\n",
    "\t\t\tif (apple.getWeight() > 150) {\n",
    "\t\t\t\tresult.add(apple);\n",
    "\t\t\t}\n",
    "\t\t}\n",
    "\t\treturn result;\n",
    "\t}\n",
    "\n",
    "\tpublic static boolean isGreenApple(Apple apple) {\n",
    "\t\treturn \"green\".equals(apple.getColor());\n",
    "\t}\n",
    "\n",
    "\tpublic static boolean isHeavyApple(Apple apple) {\n",
    "\t\treturn apple.getWeight() > 150;\n",
    "\t}\n",
    "\n",
    "\tpublic static List<Apple> filterApples(List<Apple> inventory, Predicate<Apple> p) {\n",
    "\t\tList<Apple> result = new ArrayList<>();\n",
    "\t\tfor (Apple apple : inventory) {\n",
    "\t\t\tif (p.test(apple)) {\n",
    "\t\t\t\tresult.add(apple);\n",
    "\t\t\t}\n",
    "\t\t}\n",
    "\t\treturn result;\n",
    "\t}\n",
    "}"
   ]
  },
  {
   "cell_type": "code",
   "execution_count": 4,
   "metadata": {},
   "outputs": [
    {
     "name": "stdout",
     "output_type": "stream",
     "text": [
      "[Apple{color='green', weight=80}, Apple{color='green', weight=155}, Apple{color='red', weight=120}]\n"
     ]
    }
   ],
   "source": [
    "List<Apple> inventory = Arrays.asList(new Apple(80, \"green\"), \n",
    "                                      new Apple(155, \"green\"), \n",
    "                                      new Apple(120, \"red\"));\n",
    "System.out.println(inventory)"
   ]
  },
  {
   "cell_type": "markdown",
   "metadata": {},
   "source": [
    "#### Here comes the magic.\n",
    "\n",
    "Here some magic is happening, I also do not know how the hell, but I am getting the output here in IJava, crossed checked it with jshell, I am not getting the output with jhell.\n",
    "But the below code is working in jshell, but I shall prefer to omit \\<FilteringApples> in here, because it looks clean and magic is better than normal... ha ha :)\n",
    "    \n",
    "```List<Apple> greenApples = FilteringApples.filterApples(inventory, FilteringApples::isGreenApple);```"
   ]
  },
  {
   "cell_type": "code",
   "execution_count": 5,
   "metadata": {},
   "outputs": [
    {
     "name": "stdout",
     "output_type": "stream",
     "text": [
      "[Apple{color='green', weight=80}, Apple{color='green', weight=155}]\n"
     ]
    }
   ],
   "source": [
    "// [Apple{color='green', weight=80}, Apple{color='green', weight=155}]\n",
    "List<Apple> greenApples = FilteringApples.filterApples(inventory, FilteringApples::isGreenApple);\n",
    "System.out.println(greenApples);"
   ]
  },
  {
   "cell_type": "code",
   "execution_count": 6,
   "metadata": {},
   "outputs": [
    {
     "name": "stdout",
     "output_type": "stream",
     "text": [
      "[Apple{color='green', weight=155}]\n"
     ]
    }
   ],
   "source": [
    "// [Apple{color='green', weight=155}]\n",
    "List<Apple> heavyApples = FilteringApples.filterApples(inventory, FilteringApples::isHeavyApple);\n",
    "System.out.println(heavyApples);"
   ]
  },
  {
   "cell_type": "code",
   "execution_count": 7,
   "metadata": {},
   "outputs": [
    {
     "name": "stdout",
     "output_type": "stream",
     "text": [
      "[Apple{color='green', weight=80}, Apple{color='green', weight=155}]\n"
     ]
    }
   ],
   "source": [
    "// [Apple{color='green', weight=80}, Apple{color='green', weight=155}]\n",
    "List<Apple> greenApples2 = FilteringApples.filterApples(inventory, (Apple a) -> \"green\".equals(a.getColor()));\n",
    "System.out.println(greenApples2);"
   ]
  },
  {
   "cell_type": "code",
   "execution_count": 8,
   "metadata": {},
   "outputs": [
    {
     "name": "stdout",
     "output_type": "stream",
     "text": [
      "[Apple{color='green', weight=155}]\n"
     ]
    }
   ],
   "source": [
    "// [Apple{color='green', weight=155}]\n",
    "List<Apple> heavyApples2 = FilteringApples.filterApples(inventory, (Apple a) -> a.getWeight() > 150);\n",
    "System.out.println(heavyApples2);"
   ]
  },
  {
   "cell_type": "code",
   "execution_count": 9,
   "metadata": {},
   "outputs": [
    {
     "name": "stdout",
     "output_type": "stream",
     "text": [
      "[]\n"
     ]
    }
   ],
   "source": [
    "// []\n",
    "List<Apple> weirdApples = FilteringApples.filterApples(inventory,\n",
    "\t\t(Apple a) -> a.getWeight() < 80 || \"brown\".equals(a.getColor()));\n",
    "System.out.println(weirdApples);"
   ]
  },
  {
   "cell_type": "markdown",
   "metadata": {},
   "source": [
    "__Passing methods as values is clearly useful, but it’s annoying having to write a defini- tion for short methods such as isHeavyApple and isGreenApple when they’re used perhaps only once or twice. But Java 8 has solved this, too. It introduces a new nota- tion (anonymous functions, or lambdas) that enables you to write just__"
   ]
  },
  {
   "cell_type": "code",
   "execution_count": 10,
   "metadata": {},
   "outputs": [
    {
     "data": {
      "text/plain": [
       "[Apple{color='green', weight=80}, Apple{color='green', weight=155}]"
      ]
     },
     "execution_count": 10,
     "metadata": {},
     "output_type": "execute_result"
    }
   ],
   "source": [
    "FilteringApples.filterApples(inventory, (Apple a) -> \"green\".equals(a.getColor()));"
   ]
  },
  {
   "cell_type": "code",
   "execution_count": 11,
   "metadata": {},
   "outputs": [
    {
     "data": {
      "text/plain": [
       "[Apple{color='red', weight=120}]"
      ]
     },
     "execution_count": 11,
     "metadata": {},
     "output_type": "execute_result"
    }
   ],
   "source": [
    "FilteringApples.filterApples(inventory, (Apple a) -> a.getWeight() < 80 || \"red\".equals(a.getColor()));"
   ]
  },
  {
   "cell_type": "code",
   "execution_count": 12,
   "metadata": {},
   "outputs": [
    {
     "data": {
      "text/plain": [
       "[Apple{color='green', weight=155}]"
      ]
     },
     "execution_count": 12,
     "metadata": {},
     "output_type": "execute_result"
    }
   ],
   "source": [
    "import static java.util.stream.Collectors.toList; \n",
    "List<Apple> heavyApples = inventory.stream().filter((Apple a) -> a.getWeight() > 150) .collect(toList());\n",
    "\n",
    "heavyApples"
   ]
  },
  {
   "cell_type": "markdown",
   "metadata": {},
   "source": [
    "#### Parallel Processing is this easy. Enjoy..."
   ]
  },
  {
   "cell_type": "code",
   "execution_count": 13,
   "metadata": {},
   "outputs": [
    {
     "data": {
      "text/plain": [
       "[Apple{color='green', weight=155}]"
      ]
     },
     "execution_count": 13,
     "metadata": {},
     "output_type": "execute_result"
    }
   ],
   "source": [
    "import static java.util.stream.Collectors.toList; \n",
    "List<Apple> heavyApples = inventory.parallelStream().filter((Apple a) -> a.getWeight() > 150) .collect(toList());\n",
    "\n",
    "heavyApples"
   ]
  },
  {
   "cell_type": "markdown",
   "metadata": {},
   "source": [
    "## Summary\n",
    "\n",
    "* Keep in mind the idea of the language ecosystem and the consequent evolve- or-wither pressure on languages. Although Java may be supremely healthy at the moment, we can recall other healthy languages such as COBOL that failed to evolve.\n",
    "\n",
    "* The core additions to Java 8 provide exciting new concepts and functionality to ease the writing of programs that are both effective and concise.\n",
    "\n",
    "* Multicore processors aren’t fully served by pre-Java-8 programming practice.\n",
    "\n",
    "* Functions are first-class values; remember how methods can be passed as functional values and how anonymous functions (lambdas) are written.\n",
    "\n",
    "* The Java 8 concept of streams generalizes many aspects of collections, but the former often enables more readable code and allows elements of a stream to be processed in parallel.\n",
    "\n",
    "* Large-scale component-based programming, and evolving a system’s interfaces, weren’t historically well served by Java. You can now specify modules to struc- ture systems in Java 9 and use default methods to allow an interface to be enhanced without changing all the classes that implement it.\n",
    "\n",
    "* Other interesting ideas from functional programming include dealing with null and using pattern matching."
   ]
  },
  {
   "cell_type": "code",
   "execution_count": null,
   "metadata": {},
   "outputs": [],
   "source": []
  }
 ],
 "metadata": {
  "kernelspec": {
   "display_name": "Java",
   "language": "java",
   "name": "java"
  },
  "language_info": {
   "codemirror_mode": "java",
   "file_extension": ".jshell",
   "mimetype": "text/x-java-source",
   "name": "Java",
   "pygments_lexer": "java",
   "version": "12.0.1+12"
  }
 },
 "nbformat": 4,
 "nbformat_minor": 4
}
