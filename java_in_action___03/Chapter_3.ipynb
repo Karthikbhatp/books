{
 "cells": [
  {
   "cell_type": "markdown",
   "metadata": {},
   "source": [
    "# Part 1 - Fundamentals\n",
    "## Chapter 3 - Lambda expressions\n",
    "Gives a full explanation, with code examples and quizzes at every step, of the concepts of lambda expressions and method references."
   ]
  },
  {
   "cell_type": "code",
   "execution_count": 1,
   "metadata": {},
   "outputs": [
    {
     "name": "stdout",
     "output_type": "stream",
     "text": [
      "Lets start with chapter 3, without wasting any time!\n"
     ]
    }
   ],
   "source": [
    "System.out.println(\"Lets start with chapter 3, without wasting any time!\")"
   ]
  },
  {
   "cell_type": "markdown",
   "metadata": {},
   "source": [
    "This chapter covers\n",
    "* Lambdas in a nutshell\n",
    "* Where and how to use lambdas\n",
    "* Functional interfaces, type inference \n",
    "* Method references\n",
    "* Composing lambdas"
   ]
  },
  {
   "cell_type": "code",
   "execution_count": 2,
   "metadata": {},
   "outputs": [],
   "source": [
    "public static class Apple {\n",
    "\n",
    "\tprivate Integer weight = 0;\n",
    "\tprivate String color = \"\";\n",
    "\n",
    "\tpublic Apple(int weight, String color) {\n",
    "\t\tthis.weight = weight;\n",
    "\t\tthis.color = color;\n",
    "\t}\n",
    "    \n",
    "    public Apple(int weight){\n",
    "        this.weight = weight;\n",
    "    }\n",
    "    \n",
    "    public Apple(){\n",
    "        this.weight = 0;\n",
    "        this.color = \"white\";\n",
    "    }\n",
    "\n",
    "\tpublic Integer getWeight() {\n",
    "\t\treturn weight;\n",
    "\t}\n",
    "\n",
    "\tpublic void setWeight(int weight) {\n",
    "\t\tthis.weight = weight;\n",
    "\t}\n",
    "\n",
    "\tpublic String getColor() {\n",
    "\t\treturn color;\n",
    "\t}\n",
    "\n",
    "\tpublic void setColor(String color) {\n",
    "\t\tthis.color = color;\n",
    "\t}\n",
    "\n",
    "\t@Override\n",
    "\tpublic String toString() {\n",
    "\t\treturn String.format(\"Apple{color='%s', weight=%d}\", color, weight);\n",
    "\t}\n",
    "}"
   ]
  },
  {
   "cell_type": "code",
   "execution_count": 3,
   "metadata": {},
   "outputs": [],
   "source": [
    "private List<Apple> getInventory() {\n",
    "\tvar inventory = Arrays.asList(new Apple(80, \"green\"), \n",
    "                                  new Apple(255, \"green\"), \n",
    "                                  new Apple(220, \"red\"));\n",
    "\treturn inventory;\n",
    "}"
   ]
  },
  {
   "cell_type": "markdown",
   "metadata": {},
   "source": [
    "## 3.1 Lambdas in a nutshell\n",
    "A lambda expression can be understood as a concise representation of an anonymous function that can be passed around. It doesn’t have a name, but it has a list of parameters, a body, a return type, and also possibly a list of exceptions that can be thrown."
   ]
  },
  {
   "cell_type": "markdown",
   "metadata": {},
   "source": [
    "That’s one big definition; let’s break it down:\n",
    "* Anonymous—We say anonymous because it doesn’t have an explicit name like a method would normally have; less to write and think about!\n",
    "* Function—We say function because a lambda isn’t associated with a particular class like a method is. But like a method, a lambda has a list of parameters, a body, a return type, and a possible list of exceptions that can be thrown.\n",
    "* Passed around—A lambda expression can be passed as argument to a method or stored in a variable.\n",
    "* Concise—You don’t need to write a lot of boilerplate like you do for anonymous classes."
   ]
  },
  {
   "cell_type": "markdown",
   "metadata": {},
   "source": [
    "If you’re wondering where the term lambda comes from, it originates from a system developed in academia called lambda calculus, which is used to describe computations."
   ]
  },
  {
   "cell_type": "markdown",
   "metadata": {},
   "source": [
    "| Use case | Examples of lambdas |\n",
    "| :--- | :--- |\n",
    "| A boolean expression | (List\\<String> list) -> list.isEmpty()\n",
    "| Creating objects | () -> new Apple(10)\n",
    "| Consuming from an object | (Apple a) -> { System.out.println(a.getWeight());}\n",
    "| Select/extract from an object | (String s) -> s.length()\n",
    "| Combine two values | (int a, int b) -> a * b\n",
    "| Compare two objects | (Apple a1, Apple a2) -> a1.getWeight().compareTo(a2.getWeight())"
   ]
  },
  {
   "cell_type": "markdown",
   "metadata": {},
   "source": [
    "## 3.2 Where and how to use lambdas\n",
    "Where exactly can you use lambdas? You can use a lambda expression in the context of a functional interface."
   ]
  },
  {
   "cell_type": "markdown",
   "metadata": {},
   "source": [
    "In a nutshell, a functional interface is an interface that specifies exactly one abstract method. You already know several other functional interfaces in the Java API such as Comparator and Runnable"
   ]
  },
  {
   "cell_type": "markdown",
   "metadata": {},
   "source": [
    "_An interface is still a functional interface if it has many default methods as long as it specifies only one abstract method._"
   ]
  },
  {
   "cell_type": "markdown",
   "metadata": {},
   "source": [
    "What can you do with functional interfaces? Lambda expressions let you provide the implementation of the abstract method of a functional interface directly inline and treat the whole expression as an instance of a functional interface (more technically speaking, an instance of a concrete implementation of the functional interface)."
   ]
  },
  {
   "cell_type": "markdown",
   "metadata": {},
   "source": [
    "If you explore the new Java API, you will notice that functional interfaces are generally annotated with @FunctionalInterface."
   ]
  },
  {
   "cell_type": "markdown",
   "metadata": {},
   "source": [
    "## 3.3 Using functional interfaces"
   ]
  },
  {
   "cell_type": "markdown",
   "metadata": {},
   "source": [
    "### Predicate"
   ]
  },
  {
   "cell_type": "markdown",
   "metadata": {},
   "source": [
    "The java.util.function.Predicate\\<T> interface defines an abstract method named test that accepts an object of generic type T and returns a boolean.\n",
    "\n",
    "You might want to use this interface when you need to represent a boolean expression that uses an object of type T."
   ]
  },
  {
   "cell_type": "code",
   "execution_count": 4,
   "metadata": {},
   "outputs": [],
   "source": [
    "@FunctionalInterface\n",
    "public interface Predicate<T> {\n",
    "\tboolean test(T t);\n",
    "}\n",
    "\n",
    "public <T> List<T> filter(List<T> list, Predicate<T> p) {\n",
    "\tList<T> results = new ArrayList<>();\n",
    "\tfor (T t : list) {\n",
    "\t\tif (p.test(t)) {\n",
    "\t\t\tresults.add(t);\n",
    "\t\t}\n",
    "\t}\n",
    "\treturn results;\n",
    "}"
   ]
  },
  {
   "cell_type": "code",
   "execution_count": 5,
   "metadata": {},
   "outputs": [],
   "source": [
    "Predicate<String> nonEmptyStringPredicate = (String s) -> !s.isEmpty();"
   ]
  },
  {
   "cell_type": "code",
   "execution_count": 6,
   "metadata": {},
   "outputs": [
    {
     "data": {
      "text/plain": [
       "[test, another test]"
      ]
     },
     "execution_count": 6,
     "metadata": {},
     "output_type": "execute_result"
    }
   ],
   "source": [
    "List listOfStrings = List.of(\"\",\"test\",\"another test\");\n",
    "List<String> nonEmpty = filter(listOfStrings, nonEmptyStringPredicate);\n",
    "\n",
    "nonEmpty"
   ]
  },
  {
   "cell_type": "markdown",
   "metadata": {},
   "source": [
    "If you look up the Javadoc specification of the Predicate interface, you may notice additional methods such as and and or."
   ]
  },
  {
   "cell_type": "markdown",
   "metadata": {},
   "source": [
    "### Consumer"
   ]
  },
  {
   "cell_type": "markdown",
   "metadata": {},
   "source": [
    "The java.util.function.Consumer\\<T> interface defines an abstract method named accept that takes an object of generic type T and returns no result (void).\n",
    "\n",
    "You might use this interface when you need to access an object of type T and perform some oper- ations on it."
   ]
  },
  {
   "cell_type": "code",
   "execution_count": 7,
   "metadata": {},
   "outputs": [],
   "source": [
    "@FunctionalInterface\n",
    "public interface Consumer<T> {\n",
    "    void accept(T t);\n",
    "}\n",
    "\n",
    "public <T> void forEach(List<T> list, Consumer<T> c) {\n",
    "\tfor (T t : list) {\n",
    "\t\tc.accept(t);\n",
    "\t}\n",
    "}"
   ]
  },
  {
   "cell_type": "code",
   "execution_count": 8,
   "metadata": {},
   "outputs": [
    {
     "name": "stdout",
     "output_type": "stream",
     "text": [
      "1\n",
      "2\n",
      "3\n",
      "4\n",
      "5\n"
     ]
    }
   ],
   "source": [
    "forEach(Arrays.asList(1,2,3,4,5),\n",
    "\t\t\t(Integer i) -> System.out.println(i)\n",
    "\t\t\t);"
   ]
  },
  {
   "cell_type": "markdown",
   "metadata": {},
   "source": [
    "### Function"
   ]
  },
  {
   "cell_type": "markdown",
   "metadata": {},
   "source": [
    "The java.util.function.Function<T, R> interface defines an abstract method named apply that takes an object of generic type T as input and returns an object of generic type R."
   ]
  },
  {
   "cell_type": "markdown",
   "metadata": {},
   "source": [
    "You might use this interface when you need to define a lambda that maps information from an input object to an output (for example, extracting the weight of an apple or mapping a string to its length)."
   ]
  },
  {
   "cell_type": "code",
   "execution_count": 9,
   "metadata": {},
   "outputs": [],
   "source": [
    "// @FunctionalInterface\n",
    "// public interface Function<T, R> {\n",
    "// \tR apply(T t);\n",
    "// }\n",
    "// Importing is same as writing the above, only difference is that other default methods will not be for free.\n",
    "import java.util.function.Function;\n",
    "\n",
    "public <T, R> List<R> map(List<T> list, Function<T, R> f) {\n",
    "\tList<R> result = new ArrayList<>();\n",
    "\tfor (T t : list) {\n",
    "\t\tresult.add(f.apply(t));\n",
    "\t}\n",
    "\treturn result;\n",
    "}"
   ]
  },
  {
   "cell_type": "code",
   "execution_count": 10,
   "metadata": {},
   "outputs": [
    {
     "data": {
      "text/plain": [
       "[7, 2, 6]"
      ]
     },
     "execution_count": 10,
     "metadata": {},
     "output_type": "execute_result"
    }
   ],
   "source": [
    "// [7, 2, 6]\n",
    "List<Integer> l = map(Arrays.asList(\"lambdas\", \"in\", \"action\"), (String s) -> s.length());\n",
    "\n",
    "l"
   ]
  },
  {
   "cell_type": "markdown",
   "metadata": {},
   "source": [
    "We described three functional interfaces that are generic: Predicate<T>, Consumer<T>, and Function<T, R>. There are also functional interfaces that are specialized with certain types."
   ]
  },
  {
   "cell_type": "markdown",
   "metadata": {},
   "source": [
    "<img src=\"img/Chapter_3_commonFunctions.png\" style=\"height:500px\">"
   ]
  },
  {
   "cell_type": "markdown",
   "metadata": {},
   "source": [
    "__To summarize the discussion about functional interfaces and lambdas, table 3.3 provides a summary of use cases, examples of lambdas, and functional interfaces that can be used.__"
   ]
  },
  {
   "cell_type": "markdown",
   "metadata": {},
   "source": [
    "<img src=\"img/Chapter_3_examples_of_lamdas.png\" style=\"height:300px\">"
   ]
  },
  {
   "cell_type": "markdown",
   "metadata": {},
   "source": [
    "What about exceptions, lambdas, and functional interfaces?"
   ]
  },
  {
   "cell_type": "markdown",
   "metadata": {},
   "source": [
    "You have two options :\n",
    "* If you need the body of a lambda expression to throw an exception: define your own functional interface that declares the checked exception\n",
    "* Wrap the lambda body with a try/catch block.\n",
    "\n",
    "```\n",
    "// First option\n",
    "\n",
    "@FunctionalInterface\n",
    "public interface BufferedReaderProcessor {\n",
    "    String process(BufferedReader b) throws IOException;\n",
    "}\n",
    "BufferedReaderProcessor p = (BufferedReader br) -> br.readLine();\n",
    "\n",
    "```\n",
    "\n",
    "```\n",
    "// Second Option\n",
    "\n",
    "Function<BufferedReader, String> f = (BufferedReader b) -> {\n",
    "try {\n",
    "return b.readLine();\n",
    "    }\n",
    "    catch(IOException e) {\n",
    "      throw new RuntimeException(e);\n",
    "    }\n",
    "};\n",
    "```"
   ]
  },
  {
   "cell_type": "markdown",
   "metadata": {},
   "source": [
    "The type of a lambda is deduced from the context in which the lambda is used. The type expected for the lambda expression inside the context (for example, a method parameter that it’s passed to or a local variable that it’s assigned to) is called the target type."
   ]
  },
  {
   "cell_type": "markdown",
   "metadata": {},
   "source": [
    "Because of the idea of target typing, the same lambda expression can be associated with different functional interfaces if they have a compatible abstract method signature.\n",
    "\n",
    "The same lambda can be used with multi- ple different functional interfaces:"
   ]
  },
  {
   "cell_type": "markdown",
   "metadata": {},
   "source": [
    "```\n",
    "Comparator<Apple> c1 =(Apple a1, Apple a2) -> a1.getWeight().compareTo(a2.getWeight());\n",
    "ToIntBiFunction<Apple, Apple> c2 = (Apple a1, Apple a2) -> a1.getWeight().compareTo(a2.getWeight());\n",
    "BiFunction<Apple, Apple, Integer> c3 = (Apple a1, Apple a2) -> a1.getWeight().compareTo(a2.getWeight());\n",
    "```"
   ]
  },
  {
   "cell_type": "markdown",
   "metadata": {},
   "source": [
    "They can get their target type from an assignment context, method-invocation context (parameters and return), and a cast context."
   ]
  },
  {
   "cell_type": "markdown",
   "metadata": {},
   "source": [
    "You’ve seen how the target type can be used to check whether a lambda can be used in a particular context. It can also be used to do something slightly different: infer the types of the parameters of a lambda."
   ]
  },
  {
   "cell_type": "markdown",
   "metadata": {},
   "source": [
    "__Type inference__\n",
    "\n",
    "The Java compiler deduces what func- tional interface to associate with a lambda expression from its surrounding context (the target type), meaning it can also deduce an appropriate signature for the lambda because the function descriptor is available through the target type. "
   ]
  },
  {
   "cell_type": "code",
   "execution_count": 11,
   "metadata": {},
   "outputs": [],
   "source": [
    "Comparator<Apple> c1 = (Apple a1, Apple a2) -> a1.getWeight().compareTo(a2.getWeight());\n",
    "Comparator<Apple> c2 = (a1, a2) -> a1.getWeight().compareTo(a2.getWeight());"
   ]
  },
  {
   "cell_type": "code",
   "execution_count": 12,
   "metadata": {},
   "outputs": [
    {
     "data": {
      "text/plain": [
       "[Apple{color='green', weight=80}, Apple{color='green', weight=255}, Apple{color='red', weight=220}]"
      ]
     },
     "execution_count": 12,
     "metadata": {},
     "output_type": "execute_result"
    }
   ],
   "source": [
    "var inventory = getInventory();\n",
    "inventory"
   ]
  },
  {
   "cell_type": "code",
   "execution_count": 13,
   "metadata": {},
   "outputs": [
    {
     "data": {
      "text/plain": [
       "[Apple{color='green', weight=80}, Apple{color='red', weight=220}, Apple{color='green', weight=255}]"
      ]
     },
     "execution_count": 13,
     "metadata": {},
     "output_type": "execute_result"
    }
   ],
   "source": [
    "inventory.sort(c2);\n",
    "inventory"
   ]
  },
  {
   "cell_type": "markdown",
   "metadata": {},
   "source": [
    "Note that sometimes it’s more readable to include the types explicitly, and sometimes it’s more readable to exclude them. There’s no rule for which way is better; developers must make their own choices about what makes their code more readable."
   ]
  },
  {
   "cell_type": "markdown",
   "metadata": {},
   "source": [
    "__Using local variables__\n",
    "\n",
    "But lambda expressions are also allowed to use free variables (variables that aren’t the parameters and are defined in an outer scope) like anonymous classes can. They’re called capturing lambdas. For example, the following lambda captures the vari- able portNumber:"
   ]
  },
  {
   "cell_type": "markdown",
   "metadata": {},
   "source": [
    "```\n",
    "int portNumber = 1337;\n",
    "Runnable r = () -> System.out.println(portNumber);\n",
    "```"
   ]
  },
  {
   "cell_type": "markdown",
   "metadata": {},
   "source": [
    "Lambdas are allowed to capture (to reference in their bodies) instance variables and static variables without restrictions. But when local variables are captured, they have to be explicitly declared final or be effectively final."
   ]
  },
  {
   "cell_type": "code",
   "execution_count": 14,
   "metadata": {},
   "outputs": [],
   "source": [
    "int portNumber = 1337;\n",
    "Runnable r = () -> System.out.println(portNumber); portNumber = 31337;"
   ]
  },
  {
   "cell_type": "code",
   "execution_count": 15,
   "metadata": {},
   "outputs": [
    {
     "name": "stdout",
     "output_type": "stream",
     "text": [
      "31337"
     ]
    }
   ],
   "source": [
    "Thread t = new Thread(r);\n",
    "t.start();"
   ]
  },
  {
   "cell_type": "markdown",
   "metadata": {},
   "source": [
    "## Method references"
   ]
  },
  {
   "cell_type": "markdown",
   "metadata": {},
   "source": [
    "Method references let you reuse existing method definitions and pass them like lambdas. "
   ]
  },
  {
   "cell_type": "code",
   "execution_count": 16,
   "metadata": {},
   "outputs": [
    {
     "data": {
      "text/plain": [
       "[Apple{color='green', weight=80}, Apple{color='green', weight=255}, Apple{color='red', weight=220}]"
      ]
     },
     "execution_count": 16,
     "metadata": {},
     "output_type": "execute_result"
    }
   ],
   "source": [
    "inventory = getInventory();\n",
    "inventory"
   ]
  },
  {
   "cell_type": "code",
   "execution_count": 17,
   "metadata": {},
   "outputs": [
    {
     "data": {
      "text/plain": [
       "[Apple{color='green', weight=80}, Apple{color='red', weight=220}, Apple{color='green', weight=255}]"
      ]
     },
     "execution_count": 17,
     "metadata": {},
     "output_type": "execute_result"
    }
   ],
   "source": [
    "import static java.util.Comparator.comparing;\n",
    "inventory.sort(comparing(Apple::getWeight));\n",
    "\n",
    "inventory"
   ]
  },
  {
   "cell_type": "markdown",
   "metadata": {},
   "source": [
    "__In a nutshell__"
   ]
  },
  {
   "cell_type": "markdown",
   "metadata": {},
   "source": [
    "Indeed, a method reference lets you cre- ate a lambda expression from an existing method implementation. But by referring to a method name explicitly, your code can gain better readability.\n",
    "\n",
    "You can think of method references as syntactic sugar for lambdas that refer only to a single method because you write less to express the same thing."
   ]
  },
  {
   "cell_type": "markdown",
   "metadata": {},
   "source": [
    "There are three main kinds of method references:\n",
    "* A method reference to a static method (for example, the method parseInt of Integer, written Integer::parseInt)\n",
    "* A method reference to an instance method of an arbitrary type (for example, the method length of a String, written String::length)\n",
    "* A method reference to an instance method of an existing object or expression (for example, suppose you have a local variable expensiveTransaction that holds an object of type Transaction, which supports an instance method getValue; you can write expensiveTransaction::getValue)"
   ]
  },
  {
   "cell_type": "code",
   "execution_count": 18,
   "metadata": {},
   "outputs": [],
   "source": [
    "private boolean isValidName(String string) {\n",
    "    return Character.isUpperCase(string.charAt(0));\n",
    "}"
   ]
  },
  {
   "cell_type": "markdown",
   "metadata": {},
   "source": [
    "You can now pass this method around in the context of a Predicate<String> using a method reference:"
   ]
  },
  {
   "cell_type": "markdown",
   "metadata": {},
   "source": [
    "```\n",
    "filter(words, this::isValidName)\n",
    "```\n"
   ]
  },
  {
   "cell_type": "code",
   "execution_count": 19,
   "metadata": {},
   "outputs": [
    {
     "data": {
      "text/plain": [
       "[a, A, b, B]"
      ]
     },
     "execution_count": 19,
     "metadata": {},
     "output_type": "execute_result"
    }
   ],
   "source": [
    "List<String> str = Arrays.asList(\"a\",\"b\",\"A\",\"B\");\n",
    "str.sort((s1, s2) -> s1.compareToIgnoreCase(s2));\n",
    "\n",
    "str"
   ]
  },
  {
   "cell_type": "code",
   "execution_count": 20,
   "metadata": {},
   "outputs": [
    {
     "data": {
      "text/plain": [
       "[a, A, b, B]"
      ]
     },
     "execution_count": 20,
     "metadata": {},
     "output_type": "execute_result"
    }
   ],
   "source": [
    "List<String> str = Arrays.asList(\"a\",\"b\",\"A\",\"B\");\n",
    "str.sort(String::compareToIgnoreCase);\n",
    "\n",
    "str"
   ]
  },
  {
   "cell_type": "markdown",
   "metadata": {},
   "source": [
    "Note that the compiler goes through a similar type-checking process as for lambda expressions to figure out whether a method reference is valid with a given functional interface."
   ]
  },
  {
   "cell_type": "markdown",
   "metadata": {},
   "source": [
    "__Constructor references__\n",
    "\n",
    "You can create a reference to an existing constructor using its name and the keyword new as follows: ClassName::new."
   ]
  },
  {
   "cell_type": "code",
   "execution_count": 21,
   "metadata": {},
   "outputs": [
    {
     "data": {
      "text/plain": [
       "Apple{color='white', weight=0}"
      ]
     },
     "execution_count": 21,
     "metadata": {},
     "output_type": "execute_result"
    }
   ],
   "source": [
    "import java.util.function.Supplier;\n",
    "\n",
    "Supplier<Apple> c1 = Apple::new;\n",
    "Apple a1 = c1.get();\n",
    "\n",
    "a1"
   ]
  },
  {
   "cell_type": "code",
   "execution_count": 22,
   "metadata": {},
   "outputs": [
    {
     "data": {
      "text/plain": [
       "Apple{color='', weight=110}"
      ]
     },
     "execution_count": 22,
     "metadata": {},
     "output_type": "execute_result"
    }
   ],
   "source": [
    "import java.util.function.Function;\n",
    "Function<Integer, Apple> c2 = Apple::new;\n",
    "Apple a2 = c2.apply(110);\n",
    "\n",
    "a2"
   ]
  },
  {
   "cell_type": "code",
   "execution_count": 23,
   "metadata": {},
   "outputs": [
    {
     "data": {
      "text/plain": [
       "[Apple{color='', weight=7}, Apple{color='', weight=3}, Apple{color='', weight=4}, Apple{color='', weight=10}]"
      ]
     },
     "execution_count": 23,
     "metadata": {},
     "output_type": "execute_result"
    }
   ],
   "source": [
    "List<Integer> weights = Arrays.asList(7, 3, 4, 10);\n",
    "List<Apple> apples = map(weights, Apple::new);\n",
    "\n",
    "public List<Apple> map(List<Integer> list, Function<Integer, Apple> f) {\n",
    "    List<Apple> result = new ArrayList<>();\n",
    "    for(Integer i: list) {\n",
    "        result.add(f.apply(i)); \n",
    "    }\n",
    "    return result;\n",
    "}\n",
    "\n",
    "apples"
   ]
  },
  {
   "cell_type": "code",
   "execution_count": 24,
   "metadata": {},
   "outputs": [
    {
     "data": {
      "text/plain": [
       "Apple{color='green', weight=110}"
      ]
     },
     "execution_count": 24,
     "metadata": {},
     "output_type": "execute_result"
    }
   ],
   "source": [
    "import java.util.function.BiFunction;\n",
    "\n",
    "BiFunction<Integer, String, Apple> c3 = Apple::new;\n",
    "Apple a3 = c3.apply(110, \"green\");\n",
    "\n",
    "a3"
   ]
  },
  {
   "cell_type": "markdown",
   "metadata": {},
   "source": [
    "Because there isn’t one in the functional interface starter set, you can create your own for tri function."
   ]
  },
  {
   "cell_type": "code",
   "execution_count": 25,
   "metadata": {},
   "outputs": [],
   "source": [
    "public interface TriFunction<T, U, V, R> {\n",
    "    R apply(T t, U u, V v);\n",
    "}"
   ]
  },
  {
   "cell_type": "markdown",
   "metadata": {},
   "source": [
    "The above function can be used in the case of RGB.\n",
    "\n",
    "```\n",
    "TriFunction<Integer, Integer, Integer, RGB> colorFactory = RGB::new;\n",
    "```"
   ]
  },
  {
   "cell_type": "markdown",
   "metadata": {},
   "source": [
    "__Putting lambdas and method references into practice__"
   ]
  },
  {
   "cell_type": "code",
   "execution_count": 26,
   "metadata": {},
   "outputs": [],
   "source": [
    "inventory = getInventory();"
   ]
  },
  {
   "cell_type": "markdown",
   "metadata": {},
   "source": [
    "__1st Attempt__"
   ]
  },
  {
   "cell_type": "code",
   "execution_count": 27,
   "metadata": {},
   "outputs": [
    {
     "data": {
      "text/plain": [
       "[Apple{color='green', weight=80}, Apple{color='red', weight=220}, Apple{color='green', weight=255}]"
      ]
     },
     "execution_count": 27,
     "metadata": {},
     "output_type": "execute_result"
    }
   ],
   "source": [
    "public class AppleComparator implements Comparator<Apple> {\n",
    "                public int compare(Apple a1, Apple a2){\n",
    "                    return a1.getWeight().compareTo(a2.getWeight());\n",
    "                }\n",
    "}\n",
    "\n",
    "inventory.sort(new AppleComparator());\n",
    "\n",
    "inventory"
   ]
  },
  {
   "cell_type": "markdown",
   "metadata": {},
   "source": [
    "__2nd Attempt__"
   ]
  },
  {
   "cell_type": "code",
   "execution_count": 28,
   "metadata": {},
   "outputs": [
    {
     "data": {
      "text/plain": [
       "[Apple{color='green', weight=80}, Apple{color='red', weight=220}, Apple{color='green', weight=255}]"
      ]
     },
     "execution_count": 28,
     "metadata": {},
     "output_type": "execute_result"
    }
   ],
   "source": [
    "inventory = getInventory();\n",
    "\n",
    "inventory.sort((Apple a1, Apple a2) -> a1.getWeight().compareTo(a2.getWeight()));\n",
    "inventory"
   ]
  },
  {
   "cell_type": "markdown",
   "metadata": {},
   "source": [
    "__3rd Attempt__"
   ]
  },
  {
   "cell_type": "code",
   "execution_count": 29,
   "metadata": {},
   "outputs": [
    {
     "data": {
      "text/plain": [
       "[Apple{color='green', weight=80}, Apple{color='red', weight=220}, Apple{color='green', weight=255}]"
      ]
     },
     "execution_count": 29,
     "metadata": {},
     "output_type": "execute_result"
    }
   ],
   "source": [
    "inventory = getInventory();\n",
    "inventory.sort((a1, a2) -> a1.getWeight().compareTo(a2.getWeight()));\n",
    "\n",
    "inventory"
   ]
  },
  {
   "cell_type": "markdown",
   "metadata": {},
   "source": [
    "__4th Attempt__"
   ]
  },
  {
   "cell_type": "code",
   "execution_count": 30,
   "metadata": {},
   "outputs": [
    {
     "data": {
      "text/plain": [
       "[Apple{color='green', weight=80}, Apple{color='red', weight=220}, Apple{color='green', weight=255}]"
      ]
     },
     "execution_count": 30,
     "metadata": {},
     "output_type": "execute_result"
    }
   ],
   "source": [
    "// Comparator<Apple> c = Comparator.comparing((Apple a) -> a.getWeight());\n",
    "\n",
    "inventory = getInventory();\n",
    "\n",
    "import static java.util.Comparator.comparing;\n",
    "inventory.sort(comparing(apple -> apple.getWeight()));\n",
    "\n",
    "inventory"
   ]
  },
  {
   "cell_type": "markdown",
   "metadata": {},
   "source": [
    "__5th Attempt (Final: See the beauty of code.)__"
   ]
  },
  {
   "cell_type": "code",
   "execution_count": 31,
   "metadata": {},
   "outputs": [
    {
     "data": {
      "text/plain": [
       "[Apple{color='green', weight=80}, Apple{color='red', weight=220}, Apple{color='green', weight=255}]"
      ]
     },
     "execution_count": 31,
     "metadata": {},
     "output_type": "execute_result"
    }
   ],
   "source": [
    "inventory = getInventory();\n",
    "\n",
    "inventory.sort(comparing(Apple::getWeight));\n",
    "\n",
    "inventory"
   ]
  },
  {
   "cell_type": "markdown",
   "metadata": {},
   "source": [
    "Congratulations, this is your final solution! Why is this better than code prior to Java 8? It’s not only because it’s shorter; it’s also obvious what it means. The code reads like the problem statement “sort inventory comparing the weight of the apples.”"
   ]
  },
  {
   "cell_type": "markdown",
   "metadata": {},
   "source": [
    "__Composing Comparators__\n",
    "\n",
    "The interface includes a default method reversed that reverses the ordering of a given comparator."
   ]
  },
  {
   "cell_type": "code",
   "execution_count": 32,
   "metadata": {},
   "outputs": [
    {
     "data": {
      "text/plain": [
       "[Apple{color='green', weight=255}, Apple{color='red', weight=220}, Apple{color='green', weight=80}]"
      ]
     },
     "execution_count": 32,
     "metadata": {},
     "output_type": "execute_result"
    }
   ],
   "source": [
    "// Comparator<Apple> c = Comparator.comparing(Apple::getWeight);\n",
    "// REVERSED ORDER\n",
    "\n",
    "inventory = getInventory();\n",
    "inventory.sort(comparing(Apple::getWeight).reversed());\n",
    "\n",
    "inventory"
   ]
  },
  {
   "cell_type": "markdown",
   "metadata": {},
   "source": [
    "CHAINING COMPARATORS\n",
    "\n",
    "```\n",
    "inventory.sort(comparing(Apple::getWeight) .reversed()\n",
    "         .thenComparing(Apple::getCountry));\n",
    "         ```"
   ]
  },
  {
   "cell_type": "markdown",
   "metadata": {},
   "source": [
    "__Composing Predicates__\n",
    "\n",
    "The Predicate interface includes three methods that let you reuse an existing Predicate to create more complicated ones: negate, and, and or."
   ]
  },
  {
   "cell_type": "code",
   "execution_count": 33,
   "metadata": {},
   "outputs": [],
   "source": [
    "// Predicate<Apple> notRedApple = redApple.negate();"
   ]
  },
  {
   "cell_type": "markdown",
   "metadata": {},
   "source": [
    "__Composing Functions__"
   ]
  },
  {
   "cell_type": "markdown",
   "metadata": {},
   "source": [
    "Finally, you can also compose lambda expressions represented by the Function inter- face. The Function interface comes with two default methods for this, andThen and compose, which both return an instance of Function.\n",
    "\n",
    "For example, given a function f that increments a number (x -> x + 1) and another function g that multiples a number by 2, you can combine them to create a function h that first increments a number and then multiplies the result by 2:"
   ]
  },
  {
   "cell_type": "code",
   "execution_count": 34,
   "metadata": {},
   "outputs": [
    {
     "data": {
      "text/plain": [
       "4"
      ]
     },
     "execution_count": 34,
     "metadata": {},
     "output_type": "execute_result"
    }
   ],
   "source": [
    "Function<Integer, Integer> f = x -> x + 1; \n",
    "Function<Integer, Integer> g = x -> x * 2; \n",
    "Function<Integer, Integer> h = f.andThen(g); \n",
    "int result = h.apply(1);\n",
    "\n",
    "result"
   ]
  },
  {
   "cell_type": "markdown",
   "metadata": {},
   "source": [
    "You can also use the method compose similarly to first apply the function given as argu- ment to compose and then apply the function to the result. For example, in the previous example using compose, it would mean f(g(x)) instead of g(f(x)) using andThen:"
   ]
  },
  {
   "cell_type": "code",
   "execution_count": 35,
   "metadata": {},
   "outputs": [
    {
     "data": {
      "text/plain": [
       "3"
      ]
     },
     "execution_count": 35,
     "metadata": {},
     "output_type": "execute_result"
    }
   ],
   "source": [
    "Function<Integer, Integer> f = x -> x + 1; \n",
    "Function<Integer, Integer> g = x -> x * 2; \n",
    "Function<Integer, Integer> h = f.compose(g); \n",
    "int result = h.apply(1);\n",
    "\n",
    "result"
   ]
  },
  {
   "cell_type": "code",
   "execution_count": 41,
   "metadata": {},
   "outputs": [],
   "source": [
    "public class Letter{\n",
    "    public static String addHeader(String text) {\n",
    "        return \"From Honey, Raoul, Mario and Alan: \" + text;\n",
    "    }\n",
    "    public static String addFooter(String text) {\n",
    "        return text + \" Kind regards\";\n",
    "    }\n",
    "    public static String checkSpelling(String text) {\n",
    "        return text.replaceAll(\"labda\", \"lambda\"); \n",
    "    }\n",
    "}"
   ]
  },
  {
   "cell_type": "code",
   "execution_count": 42,
   "metadata": {},
   "outputs": [
    {
     "data": {
      "text/plain": [
       "From Honey, Raoul, Mario and Alan: Testing lambda! Kind regards"
      ]
     },
     "execution_count": 42,
     "metadata": {},
     "output_type": "execute_result"
    }
   ],
   "source": [
    "Function<String, String> addHeader = Letter::addHeader;\n",
    "Function<String, String> transformationPipelineWithSpellingCheck = addHeader.andThen(Letter::checkSpelling).andThen(Letter::addFooter);\n",
    "String result = transformationPipelineWithSpellingCheck.apply(\"Testing labda!\");\n",
    "\n",
    "result"
   ]
  },
  {
   "cell_type": "code",
   "execution_count": 44,
   "metadata": {},
   "outputs": [
    {
     "data": {
      "text/plain": [
       "From Honey, Raoul, Mario and Alan: Testing labda! Kind regards"
      ]
     },
     "execution_count": 44,
     "metadata": {},
     "output_type": "execute_result"
    }
   ],
   "source": [
    "Function<String, String> addHeader = Letter::addHeader;\n",
    "Function<String, String> transformationPipeline = addHeader.andThen(Letter::addFooter);\n",
    "\n",
    "String result = transformationPipeline.apply(\"Testing labda!\");\n",
    "\n",
    "result"
   ]
  },
  {
   "cell_type": "markdown",
   "metadata": {},
   "source": [
    "## Summary\n",
    "\n",
    "* A lambda expression can be understood as a kind of anonymous function: it doesn’t have a name, but it has a list of parameters, a body, a return type, and also possi- bly a list of exceptions that can be thrown.\n",
    "\n",
    "* Lambda expressions let you pass code concisely.\n",
    "\n",
    "* A functional interface is an interface that declares exactly one abstract method.\n",
    "\n",
    "* Lambda expressions can be used only where a functional interface is expected.\n",
    "\n",
    "* Lambda expressions let you provide the implementation of the abstract method of a functional interface directly inline and treat the whole expression as an instance of a functional interface.\n",
    "\n",
    "* Java 8 comes with a list of common functional interfaces in the java.util.function package, which includes Predicate\\<T>, Function\\<T, R>, Supplier\\<T>, Consumer\\<T>, and BinaryOperator\\<T>, described in table 3.2.\n",
    "\n",
    "* Primitive specializations of common generic functional interfaces such as Predicate\\<T> and Function\\<T, R> can be used to avoid boxing operations: IntPredicate, IntToLongFunction, and so on.\n",
    "\n",
    "* The execute-around pattern (for when you need to execute some given behav- ior in the middle of boilerplate code that’s necessary in a method, for example, resource allocation and cleanup) can be used with lambdas to gain additional flexibility and reusability.\n",
    "\n",
    "* The type expected for a lambda expression is called the target type.\n",
    "\n",
    "* Method references let you reuse an existing method implementation and pass it around directly.\n",
    "\n",
    "* Functional interfaces such as Comparator, Predicate, and Function have several default methods that can be used to combine lambda expressions."
   ]
  }
 ],
 "metadata": {
  "kernelspec": {
   "display_name": "Java",
   "language": "java",
   "name": "java"
  },
  "language_info": {
   "codemirror_mode": "java",
   "file_extension": ".jshell",
   "mimetype": "text/x-java-source",
   "name": "Java",
   "pygments_lexer": "java",
   "version": "12.0.1+12"
  }
 },
 "nbformat": 4,
 "nbformat_minor": 4
}
